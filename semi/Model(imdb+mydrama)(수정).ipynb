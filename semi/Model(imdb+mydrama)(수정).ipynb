{
  "cells": [
    {
      "cell_type": "code",
      "source": [
        "%%capture\n",
        "!pip install contextualized-topic-models==2.2.0"
      ],
      "metadata": {
        "id": "FcdPb2nWWbH9"
      },
      "execution_count": null,
      "outputs": []
    },
    {
      "cell_type": "code",
      "source": [
        "%%capture\n",
        "!pip install pyldavis"
      ],
      "metadata": {
        "id": "UzxclU-hWjkL"
      },
      "execution_count": null,
      "outputs": []
    },
    {
      "cell_type": "code",
      "execution_count": null,
      "metadata": {
        "id": "XfMyjWHoVxT8"
      },
      "outputs": [],
      "source": [
        "import warnings\n",
        "warnings.filterwarnings('ignore')"
      ]
    },
    {
      "cell_type": "code",
      "execution_count": null,
      "metadata": {
        "id": "WBYkhrzhBzHe"
      },
      "outputs": [],
      "source": [
        "from contextualized_topic_models.models.ctm import CombinedTM\n",
        "from contextualized_topic_models.utils.data_preparation import TopicModelDataPreparation, bert_embeddings_from_list\n",
        "from contextualized_topic_models.utils.preprocessing import WhiteSpacePreprocessing\n",
        "from sklearn.feature_extraction.text import CountVectorizer, TfidfVectorizer\n",
        "from tqdm import tqdm"
      ]
    },
    {
      "cell_type": "code",
      "execution_count": null,
      "metadata": {
        "id": "L6jV0cDWDcbH"
      },
      "outputs": [],
      "source": [
        "import re\n",
        "import pandas as pd\n",
        "import numpy as np\n",
        "import string\n",
        "from tensorflow.keras.preprocessing.text import text_to_word_sequence\n",
        "import nltk\n",
        "from nltk.stem import WordNetLemmatizer\n",
        "from collections import Counter"
      ]
    },
    {
      "cell_type": "code",
      "execution_count": null,
      "metadata": {
        "id": "NXLWXsSLOe2c"
      },
      "outputs": [],
      "source": [
        "from nltk.tokenize import word_tokenize"
      ]
    },
    {
      "cell_type": "code",
      "source": [
        "nltk.download('stopwords')"
      ],
      "metadata": {
        "colab": {
          "base_uri": "https://localhost:8080/"
        },
        "id": "phb9CrvgWz91",
        "outputId": "c7de467b-2028-4229-bf68-c94e365cfd8f"
      },
      "execution_count": null,
      "outputs": [
        {
          "output_type": "stream",
          "name": "stdout",
          "text": [
            "[nltk_data] Downloading package stopwords to /root/nltk_data...\n",
            "[nltk_data]   Unzipping corpora/stopwords.zip.\n"
          ]
        },
        {
          "output_type": "execute_result",
          "data": {
            "text/plain": [
              "True"
            ]
          },
          "metadata": {},
          "execution_count": 7
        }
      ]
    },
    {
      "cell_type": "code",
      "execution_count": null,
      "metadata": {
        "id": "wBXHJHG4Vw3K"
      },
      "outputs": [],
      "source": [
        "from nltk.corpus import stopwords\n",
        "\n",
        "stop_words = set(stopwords.words('english'))\n",
        "stop_words.update(('\\r', '\\n', '\\r\\n', '\\n\\r', \"i've\", 'ever', 'much', 'say', \"i'm\", \"you're\", \"they're\", \"we're\", \"i'd\", \"you'd\", 'even', 'also', 'look', 'still'))"
      ]
    },
    {
      "cell_type": "code",
      "execution_count": null,
      "metadata": {
        "id": "l_xlHoN8VxUP"
      },
      "outputs": [],
      "source": [
        "imdb = pd.read_csv(\"/content/drive/MyDrive/imdb_review.csv\")\n",
        "mydrama = pd.read_csv('/content/drive/MyDrive/my_dramalist_crawling.csv')"
      ]
    },
    {
      "cell_type": "code",
      "source": [
        "from google.colab import drive\n",
        "drive.mount('/content/drive')"
      ],
      "metadata": {
        "colab": {
          "base_uri": "https://localhost:8080/"
        },
        "id": "BCGPSOWzXBXG",
        "outputId": "903f780d-b203-4586-8c50-3351df7f4829"
      },
      "execution_count": null,
      "outputs": [
        {
          "output_type": "stream",
          "name": "stdout",
          "text": [
            "Mounted at /content/drive\n"
          ]
        }
      ]
    },
    {
      "cell_type": "code",
      "execution_count": null,
      "metadata": {
        "colab": {
          "base_uri": "https://localhost:8080/",
          "height": 424
        },
        "id": "NUdgfpqmVxUQ",
        "outputId": "3c864f20-1fe4-4318-f84f-ea084b02e0bf"
      },
      "outputs": [
        {
          "output_type": "execute_result",
          "data": {
            "text/plain": [
              "      Unnamed: 0   genre                                             review\n",
              "0              0  comedy  This drama was such a delight and surprise to ...\n",
              "1              1  comedy  So this beautiful Romcom has finally come to a...\n",
              "2              2  comedy  \"Encounter\" is % romance, with no filler, so i...\n",
              "3              3  comedy  This drama is a treat for romance drama lovers...\n",
              "4              4  comedy  This review may contain spoilers\\r\\nIt will to...\n",
              "...          ...     ...                                                ...\n",
              "8786        8786  action  Season II, YESSSSS!\\r\\nI love Lee Seung Gi and...\n",
              "8787        8787  action  This review may contain spoilers\\r\\nOne of the...\n",
              "8788        8788  action  This review may contain spoilers\\r\\nTHIS REVIE...\n",
              "8789        8789  action  Its my first review. There are many good kdram...\n",
              "8790        8790  action  extraordinary\\r\\nCan't believe I started revie...\n",
              "\n",
              "[8791 rows x 3 columns]"
            ],
            "text/html": [
              "\n",
              "  <div id=\"df-5d0ed0cf-1b01-4718-8fd5-357a3c81e71f\">\n",
              "    <div class=\"colab-df-container\">\n",
              "      <div>\n",
              "<style scoped>\n",
              "    .dataframe tbody tr th:only-of-type {\n",
              "        vertical-align: middle;\n",
              "    }\n",
              "\n",
              "    .dataframe tbody tr th {\n",
              "        vertical-align: top;\n",
              "    }\n",
              "\n",
              "    .dataframe thead th {\n",
              "        text-align: right;\n",
              "    }\n",
              "</style>\n",
              "<table border=\"1\" class=\"dataframe\">\n",
              "  <thead>\n",
              "    <tr style=\"text-align: right;\">\n",
              "      <th></th>\n",
              "      <th>Unnamed: 0</th>\n",
              "      <th>genre</th>\n",
              "      <th>review</th>\n",
              "    </tr>\n",
              "  </thead>\n",
              "  <tbody>\n",
              "    <tr>\n",
              "      <th>0</th>\n",
              "      <td>0</td>\n",
              "      <td>comedy</td>\n",
              "      <td>This drama was such a delight and surprise to ...</td>\n",
              "    </tr>\n",
              "    <tr>\n",
              "      <th>1</th>\n",
              "      <td>1</td>\n",
              "      <td>comedy</td>\n",
              "      <td>So this beautiful Romcom has finally come to a...</td>\n",
              "    </tr>\n",
              "    <tr>\n",
              "      <th>2</th>\n",
              "      <td>2</td>\n",
              "      <td>comedy</td>\n",
              "      <td>\"Encounter\" is % romance, with no filler, so i...</td>\n",
              "    </tr>\n",
              "    <tr>\n",
              "      <th>3</th>\n",
              "      <td>3</td>\n",
              "      <td>comedy</td>\n",
              "      <td>This drama is a treat for romance drama lovers...</td>\n",
              "    </tr>\n",
              "    <tr>\n",
              "      <th>4</th>\n",
              "      <td>4</td>\n",
              "      <td>comedy</td>\n",
              "      <td>This review may contain spoilers\\r\\nIt will to...</td>\n",
              "    </tr>\n",
              "    <tr>\n",
              "      <th>...</th>\n",
              "      <td>...</td>\n",
              "      <td>...</td>\n",
              "      <td>...</td>\n",
              "    </tr>\n",
              "    <tr>\n",
              "      <th>8786</th>\n",
              "      <td>8786</td>\n",
              "      <td>action</td>\n",
              "      <td>Season II, YESSSSS!\\r\\nI love Lee Seung Gi and...</td>\n",
              "    </tr>\n",
              "    <tr>\n",
              "      <th>8787</th>\n",
              "      <td>8787</td>\n",
              "      <td>action</td>\n",
              "      <td>This review may contain spoilers\\r\\nOne of the...</td>\n",
              "    </tr>\n",
              "    <tr>\n",
              "      <th>8788</th>\n",
              "      <td>8788</td>\n",
              "      <td>action</td>\n",
              "      <td>This review may contain spoilers\\r\\nTHIS REVIE...</td>\n",
              "    </tr>\n",
              "    <tr>\n",
              "      <th>8789</th>\n",
              "      <td>8789</td>\n",
              "      <td>action</td>\n",
              "      <td>Its my first review. There are many good kdram...</td>\n",
              "    </tr>\n",
              "    <tr>\n",
              "      <th>8790</th>\n",
              "      <td>8790</td>\n",
              "      <td>action</td>\n",
              "      <td>extraordinary\\r\\nCan't believe I started revie...</td>\n",
              "    </tr>\n",
              "  </tbody>\n",
              "</table>\n",
              "<p>8791 rows × 3 columns</p>\n",
              "</div>\n",
              "      <button class=\"colab-df-convert\" onclick=\"convertToInteractive('df-5d0ed0cf-1b01-4718-8fd5-357a3c81e71f')\"\n",
              "              title=\"Convert this dataframe to an interactive table.\"\n",
              "              style=\"display:none;\">\n",
              "        \n",
              "  <svg xmlns=\"http://www.w3.org/2000/svg\" height=\"24px\"viewBox=\"0 0 24 24\"\n",
              "       width=\"24px\">\n",
              "    <path d=\"M0 0h24v24H0V0z\" fill=\"none\"/>\n",
              "    <path d=\"M18.56 5.44l.94 2.06.94-2.06 2.06-.94-2.06-.94-.94-2.06-.94 2.06-2.06.94zm-11 1L8.5 8.5l.94-2.06 2.06-.94-2.06-.94L8.5 2.5l-.94 2.06-2.06.94zm10 10l.94 2.06.94-2.06 2.06-.94-2.06-.94-.94-2.06-.94 2.06-2.06.94z\"/><path d=\"M17.41 7.96l-1.37-1.37c-.4-.4-.92-.59-1.43-.59-.52 0-1.04.2-1.43.59L10.3 9.45l-7.72 7.72c-.78.78-.78 2.05 0 2.83L4 21.41c.39.39.9.59 1.41.59.51 0 1.02-.2 1.41-.59l7.78-7.78 2.81-2.81c.8-.78.8-2.07 0-2.86zM5.41 20L4 18.59l7.72-7.72 1.47 1.35L5.41 20z\"/>\n",
              "  </svg>\n",
              "      </button>\n",
              "      \n",
              "  <style>\n",
              "    .colab-df-container {\n",
              "      display:flex;\n",
              "      flex-wrap:wrap;\n",
              "      gap: 12px;\n",
              "    }\n",
              "\n",
              "    .colab-df-convert {\n",
              "      background-color: #E8F0FE;\n",
              "      border: none;\n",
              "      border-radius: 50%;\n",
              "      cursor: pointer;\n",
              "      display: none;\n",
              "      fill: #1967D2;\n",
              "      height: 32px;\n",
              "      padding: 0 0 0 0;\n",
              "      width: 32px;\n",
              "    }\n",
              "\n",
              "    .colab-df-convert:hover {\n",
              "      background-color: #E2EBFA;\n",
              "      box-shadow: 0px 1px 2px rgba(60, 64, 67, 0.3), 0px 1px 3px 1px rgba(60, 64, 67, 0.15);\n",
              "      fill: #174EA6;\n",
              "    }\n",
              "\n",
              "    [theme=dark] .colab-df-convert {\n",
              "      background-color: #3B4455;\n",
              "      fill: #D2E3FC;\n",
              "    }\n",
              "\n",
              "    [theme=dark] .colab-df-convert:hover {\n",
              "      background-color: #434B5C;\n",
              "      box-shadow: 0px 1px 3px 1px rgba(0, 0, 0, 0.15);\n",
              "      filter: drop-shadow(0px 1px 2px rgba(0, 0, 0, 0.3));\n",
              "      fill: #FFFFFF;\n",
              "    }\n",
              "  </style>\n",
              "\n",
              "      <script>\n",
              "        const buttonEl =\n",
              "          document.querySelector('#df-5d0ed0cf-1b01-4718-8fd5-357a3c81e71f button.colab-df-convert');\n",
              "        buttonEl.style.display =\n",
              "          google.colab.kernel.accessAllowed ? 'block' : 'none';\n",
              "\n",
              "        async function convertToInteractive(key) {\n",
              "          const element = document.querySelector('#df-5d0ed0cf-1b01-4718-8fd5-357a3c81e71f');\n",
              "          const dataTable =\n",
              "            await google.colab.kernel.invokeFunction('convertToInteractive',\n",
              "                                                     [key], {});\n",
              "          if (!dataTable) return;\n",
              "\n",
              "          const docLinkHtml = 'Like what you see? Visit the ' +\n",
              "            '<a target=\"_blank\" href=https://colab.research.google.com/notebooks/data_table.ipynb>data table notebook</a>'\n",
              "            + ' to learn more about interactive tables.';\n",
              "          element.innerHTML = '';\n",
              "          dataTable['output_type'] = 'display_data';\n",
              "          await google.colab.output.renderOutput(dataTable, element);\n",
              "          const docLink = document.createElement('div');\n",
              "          docLink.innerHTML = docLinkHtml;\n",
              "          element.appendChild(docLink);\n",
              "        }\n",
              "      </script>\n",
              "    </div>\n",
              "  </div>\n",
              "  "
            ]
          },
          "metadata": {},
          "execution_count": 12
        }
      ],
      "source": [
        "mydrama = mydrama.drop(['Unnamed: 0.1'], axis=1)\n",
        "mydrama"
      ]
    },
    {
      "cell_type": "code",
      "source": [
        "action_review = (imdb['genre'] =='action')\n",
        "thriller_review = (imdb['genre'] == 'thriller')\n",
        "comedy_review = (imdb['genre'] == 'comedy')\n",
        "\n",
        "df_action_review = imdb[action_review]['review']\n",
        "df_thriller_review = imdb[thriller_review]['review']\n",
        "df_comedy_review = imdb[comedy_review]['review']"
      ],
      "metadata": {
        "id": "qVJC5Rl3qCkM"
      },
      "execution_count": null,
      "outputs": []
    },
    {
      "cell_type": "code",
      "execution_count": null,
      "metadata": {
        "colab": {
          "base_uri": "https://localhost:8080/"
        },
        "id": "tXHCkRLrVxUU",
        "outputId": "bf1a96a2-32c6-4aa6-e36e-86aaef251318"
      },
      "outputs": [
        {
          "output_type": "execute_result",
          "data": {
            "text/plain": [
              "array(['drama', 'crime', 'comedy', 'thriller', 'romance', 'action',\n",
              "       'fantasy'], dtype=object)"
            ]
          },
          "metadata": {},
          "execution_count": 13
        }
      ],
      "source": [
        "# df = pd.concat([imdb, mydrama])\n",
        "# df['genre'].unique()"
      ]
    },
    {
      "cell_type": "code",
      "execution_count": null,
      "metadata": {
        "id": "SR6wBuGsUkLk"
      },
      "outputs": [],
      "source": [
        "# drama_review = (df['genre'] =='drama')\n",
        "# thriller_review = (df['genre'] == 'thriller')\n",
        "# comedy_review = (df['genre'] == 'comedy')\n",
        "\n",
        "# df_drama_review = df[drama_review]['review']\n",
        "# df_thriller_review = df[thriller_review]['review']\n",
        "# df_comedy_review = df[comedy_review]['review']"
      ]
    },
    {
      "cell_type": "code",
      "execution_count": null,
      "metadata": {
        "id": "L1W5OjCQUuih"
      },
      "outputs": [],
      "source": [
        "sentence = df_action_review.to_list()"
      ]
    },
    {
      "cell_type": "code",
      "execution_count": null,
      "metadata": {
        "id": "cFXeCgV_U6rA"
      },
      "outputs": [],
      "source": [
        "sent = \",\".join(sentence)"
      ]
    },
    {
      "cell_type": "code",
      "execution_count": null,
      "metadata": {
        "id": "okLi9InideKG"
      },
      "outputs": [],
      "source": [
        "def get_wordnet_pos(pos_tag):\n",
        "    if pos_tag.startswith('V'):\n",
        "        return 'v'\n",
        "    elif pos_tag.startswith('N'):\n",
        "        return 'n'\n",
        "    elif pos_tag.startswith('J'):\n",
        "        return 'a'\n",
        "    elif pos_tag.startswith('R'):\n",
        "        return 'r'\n",
        "    else:\n",
        "        return None"
      ]
    },
    {
      "cell_type": "code",
      "execution_count": null,
      "metadata": {
        "id": "IgS7otW5GgJ4",
        "colab": {
          "base_uri": "https://localhost:8080/"
        },
        "outputId": "0c58b7b3-1b7f-4046-c57a-a417b5166f02"
      },
      "outputs": [
        {
          "output_type": "stream",
          "name": "stderr",
          "text": [
            "<input>:12: DeprecationWarning: invalid escape sequence \\?\n",
            "<input>:12: DeprecationWarning: invalid escape sequence \\?\n",
            "<input>:12: DeprecationWarning: invalid escape sequence \\?\n",
            "<input>:12: DeprecationWarning: invalid escape sequence \\?\n",
            "<input>:12: DeprecationWarning: invalid escape sequence \\?\n",
            "<input>:12: DeprecationWarning: invalid escape sequence \\?\n",
            "<input>:12: DeprecationWarning: invalid escape sequence \\?\n",
            "<input>:12: DeprecationWarning: invalid escape sequence \\?\n",
            "<input>:12: DeprecationWarning: invalid escape sequence \\?\n",
            "<input>:12: DeprecationWarning: invalid escape sequence \\?\n",
            "<input>:12: DeprecationWarning: invalid escape sequence \\?\n",
            "<input>:12: DeprecationWarning: invalid escape sequence \\?\n",
            "<input>:12: DeprecationWarning: invalid escape sequence \\?\n",
            "<input>:12: DeprecationWarning: invalid escape sequence \\?\n",
            "<input>:12: DeprecationWarning: invalid escape sequence \\?\n",
            "<ipython-input-65-1fc2728e24ad>:12: DeprecationWarning: invalid escape sequence \\?\n",
            "  text = re.sub('[-=+,#/\\?:^$.@*\\\"※~&%ㆍ!』\\\\‘|\\(\\)\\[\\]\\<\\>`…》]','', text)\n"
          ]
        }
      ],
      "source": [
        "class CustomTokenizer:\n",
        "    def __init__(self, tagger):\n",
        "        self.tagger = tagger\n",
        "    def __call__(self, a):\n",
        "        a = ''.join(a)\n",
        "        word_tokens = self.tagger(a)\n",
        "        \n",
        "        words = []\n",
        "\n",
        "        for i in word_tokens:\n",
        "            text = re.sub('[^a-zA-Z0-9\\']','',i).strip()\n",
        "            text = re.sub('[-=+,#/\\?:^$.@*\\\"※~&%ㆍ!』\\\\‘|\\(\\)\\[\\]\\<\\>`…》]','', text)\n",
        "            if(text != ''):\n",
        "                words.append(text)\n",
        "        \n",
        "        tag_words = nltk.pos_tag(words)\n",
        "        # pos_words = [word for word in tag_words if word[1][0] in {'V','N','J','R'}]\n",
        "        pos_words = []\n",
        "        for word in tag_words:\n",
        "            if word[1] in ['VB', 'VBP', 'NNP', 'NN', 'JJ']:\n",
        "                pos_words.append(word)\n",
        "        temp_list = []\n",
        "        for token, pos_tag in pos_words:\n",
        "            tag = get_wordnet_pos(pos_tag)\n",
        "            if tag != None:\n",
        "                temp_list.append((token, get_wordnet_pos(pos_tag)))\n",
        "        lemma = WordNetLemmatizer()\n",
        "        token_final = [lemma.lemmatize(token, pos=tag) for token, tag in temp_list]\n",
        "        long_words = [i for i in token_final if len(i) > 2]\n",
        "        results = [w for w in long_words if w not in stop_words]\n",
        "        return results"
      ]
    },
    {
      "cell_type": "code",
      "execution_count": null,
      "metadata": {
        "id": "D8RljGwPMcvS"
      },
      "outputs": [],
      "source": [
        "custom_tokenizer = CustomTokenizer(text_to_word_sequence)"
      ]
    },
    {
      "cell_type": "code",
      "execution_count": null,
      "metadata": {
        "id": "WfkvUwb3Mu0D"
      },
      "outputs": [],
      "source": [
        "vectorizer = TfidfVectorizer(tokenizer=custom_tokenizer, max_features=4000, ngram_range=(1,2), min_df = 0.05, max_df = 0.1)"
      ]
    },
    {
      "cell_type": "code",
      "source": [
        "nltk.download('averaged_perceptron_tagger')"
      ],
      "metadata": {
        "colab": {
          "base_uri": "https://localhost:8080/"
        },
        "id": "oa3xgpbrnkkx",
        "outputId": "786d42f2-6951-4b5f-81a0-8b0db026e2cc"
      },
      "execution_count": null,
      "outputs": [
        {
          "output_type": "stream",
          "name": "stdout",
          "text": [
            "[nltk_data] Downloading package averaged_perceptron_tagger to\n",
            "[nltk_data]     /root/nltk_data...\n",
            "[nltk_data]   Package averaged_perceptron_tagger is already up-to-\n",
            "[nltk_data]       date!\n"
          ]
        },
        {
          "output_type": "execute_result",
          "data": {
            "text/plain": [
              "True"
            ]
          },
          "metadata": {},
          "execution_count": 68
        }
      ]
    },
    {
      "cell_type": "code",
      "source": [
        "nltk.download('wordnet')"
      ],
      "metadata": {
        "colab": {
          "base_uri": "https://localhost:8080/"
        },
        "id": "1GZJl7lanndu",
        "outputId": "5a713a2b-5ef9-406e-ca86-db0b36a43a8c"
      },
      "execution_count": null,
      "outputs": [
        {
          "output_type": "stream",
          "name": "stdout",
          "text": [
            "[nltk_data] Downloading package wordnet to /root/nltk_data...\n",
            "[nltk_data]   Package wordnet is already up-to-date!\n"
          ]
        },
        {
          "output_type": "execute_result",
          "data": {
            "text/plain": [
              "True"
            ]
          },
          "metadata": {},
          "execution_count": 40
        }
      ]
    },
    {
      "cell_type": "code",
      "execution_count": null,
      "metadata": {
        "id": "mk8T-ILVNg20"
      },
      "outputs": [],
      "source": [
        "train_bow_embeddings = vectorizer.fit_transform(sentence)"
      ]
    },
    {
      "cell_type": "code",
      "execution_count": null,
      "metadata": {
        "id": "Q2sjgmchN5Q3"
      },
      "outputs": [],
      "source": [
        "vocab = vectorizer.get_feature_names()\n",
        "id2token = {k: v for k, v in zip(range(0, len(vocab)), vocab)}"
      ]
    },
    {
      "cell_type": "code",
      "execution_count": null,
      "metadata": {
        "id": "QnJx52CzV5f0"
      },
      "outputs": [],
      "source": [
        "from contextualized_topic_models.models.ctm import CombinedTM\n",
        "from contextualized_topic_models.utils.data_preparation import TopicModelDataPreparation, bert_embeddings_from_list\n",
        "from contextualized_topic_models.utils.preprocessing import WhiteSpacePreprocessing\n",
        "from sklearn.feature_extraction.text import CountVectorizer\n",
        "from tqdm import tqdm"
      ]
    },
    {
      "cell_type": "code",
      "execution_count": null,
      "metadata": {
        "colab": {
          "base_uri": "https://localhost:8080/",
          "height": 49,
          "referenced_widgets": [
            "21dd27f9fa5a416cb63fe9f250a981f4",
            "c01d07a0d26e48aca0e2184b843d61c2",
            "ee59c126361144c399f7eb4b8947adbc",
            "f2a3e5f39f814c228d33aee317c1c4b6",
            "cacb760b5eb840a9b357abddbcd65f7f",
            "310babe65fb748f1a346fecc6760c135",
            "02c52620761248d29249142ea9f36aff",
            "0d5d35d1d18a4aa7a78f67ba377685a1",
            "a4f060364bba49d0a9df22003590bf11",
            "5f1d2e4d60f84756850504994f62c862",
            "8c3bc23911b34a92ab1ad7580aae1cb3"
          ]
        },
        "id": "myFolhw_Rbf8",
        "outputId": "54f58bcc-1d9a-41cc-a38d-74de14fa9e70"
      },
      "outputs": [
        {
          "output_type": "display_data",
          "data": {
            "text/plain": [
              "Batches:   0%|          | 0/50 [00:00<?, ?it/s]"
            ],
            "application/vnd.jupyter.widget-view+json": {
              "version_major": 2,
              "version_minor": 0,
              "model_id": "21dd27f9fa5a416cb63fe9f250a981f4"
            }
          },
          "metadata": {}
        }
      ],
      "source": [
        "# train_contextualized_embeddings = bert_embeddings_from_list(sentence, \"sentence-transformers/xlm-r-100langs-bert-base-nli-stsb-mean-tokens\")\n",
        "\n",
        "train_contextualized_embeddings = bert_embeddings_from_list(sentence, 'sentence-transformers/distiluse-base-multilingual-cased-v2')\n",
        "# train_contextualized_embeddings = bert_embeddings_from_list(sentence, 'sentence-transformers/msmarco-distilbert-dot-v5')"
      ]
    },
    {
      "cell_type": "code",
      "execution_count": null,
      "metadata": {
        "id": "xzU3PyjsRius"
      },
      "outputs": [],
      "source": [
        "qt = TopicModelDataPreparation()\n",
        "\n",
        "training_dataset = qt.load(train_contextualized_embeddings, train_bow_embeddings, id2token)"
      ]
    },
    {
      "cell_type": "code",
      "execution_count": null,
      "metadata": {
        "colab": {
          "base_uri": "https://localhost:8080/"
        },
        "id": "N7TTWGgORw8l",
        "outputId": "5f161296-4641-4fcd-a96b-3890a1914f88"
      },
      "outputs": [
        {
          "output_type": "stream",
          "name": "stderr",
          "text": [
            "Epoch: [20/20]\t Seen Samples: [198680/198680]\tTrain Loss: 4.268972272817244\tTime: 0:00:04.370614: : 20it [01:29,  4.49s/it]\n"
          ]
        }
      ],
      "source": [
        "ctm = CombinedTM(bow_size=len(vocab), contextual_size=512, n_components=5, num_epochs=20)\n",
        "ctm.fit(training_dataset)"
      ]
    },
    {
      "cell_type": "code",
      "execution_count": null,
      "metadata": {
        "colab": {
          "base_uri": "https://localhost:8080/"
        },
        "id": "UPBPUwcqR5al",
        "outputId": "205dfe95-239a-472d-d7d5-929fd14eb9d2"
      },
      "outputs": [
        {
          "output_type": "execute_result",
          "data": {
            "text/plain": [
              "defaultdict(list,\n",
              "            {0: ['bad', 'first', 'end', 'last', 'see'],\n",
              "             1: ['zombie', 'make', 'way', 'think', 'lot'],\n",
              "             2: ['drama', 'action', 'acting', 'love', 'character'],\n",
              "             3: ['time', 'character', 'many', 'love', 'think'],\n",
              "             4: ['game', 'squid', 'acting', 'plot', 'think']})"
            ]
          },
          "metadata": {},
          "execution_count": 124
        }
      ],
      "source": [
        "ctm.get_topics(5)"
      ]
    },
    {
      "cell_type": "code",
      "execution_count": null,
      "metadata": {
        "id": "678zjFc5XKNi",
        "colab": {
          "base_uri": "https://localhost:8080/",
          "height": 899
        },
        "outputId": "08e2a127-d4df-4008-9179-9b326a579afe"
      },
      "outputs": [
        {
          "output_type": "stream",
          "name": "stderr",
          "text": [
            "Sampling: [10/10]: : 10it [00:34,  3.48s/it]\n"
          ]
        },
        {
          "output_type": "execute_result",
          "data": {
            "text/plain": [
              "<IPython.core.display.HTML object>"
            ],
            "text/html": [
              "\n",
              "<link rel=\"stylesheet\" type=\"text/css\" href=\"https://cdn.jsdelivr.net/gh/bmabey/pyLDAvis@3.3.1/pyLDAvis/js/ldavis.v1.0.0.css\">\n",
              "\n",
              "\n",
              "<div id=\"ldavis_el721406881065966888250449529\"></div>\n",
              "<script type=\"text/javascript\">\n",
              "\n",
              "var ldavis_el721406881065966888250449529_data = {\"mdsDat\": {\"x\": [-0.0025708921943336342, -4.955669551981629e-05, 0.018583571914290286, 0.005020023592978429, -0.02098314661741526], \"y\": [0.005452411368921983, -0.0008817187030057606, -0.013412402175015615, 0.01725755323190563, -0.008415843722806255], \"topics\": [1, 2, 3, 4, 5], \"cluster\": [1, 1, 1, 1, 1], \"Freq\": [22.691497533342677, 20.36884172373513, 19.594735444962446, 19.419739323745777, 17.92518597421397]}, \"tinfo\": {\"Term\": [\"drama\", \"time\", \"love\", \"character\", \"zombie\", \"action\", \"acting\", \"think\", \"many\", \"bad\", \"see\", \"plot\", \"main\", \"first\", \"last\", \"lot\", \"game\", \"squid\", \"make\", \"end\", \"way\", \"get\", \"game\", \"squid\", \"plot\", \"acting\", \"main\", \"think\", \"character\", \"way\", \"make\", \"first\", \"end\", \"lot\", \"get\", \"last\", \"time\", \"see\", \"bad\", \"many\", \"action\", \"zombie\", \"love\", \"drama\", \"zombie\", \"make\", \"way\", \"think\", \"lot\", \"many\", \"love\", \"plot\", \"drama\", \"first\", \"see\", \"bad\", \"character\", \"get\", \"time\", \"acting\", \"game\", \"end\", \"last\", \"squid\", \"action\", \"main\", \"drama\", \"action\", \"love\", \"acting\", \"character\", \"plot\", \"lot\", \"main\", \"zombie\", \"end\", \"first\", \"way\", \"get\", \"last\", \"bad\", \"game\", \"many\", \"squid\", \"time\", \"see\", \"make\", \"think\", \"bad\", \"first\", \"end\", \"last\", \"get\", \"see\", \"lot\", \"acting\", \"action\", \"think\", \"way\", \"make\", \"many\", \"squid\", \"main\", \"drama\", \"time\", \"game\", \"zombie\", \"love\", \"plot\", \"character\", \"time\", \"many\", \"character\", \"love\", \"main\", \"see\", \"think\", \"last\", \"plot\", \"squid\", \"make\", \"get\", \"action\", \"bad\", \"zombie\", \"game\", \"end\", \"way\", \"drama\", \"first\", \"lot\", \"acting\"], \"Freq\": [335.0, 351.0, 360.0, 380.0, 326.0, 347.0, 386.0, 393.0, 359.0, 351.0, 377.0, 358.0, 370.0, 366.0, 371.0, 381.0, 348.0, 356.0, 368.0, 358.0, 355.0, 358.0, 129.32747869482853, 123.36126194144451, 103.81191424508854, 106.66854581448608, 97.42278140716402, 100.78811508726378, 96.64574373150758, 84.72584341634632, 87.52227391117489, 85.88732209666715, 83.96270606711457, 87.28425775976909, 80.883891518513, 78.48949967997076, 68.86919420976936, 72.82536584411568, 60.28467856714455, 61.50332772761036, 56.484447852548136, 47.97860307384294, 48.73158793175433, 44.36118118222867, 119.39143687750936, 102.38302135918754, 97.59282757664738, 96.42368905915438, 86.34692119835262, 78.41719912305982, 77.57317126107291, 75.58733572213566, 70.1739129318399, 76.58286506495408, 78.30899414299505, 69.98539602596024, 72.17903300546661, 65.68542236959655, 63.12475051888774, 67.33405663566757, 59.33384626116502, 58.91974866188813, 57.82446568053969, 54.78018122604173, 49.95626973433842, 44.87072030561554, 131.4112584483879, 115.42149212188582, 103.80245655204072, 104.75404502857916, 86.35884671203978, 80.8159083889211, 83.76207116188398, 79.75198073692803, 63.798986197266544, 66.47101509578819, 65.5151754447787, 60.60862805352454, 60.742827919590255, 61.06215451197205, 57.34145217573582, 54.928122655012196, 55.83046496818416, 52.06533175238725, 48.321303204381664, 48.38687655287465, 46.95723449294798, 32.99487420770801, 106.68281196961021, 101.22603300714451, 95.4888941452836, 95.23970391749434, 91.22008427731959, 93.66336463404565, 89.52752730558265, 81.1552197961714, 69.24754646290607, 76.91670929278443, 67.4129277186573, 69.84654824372441, 67.71916052038965, 64.73528117174749, 65.70656110691151, 53.291948338345996, 55.10174315959053, 51.7866226502851, 45.212265717453015, 42.848160245869565, 33.48935971915598, 29.64238939720551, 116.47860708619696, 95.78308626536459, 96.03334147729291, 87.91340041832004, 83.14796448964663, 84.11564457602586, 86.84444251583793, 79.03384647829355, 64.61433694487033, 61.312489682080795, 62.086743344240425, 60.20256738478899, 56.697616524512476, 56.78474832427783, 50.55276046116092, 52.666156149803335, 53.72804902419359, 44.719100797081204, 36.440733931220294, 37.240329657623555, 34.68716789057087, 27.006963649726263], \"Total\": [335.0, 351.0, 360.0, 380.0, 326.0, 347.0, 386.0, 393.0, 359.0, 351.0, 377.0, 358.0, 370.0, 366.0, 371.0, 381.0, 348.0, 356.0, 368.0, 358.0, 355.0, 358.0, 348.0422264110942, 356.2545457737018, 358.3188550201716, 386.9188309246305, 370.9000080462657, 393.96783016274856, 380.85935432351243, 355.0593275622567, 368.7958213512752, 366.45172527116796, 358.57041299426805, 381.6079453161592, 358.7347934698084, 371.64967026827037, 351.8955981788262, 377.3002457500569, 351.07908706272866, 359.2532386046086, 347.8073726961909, 326.9340523272328, 360.86877640905755, 335.67903483202275, 326.9340523272328, 368.7958213512752, 355.0593275622567, 393.96783016274856, 381.6079453161592, 359.2532386046086, 360.86877640905755, 358.3188550201716, 335.67903483202275, 366.45172527116796, 377.3002457500569, 351.07908706272866, 380.85935432351243, 358.7347934698084, 351.8955981788262, 386.9188309246305, 348.0422264110942, 358.57041299426805, 371.64967026827037, 356.2545457737018, 347.8073726961909, 370.9000080462657, 335.67903483202275, 347.8073726961909, 360.86877640905755, 386.9188309246305, 380.85935432351243, 358.3188550201716, 381.6079453161592, 370.9000080462657, 326.9340523272328, 358.57041299426805, 366.45172527116796, 355.0593275622567, 358.7347934698084, 371.64967026827037, 351.07908706272866, 348.0422264110942, 359.2532386046086, 356.2545457737018, 351.8955981788262, 377.3002457500569, 368.7958213512752, 393.96783016274856, 351.07908706272866, 366.45172527116796, 358.57041299426805, 371.64967026827037, 358.7347934698084, 377.3002457500569, 381.6079453161592, 386.9188309246305, 347.8073726961909, 393.96783016274856, 355.0593275622567, 368.7958213512752, 359.2532386046086, 356.2545457737018, 370.9000080462657, 335.67903483202275, 351.8955981788262, 348.0422264110942, 326.9340523272328, 360.86877640905755, 358.3188550201716, 380.85935432351243, 351.8955981788262, 359.2532386046086, 380.85935432351243, 360.86877640905755, 370.9000080462657, 377.3002457500569, 393.96783016274856, 371.64967026827037, 358.3188550201716, 356.2545457737018, 368.7958213512752, 358.7347934698084, 347.8073726961909, 351.07908706272866, 326.9340523272328, 348.0422264110942, 358.57041299426805, 355.0593275622567, 335.67903483202275, 366.45172527116796, 381.6079453161592, 386.9188309246305], \"Category\": [\"Default\", \"Default\", \"Default\", \"Default\", \"Default\", \"Default\", \"Default\", \"Default\", \"Default\", \"Default\", \"Default\", \"Default\", \"Default\", \"Default\", \"Default\", \"Default\", \"Default\", \"Default\", \"Default\", \"Default\", \"Default\", \"Default\", \"Topic1\", \"Topic1\", \"Topic1\", \"Topic1\", \"Topic1\", \"Topic1\", \"Topic1\", \"Topic1\", \"Topic1\", \"Topic1\", \"Topic1\", \"Topic1\", \"Topic1\", \"Topic1\", \"Topic1\", \"Topic1\", \"Topic1\", \"Topic1\", \"Topic1\", \"Topic1\", \"Topic1\", \"Topic1\", \"Topic2\", \"Topic2\", \"Topic2\", \"Topic2\", \"Topic2\", \"Topic2\", \"Topic2\", \"Topic2\", \"Topic2\", \"Topic2\", \"Topic2\", \"Topic2\", \"Topic2\", \"Topic2\", \"Topic2\", \"Topic2\", \"Topic2\", \"Topic2\", \"Topic2\", \"Topic2\", \"Topic2\", \"Topic2\", \"Topic3\", \"Topic3\", \"Topic3\", \"Topic3\", \"Topic3\", \"Topic3\", \"Topic3\", \"Topic3\", \"Topic3\", \"Topic3\", \"Topic3\", \"Topic3\", \"Topic3\", \"Topic3\", \"Topic3\", \"Topic3\", \"Topic3\", \"Topic3\", \"Topic3\", \"Topic3\", \"Topic3\", \"Topic3\", \"Topic4\", \"Topic4\", \"Topic4\", \"Topic4\", \"Topic4\", \"Topic4\", \"Topic4\", \"Topic4\", \"Topic4\", \"Topic4\", \"Topic4\", \"Topic4\", \"Topic4\", \"Topic4\", \"Topic4\", \"Topic4\", \"Topic4\", \"Topic4\", \"Topic4\", \"Topic4\", \"Topic4\", \"Topic4\", \"Topic5\", \"Topic5\", \"Topic5\", \"Topic5\", \"Topic5\", \"Topic5\", \"Topic5\", \"Topic5\", \"Topic5\", \"Topic5\", \"Topic5\", \"Topic5\", \"Topic5\", \"Topic5\", \"Topic5\", \"Topic5\", \"Topic5\", \"Topic5\", \"Topic5\", \"Topic5\", \"Topic5\", \"Topic5\"], \"logprob\": [22.0, 21.0, 20.0, 19.0, 18.0, 17.0, 16.0, 15.0, 14.0, 13.0, 12.0, 11.0, 10.0, 9.0, 8.0, 7.0, 6.0, 5.0, 4.0, 3.0, 2.0, 1.0, -2.6375, -2.6848, -2.8573, -2.8302, -2.9208, -2.8869, -2.9288, -3.0605, -3.028, -3.0468, -3.0695, -3.0307, -3.1069, -3.1369, -3.2677, -3.2118, -3.4008, -3.3808, -3.4659, -3.6291, -3.6135, -3.7075, -2.6095, -2.7632, -2.8111, -2.8231, -2.9335, -3.0298, -3.0407, -3.0666, -3.1409, -3.0535, -3.0312, -3.1436, -3.1127, -3.207, -3.2468, -3.1822, -3.3087, -3.3157, -3.3345, -3.3886, -3.4807, -3.5881, -2.4748, -2.6046, -2.7107, -2.7015, -2.8946, -2.961, -2.9252, -2.9742, -3.1974, -3.1564, -3.1709, -3.2487, -3.2465, -3.2413, -3.3041, -3.3471, -3.3308, -3.4006, -3.4753, -3.4739, -3.5039, -3.8568, -2.6743, -2.7268, -2.7852, -2.7878, -2.8309, -2.8045, -2.8496, -2.9478, -3.1065, -3.0015, -3.1333, -3.0979, -3.1288, -3.1739, -3.159, -3.3684, -3.335, -3.397, -3.5328, -3.5865, -3.8329, -3.955, -2.5064, -2.702, -2.6994, -2.7877, -2.8435, -2.8319, -2.8, -2.8942, -3.0957, -3.1481, -3.1356, -3.1664, -3.2264, -3.2248, -3.3411, -3.3001, -3.2802, -3.4637, -3.6684, -3.6467, -3.7177, -3.968], \"loglift\": [22.0, 21.0, 20.0, 19.0, 18.0, 17.0, 16.0, 15.0, 14.0, 13.0, 12.0, 11.0, 10.0, 9.0, 8.0, 7.0, 6.0, 5.0, 4.0, 3.0, 2.0, 1.0, 0.4932, 0.4227, 0.2443, 0.1947, 0.1463, 0.1199, 0.1118, 0.0503, 0.0448, 0.0323, 0.0314, 0.008, -0.0064, -0.0718, -0.1479, -0.1618, -0.2788, -0.2818, -0.3345, -0.4358, -0.519, -0.5406, 0.5838, 0.3096, 0.2997, 0.1836, 0.1051, 0.0692, 0.0539, 0.035, 0.026, 0.0257, 0.0188, -0.0216, -0.0721, -0.1065, -0.1271, -0.1574, -0.178, -0.2148, -0.2694, -0.2812, -0.3493, -0.521, 0.6921, 0.5269, 0.3839, 0.3233, 0.146, 0.1407, 0.1135, 0.0929, -0.0041, -0.0554, -0.0917, -0.1379, -0.146, -0.1762, -0.1821, -0.2164, -0.2318, -0.2932, -0.3556, -0.4239, -0.4311, -0.85, 0.4477, 0.3524, 0.3158, 0.2773, 0.2696, 0.2455, 0.189, 0.077, 0.0249, 0.0053, -0.0226, -0.0251, -0.0298, -0.0665, -0.0919, -0.2015, -0.2153, -0.2663, -0.3395, -0.492, -0.7313, -0.9143, 0.6133, 0.397, 0.3412, 0.3068, 0.2237, 0.2181, 0.2068, 0.1709, 0.006, -0.0407, -0.0627, -0.0659, -0.095, -0.1028, -0.1478, -0.1694, -0.1792, -0.3529, -0.5015, -0.5675, -0.6791, -0.9432]}, \"token.table\": {\"Topic\": [1, 2, 3, 4, 5, 1, 2, 3, 4, 5, 1, 2, 3, 4, 5, 1, 2, 3, 4, 5, 1, 2, 3, 4, 5, 1, 2, 3, 4, 5, 1, 2, 3, 4, 5, 1, 2, 3, 4, 5, 1, 2, 3, 4, 5, 1, 2, 3, 4, 5, 1, 2, 3, 4, 5, 1, 2, 3, 4, 5, 1, 2, 3, 4, 5, 1, 2, 3, 4, 5, 1, 2, 3, 4, 5, 1, 2, 3, 4, 5, 1, 2, 3, 4, 5, 1, 2, 3, 4, 5, 1, 2, 3, 4, 5, 1, 2, 3, 4, 5, 1, 2, 3, 4, 5, 1, 2, 3, 4, 5], \"Freq\": [0.27654379019056574, 0.17316293404455985, 0.27137474738326545, 0.2093462336956619, 0.06978207789855397, 0.16100866282934118, 0.14375773466905462, 0.3306427897388256, 0.19838567384329536, 0.16388381752272227, 0.17090166350261576, 0.19938527408638507, 0.16235658032748498, 0.30477463324633147, 0.16235658032748498, 0.2546871933139012, 0.18904616410928748, 0.22580514046387115, 0.07876923504553646, 0.2520615521457166, 0.13107759327900254, 0.20853253476204947, 0.39025374362612114, 0.1578889191769803, 0.10724530359191116, 0.23426361170893034, 0.1645422987003201, 0.184064266342731, 0.2649409894327188, 0.15059803609859806, 0.23468302662884583, 0.21012317500489683, 0.18010557857562587, 0.2756161126687608, 0.10096827889845691, 0.3706446810497934, 0.16951966032509933, 0.15802680199797395, 0.1494071582526299, 0.15228037283441126, 0.22579354295840576, 0.18397992389203432, 0.1700420508699105, 0.2536692890026534, 0.16725447626548576, 0.20987506848505136, 0.1560609483606792, 0.16413306637933503, 0.25561707059076766, 0.21256577449126995, 0.22798267454290339, 0.225362184030916, 0.2201212030069412, 0.23584414607886559, 0.09171716791955883, 0.1357834293329295, 0.21614505077486737, 0.2881934010331565, 0.11915688696563201, 0.24385595472036317, 0.2615260121210359, 0.12132650046852181, 0.2156915563884832, 0.17794553402049865, 0.22377998975305133, 0.23861441726092844, 0.27657580182516706, 0.12744179103708678, 0.18980692282119307, 0.16811470307019957, 0.17258021177712118, 0.21711704062282988, 0.15587890095998042, 0.18928152259426193, 0.26722097307425213, 0.29024428534229746, 0.21210159313475582, 0.22605564531467398, 0.09209674438745977, 0.18140267833893592, 0.19347986337745182, 0.20673190881426357, 0.12721963619339297, 0.24913845421206124, 0.2226343633384377, 0.3452587523700861, 0.1543839949622336, 0.1459630497824754, 0.18245381222809426, 0.17122588532174998, 0.2563661097868747, 0.24367471821326703, 0.08376318438581054, 0.19544743023355793, 0.22083021338077324, 0.19608088409487748, 0.17903037243445336, 0.13640409328339304, 0.15629635688722118, 0.32964322543486646, 0.23939661178200128, 0.2760102112310132, 0.1718022743376715, 0.18870085869875394, 0.12673938270811833, 0.1468186004434807, 0.3639877802661292, 0.19575813392464092, 0.13764243791576314, 0.15599476297119824], \"Term\": [\"acting\", \"acting\", \"acting\", \"acting\", \"acting\", \"action\", \"action\", \"action\", \"action\", \"action\", \"bad\", \"bad\", \"bad\", \"bad\", \"bad\", \"character\", \"character\", \"character\", \"character\", \"character\", \"drama\", \"drama\", \"drama\", \"drama\", \"drama\", \"end\", \"end\", \"end\", \"end\", \"end\", \"first\", \"first\", \"first\", \"first\", \"first\", \"game\", \"game\", \"game\", \"game\", \"game\", \"get\", \"get\", \"get\", \"get\", \"get\", \"last\", \"last\", \"last\", \"last\", \"last\", \"lot\", \"lot\", \"lot\", \"lot\", \"lot\", \"love\", \"love\", \"love\", \"love\", \"love\", \"main\", \"main\", \"main\", \"main\", \"main\", \"make\", \"make\", \"make\", \"make\", \"make\", \"many\", \"many\", \"many\", \"many\", \"many\", \"plot\", \"plot\", \"plot\", \"plot\", \"plot\", \"see\", \"see\", \"see\", \"see\", \"see\", \"squid\", \"squid\", \"squid\", \"squid\", \"squid\", \"think\", \"think\", \"think\", \"think\", \"think\", \"time\", \"time\", \"time\", \"time\", \"time\", \"way\", \"way\", \"way\", \"way\", \"way\", \"zombie\", \"zombie\", \"zombie\", \"zombie\", \"zombie\"]}, \"R\": 22, \"lambda.step\": 0.01, \"plot.opts\": {\"xlab\": \"PC1\", \"ylab\": \"PC2\"}, \"topic.order\": [5, 2, 3, 1, 4]};\n",
              "\n",
              "function LDAvis_load_lib(url, callback){\n",
              "  var s = document.createElement('script');\n",
              "  s.src = url;\n",
              "  s.async = true;\n",
              "  s.onreadystatechange = s.onload = callback;\n",
              "  s.onerror = function(){console.warn(\"failed to load library \" + url);};\n",
              "  document.getElementsByTagName(\"head\")[0].appendChild(s);\n",
              "}\n",
              "\n",
              "if(typeof(LDAvis) !== \"undefined\"){\n",
              "   // already loaded: just create the visualization\n",
              "   !function(LDAvis){\n",
              "       new LDAvis(\"#\" + \"ldavis_el721406881065966888250449529\", ldavis_el721406881065966888250449529_data);\n",
              "   }(LDAvis);\n",
              "}else if(typeof define === \"function\" && define.amd){\n",
              "   // require.js is available: use it to load d3/LDAvis\n",
              "   require.config({paths: {d3: \"https://d3js.org/d3.v5\"}});\n",
              "   require([\"d3\"], function(d3){\n",
              "      window.d3 = d3;\n",
              "      LDAvis_load_lib(\"https://cdn.jsdelivr.net/gh/bmabey/pyLDAvis@3.3.1/pyLDAvis/js/ldavis.v3.0.0.js\", function(){\n",
              "        new LDAvis(\"#\" + \"ldavis_el721406881065966888250449529\", ldavis_el721406881065966888250449529_data);\n",
              "      });\n",
              "    });\n",
              "}else{\n",
              "    // require.js not available: dynamically load d3 & LDAvis\n",
              "    LDAvis_load_lib(\"https://d3js.org/d3.v5.js\", function(){\n",
              "         LDAvis_load_lib(\"https://cdn.jsdelivr.net/gh/bmabey/pyLDAvis@3.3.1/pyLDAvis/js/ldavis.v3.0.0.js\", function(){\n",
              "                 new LDAvis(\"#\" + \"ldavis_el721406881065966888250449529\", ldavis_el721406881065966888250449529_data);\n",
              "            })\n",
              "         });\n",
              "}\n",
              "</script>"
            ]
          },
          "metadata": {},
          "execution_count": 125
        }
      ],
      "source": [
        "import pyLDAvis as vis\n",
        "\n",
        "lda_vis_data = ctm.get_ldavis_data_format(vocab, training_dataset, n_samples=10)\n",
        "\n",
        "ctm_pd = vis.prepare(**lda_vis_data)\n",
        "vis.display(ctm_pd)"
      ]
    },
    {
      "cell_type": "code",
      "source": [
        ""
      ],
      "metadata": {
        "id": "Z7QarEzcAah8"
      },
      "execution_count": null,
      "outputs": []
    }
  ],
  "metadata": {
    "accelerator": "GPU",
    "colab": {
      "collapsed_sections": [],
      "name": "Model(imdb+mydrama).ipynb",
      "provenance": []
    },
    "interpreter": {
      "hash": "574dca36facf58eedac9ad1fdb05eb30782a4a58b973fe264c245e150c172f21"
    },
    "kernelspec": {
      "display_name": "study",
      "language": "python",
      "name": "python3"
    },
    "language_info": {
      "codemirror_mode": {
        "name": "ipython",
        "version": 3
      },
      "file_extension": ".py",
      "mimetype": "text/x-python",
      "name": "python",
      "nbconvert_exporter": "python",
      "pygments_lexer": "ipython3",
      "version": "3.7.11"
    },
    "widgets": {
      "application/vnd.jupyter.widget-state+json": {
        "21dd27f9fa5a416cb63fe9f250a981f4": {
          "model_module": "@jupyter-widgets/controls",
          "model_name": "HBoxModel",
          "model_module_version": "1.5.0",
          "state": {
            "_dom_classes": [],
            "_model_module": "@jupyter-widgets/controls",
            "_model_module_version": "1.5.0",
            "_model_name": "HBoxModel",
            "_view_count": null,
            "_view_module": "@jupyter-widgets/controls",
            "_view_module_version": "1.5.0",
            "_view_name": "HBoxView",
            "box_style": "",
            "children": [
              "IPY_MODEL_c01d07a0d26e48aca0e2184b843d61c2",
              "IPY_MODEL_ee59c126361144c399f7eb4b8947adbc",
              "IPY_MODEL_f2a3e5f39f814c228d33aee317c1c4b6"
            ],
            "layout": "IPY_MODEL_cacb760b5eb840a9b357abddbcd65f7f"
          }
        },
        "c01d07a0d26e48aca0e2184b843d61c2": {
          "model_module": "@jupyter-widgets/controls",
          "model_name": "HTMLModel",
          "model_module_version": "1.5.0",
          "state": {
            "_dom_classes": [],
            "_model_module": "@jupyter-widgets/controls",
            "_model_module_version": "1.5.0",
            "_model_name": "HTMLModel",
            "_view_count": null,
            "_view_module": "@jupyter-widgets/controls",
            "_view_module_version": "1.5.0",
            "_view_name": "HTMLView",
            "description": "",
            "description_tooltip": null,
            "layout": "IPY_MODEL_310babe65fb748f1a346fecc6760c135",
            "placeholder": "​",
            "style": "IPY_MODEL_02c52620761248d29249142ea9f36aff",
            "value": "Batches: 100%"
          }
        },
        "ee59c126361144c399f7eb4b8947adbc": {
          "model_module": "@jupyter-widgets/controls",
          "model_name": "FloatProgressModel",
          "model_module_version": "1.5.0",
          "state": {
            "_dom_classes": [],
            "_model_module": "@jupyter-widgets/controls",
            "_model_module_version": "1.5.0",
            "_model_name": "FloatProgressModel",
            "_view_count": null,
            "_view_module": "@jupyter-widgets/controls",
            "_view_module_version": "1.5.0",
            "_view_name": "ProgressView",
            "bar_style": "success",
            "description": "",
            "description_tooltip": null,
            "layout": "IPY_MODEL_0d5d35d1d18a4aa7a78f67ba377685a1",
            "max": 50,
            "min": 0,
            "orientation": "horizontal",
            "style": "IPY_MODEL_a4f060364bba49d0a9df22003590bf11",
            "value": 50
          }
        },
        "f2a3e5f39f814c228d33aee317c1c4b6": {
          "model_module": "@jupyter-widgets/controls",
          "model_name": "HTMLModel",
          "model_module_version": "1.5.0",
          "state": {
            "_dom_classes": [],
            "_model_module": "@jupyter-widgets/controls",
            "_model_module_version": "1.5.0",
            "_model_name": "HTMLModel",
            "_view_count": null,
            "_view_module": "@jupyter-widgets/controls",
            "_view_module_version": "1.5.0",
            "_view_name": "HTMLView",
            "description": "",
            "description_tooltip": null,
            "layout": "IPY_MODEL_5f1d2e4d60f84756850504994f62c862",
            "placeholder": "​",
            "style": "IPY_MODEL_8c3bc23911b34a92ab1ad7580aae1cb3",
            "value": " 50/50 [00:37&lt;00:00,  7.18it/s]"
          }
        },
        "cacb760b5eb840a9b357abddbcd65f7f": {
          "model_module": "@jupyter-widgets/base",
          "model_name": "LayoutModel",
          "model_module_version": "1.2.0",
          "state": {
            "_model_module": "@jupyter-widgets/base",
            "_model_module_version": "1.2.0",
            "_model_name": "LayoutModel",
            "_view_count": null,
            "_view_module": "@jupyter-widgets/base",
            "_view_module_version": "1.2.0",
            "_view_name": "LayoutView",
            "align_content": null,
            "align_items": null,
            "align_self": null,
            "border": null,
            "bottom": null,
            "display": null,
            "flex": null,
            "flex_flow": null,
            "grid_area": null,
            "grid_auto_columns": null,
            "grid_auto_flow": null,
            "grid_auto_rows": null,
            "grid_column": null,
            "grid_gap": null,
            "grid_row": null,
            "grid_template_areas": null,
            "grid_template_columns": null,
            "grid_template_rows": null,
            "height": null,
            "justify_content": null,
            "justify_items": null,
            "left": null,
            "margin": null,
            "max_height": null,
            "max_width": null,
            "min_height": null,
            "min_width": null,
            "object_fit": null,
            "object_position": null,
            "order": null,
            "overflow": null,
            "overflow_x": null,
            "overflow_y": null,
            "padding": null,
            "right": null,
            "top": null,
            "visibility": null,
            "width": null
          }
        },
        "310babe65fb748f1a346fecc6760c135": {
          "model_module": "@jupyter-widgets/base",
          "model_name": "LayoutModel",
          "model_module_version": "1.2.0",
          "state": {
            "_model_module": "@jupyter-widgets/base",
            "_model_module_version": "1.2.0",
            "_model_name": "LayoutModel",
            "_view_count": null,
            "_view_module": "@jupyter-widgets/base",
            "_view_module_version": "1.2.0",
            "_view_name": "LayoutView",
            "align_content": null,
            "align_items": null,
            "align_self": null,
            "border": null,
            "bottom": null,
            "display": null,
            "flex": null,
            "flex_flow": null,
            "grid_area": null,
            "grid_auto_columns": null,
            "grid_auto_flow": null,
            "grid_auto_rows": null,
            "grid_column": null,
            "grid_gap": null,
            "grid_row": null,
            "grid_template_areas": null,
            "grid_template_columns": null,
            "grid_template_rows": null,
            "height": null,
            "justify_content": null,
            "justify_items": null,
            "left": null,
            "margin": null,
            "max_height": null,
            "max_width": null,
            "min_height": null,
            "min_width": null,
            "object_fit": null,
            "object_position": null,
            "order": null,
            "overflow": null,
            "overflow_x": null,
            "overflow_y": null,
            "padding": null,
            "right": null,
            "top": null,
            "visibility": null,
            "width": null
          }
        },
        "02c52620761248d29249142ea9f36aff": {
          "model_module": "@jupyter-widgets/controls",
          "model_name": "DescriptionStyleModel",
          "model_module_version": "1.5.0",
          "state": {
            "_model_module": "@jupyter-widgets/controls",
            "_model_module_version": "1.5.0",
            "_model_name": "DescriptionStyleModel",
            "_view_count": null,
            "_view_module": "@jupyter-widgets/base",
            "_view_module_version": "1.2.0",
            "_view_name": "StyleView",
            "description_width": ""
          }
        },
        "0d5d35d1d18a4aa7a78f67ba377685a1": {
          "model_module": "@jupyter-widgets/base",
          "model_name": "LayoutModel",
          "model_module_version": "1.2.0",
          "state": {
            "_model_module": "@jupyter-widgets/base",
            "_model_module_version": "1.2.0",
            "_model_name": "LayoutModel",
            "_view_count": null,
            "_view_module": "@jupyter-widgets/base",
            "_view_module_version": "1.2.0",
            "_view_name": "LayoutView",
            "align_content": null,
            "align_items": null,
            "align_self": null,
            "border": null,
            "bottom": null,
            "display": null,
            "flex": null,
            "flex_flow": null,
            "grid_area": null,
            "grid_auto_columns": null,
            "grid_auto_flow": null,
            "grid_auto_rows": null,
            "grid_column": null,
            "grid_gap": null,
            "grid_row": null,
            "grid_template_areas": null,
            "grid_template_columns": null,
            "grid_template_rows": null,
            "height": null,
            "justify_content": null,
            "justify_items": null,
            "left": null,
            "margin": null,
            "max_height": null,
            "max_width": null,
            "min_height": null,
            "min_width": null,
            "object_fit": null,
            "object_position": null,
            "order": null,
            "overflow": null,
            "overflow_x": null,
            "overflow_y": null,
            "padding": null,
            "right": null,
            "top": null,
            "visibility": null,
            "width": null
          }
        },
        "a4f060364bba49d0a9df22003590bf11": {
          "model_module": "@jupyter-widgets/controls",
          "model_name": "ProgressStyleModel",
          "model_module_version": "1.5.0",
          "state": {
            "_model_module": "@jupyter-widgets/controls",
            "_model_module_version": "1.5.0",
            "_model_name": "ProgressStyleModel",
            "_view_count": null,
            "_view_module": "@jupyter-widgets/base",
            "_view_module_version": "1.2.0",
            "_view_name": "StyleView",
            "bar_color": null,
            "description_width": ""
          }
        },
        "5f1d2e4d60f84756850504994f62c862": {
          "model_module": "@jupyter-widgets/base",
          "model_name": "LayoutModel",
          "model_module_version": "1.2.0",
          "state": {
            "_model_module": "@jupyter-widgets/base",
            "_model_module_version": "1.2.0",
            "_model_name": "LayoutModel",
            "_view_count": null,
            "_view_module": "@jupyter-widgets/base",
            "_view_module_version": "1.2.0",
            "_view_name": "LayoutView",
            "align_content": null,
            "align_items": null,
            "align_self": null,
            "border": null,
            "bottom": null,
            "display": null,
            "flex": null,
            "flex_flow": null,
            "grid_area": null,
            "grid_auto_columns": null,
            "grid_auto_flow": null,
            "grid_auto_rows": null,
            "grid_column": null,
            "grid_gap": null,
            "grid_row": null,
            "grid_template_areas": null,
            "grid_template_columns": null,
            "grid_template_rows": null,
            "height": null,
            "justify_content": null,
            "justify_items": null,
            "left": null,
            "margin": null,
            "max_height": null,
            "max_width": null,
            "min_height": null,
            "min_width": null,
            "object_fit": null,
            "object_position": null,
            "order": null,
            "overflow": null,
            "overflow_x": null,
            "overflow_y": null,
            "padding": null,
            "right": null,
            "top": null,
            "visibility": null,
            "width": null
          }
        },
        "8c3bc23911b34a92ab1ad7580aae1cb3": {
          "model_module": "@jupyter-widgets/controls",
          "model_name": "DescriptionStyleModel",
          "model_module_version": "1.5.0",
          "state": {
            "_model_module": "@jupyter-widgets/controls",
            "_model_module_version": "1.5.0",
            "_model_name": "DescriptionStyleModel",
            "_view_count": null,
            "_view_module": "@jupyter-widgets/base",
            "_view_module_version": "1.2.0",
            "_view_name": "StyleView",
            "description_width": ""
          }
        }
      }
    }
  },
  "nbformat": 4,
  "nbformat_minor": 0
}