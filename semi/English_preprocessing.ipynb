{
  "nbformat": 4,
  "nbformat_minor": 0,
  "metadata": {
    "colab": {
      "name": "English_preprocessing.ipynb",
      "provenance": [],
      "collapsed_sections": []
    },
    "kernelspec": {
      "name": "python3",
      "display_name": "Python 3"
    },
    "language_info": {
      "name": "python"
    }
  },
  "cells": [
    {
      "cell_type": "code",
      "source": [
        "# 전처리\n",
        "# • 토큰화\n",
        "# • 품사부착\n",
        "# • 개체명인식\n",
        "# • 원형복원\n",
        "# • 불용어처리"
      ],
      "metadata": {
        "id": "aUVlUBy03BIb"
      },
      "execution_count": null,
      "outputs": []
    },
    {
      "cell_type": "code",
      "source": [
        "# review.keys()\n",
        "# -> (['오징어 게임', 'Jigeum Uri Hakgyoneun', '지옥', 'Binsenjo', 'Law School', 'Geu Hae Urineun', 'Seulgiroun Euisasaenghal', 'Twenty Five Twenty One', 'Itaewon Keullasseu', 'Seoreun Ahob', 'Sweet Home', '고요의 바다', 'Gyeongiroun Somun'])"
      ],
      "metadata": {
        "id": "pCwTGtzfcs2S"
      },
      "execution_count": null,
      "outputs": []
    },
    {
      "cell_type": "markdown",
      "source": [
        "**전체문장 한꺼번에 Sentence**"
      ],
      "metadata": {
        "id": "SsGr1-Rdhry8"
      }
    },
    {
      "cell_type": "code",
      "source": [
        "review"
      ],
      "metadata": {
        "id": "ayTtXOzzFvJt"
      },
      "execution_count": null,
      "outputs": []
    },
    {
      "cell_type": "code",
      "source": [
        "imdb_keys = list(review.keys())"
      ],
      "metadata": {
        "id": "io4oOt0Xc0Hk",
        "colab": {
          "base_uri": "https://localhost:8080/"
        },
        "outputId": "e1dc1259-d282-47f7-c253-95d0953e2f6c"
      },
      "execution_count": 6,
      "outputs": [
        {
          "output_type": "execute_result",
          "data": {
            "text/plain": [
              "['오징어 게임', 'Jigeum Uri Hakgyoneun', 'Binsenjo']"
            ]
          },
          "metadata": {},
          "execution_count": 6
        }
      ]
    },
    {
      "cell_type": "code",
      "source": [
        "squid_game = review[imdb_keys[0]][0] + review[imdb_keys[0]][2]\n",
        "jigeum_uri_hakgyoneun = review[imdb_keys[1]][0] + review[imdb_keys[1]][2]\n",
        "hell = review[imdb_keys[2]][0] + review[imdb_keys[2]][2]\n",
        "binsenjo = review[imdb_keys[3]][0] + review[imdb_keys[3]][2]\n",
        "law_school = review[imdb_keys[4]][0] + review[imdb_keys[4]][2]\n",
        "geu_hae_urineun = review[imdb_keys[5]][0] + review[imdb_keys[5]][2]\n",
        "seulgiroun_euisasaenghal = review[imdb_keys[6]][0] + review[imdb_keys[6]][2]\n",
        "twenty_five_twenty_one = review[imdb_keys[7]][0] + review[imdb_keys[7]][2]\n",
        "itaewon_keullasseu = review[imdb_keys[8]][0] + review[imdb_keys[8]][2]\n",
        "seoreun_ahob = review[imdb_keys[9]][0] + review[imdb_keys[9]][2]\n",
        "sweet_home = review[imdb_keys[10]][0] + review[imdb_keys[10]][2]\n",
        "quiet_sea= review[imdb_keys[11]][0] + review[imdb_keys[11]][2]\n",
        "gyeongiroun_somun= review[imdb_keys[12]][0] + review[imdb_keys[12]][2]"
      ],
      "metadata": {
        "id": "a8IylUzVdBzc"
      },
      "execution_count": 7,
      "outputs": []
    },
    {
      "cell_type": "code",
      "source": [
        "total_sentences = squid_game + jigeum_uri_hakgyoneun + hell + binsenjo + law_school + geu_hae_urineun + seulgiroun_euisasaenghal + twenty_five_twenty_one + itaewon_keullasseu + seoreun_ahob + sweet_home + quiet_sea + gyeongiroun_somun"
      ],
      "metadata": {
        "id": "XaaOKvQxF3oD"
      },
      "execution_count": null,
      "outputs": []
    },
    {
      "cell_type": "markdown",
      "source": [
        "**장르별 Sentence**"
      ],
      "metadata": {
        "id": "AbuxG4wUl8Md"
      }
    },
    {
      "cell_type": "code",
      "source": [
        "review"
      ],
      "metadata": {
        "id": "oTzabEbtmvHK"
      },
      "execution_count": null,
      "outputs": []
    },
    {
      "cell_type": "code",
      "source": [
        "imdb_keys = list(review.keys())"
      ],
      "metadata": {
        "id": "ZR2Lg6PLmAMR"
      },
      "execution_count": null,
      "outputs": []
    },
    {
      "cell_type": "code",
      "source": [
        "action_list = []\n",
        "for i in range(len(imdb_keys)):\n",
        "    if review[imdb_keys[i]][3] == 'action':\n",
        "        action_list.append(review[imdb_keys[i]][0])\n",
        "        action_list.append(review[imdb_keys[i]][2])"
      ],
      "metadata": {
        "id": "Nnpc0LzamVuI"
      },
      "execution_count": null,
      "outputs": []
    },
    {
      "cell_type": "code",
      "source": [
        "action_sentence = sum(action_list, [])"
      ],
      "metadata": {
        "id": "K2zW0SXJoAF5"
      },
      "execution_count": null,
      "outputs": []
    },
    {
      "cell_type": "code",
      "source": [
        "fantasy_list = []\n",
        "for i in range(len(imdb_keys)):\n",
        "    if review[imdb_keys[i]][3] == 'fantasy':\n",
        "        fantasy_list.append(review[imdb_keys[i]][0])\n",
        "        fantasy_list.append(review[imdb_keys[i]][2])"
      ],
      "metadata": {
        "id": "AmMwmIRomwer"
      },
      "execution_count": null,
      "outputs": []
    },
    {
      "cell_type": "code",
      "source": [
        "fantasy_sentence = sum(fantasy_list, [])"
      ],
      "metadata": {
        "id": "vcKX9ZKaoF8y"
      },
      "execution_count": null,
      "outputs": []
    },
    {
      "cell_type": "code",
      "source": [
        "crime_list = []\n",
        "for i in range(len(imdb_keys)):\n",
        "    if review[imdb_keys[i]][3] == 'crime':\n",
        "        crime_list.append(review[imdb_keys[i]][0])\n",
        "        crime_list.append(review[imdb_keys[i]][2])"
      ],
      "metadata": {
        "id": "JiPAQTa5m7fp"
      },
      "execution_count": null,
      "outputs": []
    },
    {
      "cell_type": "code",
      "source": [
        "crime_sentence = sum(crime_list, [])"
      ],
      "metadata": {
        "id": "sD0Dh6xKoLAi"
      },
      "execution_count": null,
      "outputs": []
    },
    {
      "cell_type": "code",
      "source": [
        "comedy_list = []\n",
        "for i in range(len(imdb_keys)):\n",
        "    if review[imdb_keys[i]][3] == 'comedy':\n",
        "        comedy_list.append(review[imdb_keys[i]][0])\n",
        "        comedy_list.append(review[imdb_keys[i]][2])"
      ],
      "metadata": {
        "id": "T4M_7F1TnFdx"
      },
      "execution_count": null,
      "outputs": []
    },
    {
      "cell_type": "code",
      "source": [
        "comedy_sentence = sum(comedy_list, [])"
      ],
      "metadata": {
        "id": "i0PvmagHoOJa"
      },
      "execution_count": null,
      "outputs": []
    },
    {
      "cell_type": "code",
      "source": [
        "romance_list = []\n",
        "for i in range(len(imdb_keys)):\n",
        "    if review[imdb_keys[i]][3] == 'romance':\n",
        "        romance_list.append(review[imdb_keys[i]][0])\n",
        "        romance_list.append(review[imdb_keys[i]][2])"
      ],
      "metadata": {
        "id": "_tJrz6i7nOj_"
      },
      "execution_count": null,
      "outputs": []
    },
    {
      "cell_type": "code",
      "source": [
        "romance_sentence = sum(romance_list, [])"
      ],
      "metadata": {
        "id": "hKsXMM5moSLx"
      },
      "execution_count": null,
      "outputs": []
    },
    {
      "cell_type": "code",
      "source": [
        "SF_list = []\n",
        "for i in range(len(imdb_keys)):\n",
        "    if review[imdb_keys[i]][3] == 'SF':\n",
        "        SF_list.append(review[imdb_keys[i]][0])\n",
        "        SF_list.append(review[imdb_keys[i]][2])"
      ],
      "metadata": {
        "id": "85dUBEssnTrB"
      },
      "execution_count": null,
      "outputs": []
    },
    {
      "cell_type": "code",
      "source": [
        "SF_sentence = sum(SF_list, [])"
      ],
      "metadata": {
        "id": "dE8EZiS3oVDc"
      },
      "execution_count": null,
      "outputs": []
    },
    {
      "cell_type": "code",
      "source": [
        "horror_list = []\n",
        "for i in range(len(imdb_keys)):\n",
        "    if review[imdb_keys[i]][3] == 'horror':\n",
        "        horror_list.append(review[imdb_keys[i]][0])\n",
        "        horror_list.append(review[imdb_keys[i]][2])"
      ],
      "metadata": {
        "id": "cdQExMKBnlBL"
      },
      "execution_count": null,
      "outputs": []
    },
    {
      "cell_type": "code",
      "source": [
        "horror_sentence = sum(horror_list, [])"
      ],
      "metadata": {
        "id": "grKxMGx8oYI4"
      },
      "execution_count": null,
      "outputs": []
    },
    {
      "cell_type": "code",
      "execution_count": 12,
      "metadata": {
        "id": "_kvJ7aJl-fc-"
      },
      "outputs": [],
      "source": [
        "import re\n",
        "import pandas as pd\n",
        "import numpy as np\n",
        "import string\n",
        "from tensorflow.keras.preprocessing.text import text_to_word_sequence\n",
        "import nltk\n",
        "from nltk.stem import WordNetLemmatizer\n",
        "from collections import Counter"
      ]
    },
    {
      "cell_type": "markdown",
      "source": [
        "**토큰화**(단어 토큰화) - \n",
        "케라스가 제공하는 text 모듈의 text_to_word_sequence( ) 함수를 사용해 문장을 단어 단위로 나눈 후 소문자로 바꾸고 구두점(콤마, 마침표 등)을 없애주면서 어퍼스트로피(')는 보존해 쉽게 나눌 수 있다."
      ],
      "metadata": {
        "id": "TMTBeBbP7rx3"
      }
    },
    {
      "cell_type": "code",
      "source": [
        "#sentence에 리스트로 된 리뷰 입력\n",
        "sentence = [\"Don't be fooled by the dark sound…ing name\", \"Mr. Jone's Orphanage is as cheery ※as cheery goes for a pastry shop.\", \"』she looks so beautiful\", \"I am go to school\", \"cherry pie was dealicious\", \"Jone's looks beautiful\", \"beautiful beautiful\", 'pastry shop looks so good']\n",
        "\n",
        "sentence = \",\".join(sentence)\n",
        "Words = text_to_word_sequence(sentence)\n",
        "print(Words)"
      ],
      "metadata": {
        "colab": {
          "base_uri": "https://localhost:8080/"
        },
        "id": "nuedB58u6t7R",
        "outputId": "e65fbdca-6786-4e9b-e1dc-64a48a90b3da"
      },
      "execution_count": 30,
      "outputs": [
        {
          "output_type": "stream",
          "name": "stdout",
          "text": [
            "[\"don't\", 'be', 'fooled', 'by', 'the', 'dark', 'sound…ing', 'name', 'mr', \"jone's\", 'orphanage', 'is', 'as', 'cheery', '※as', 'cheery', 'goes', 'for', 'a', 'pastry', 'shop', '』she', 'looks', 'so', 'beautiful', 'i', 'am', 'go', 'to', 'school', 'cherry', 'pie', 'was', 'dealicious', \"jone's\", 'looks', 'beautiful', 'beautiful', 'beautiful', 'pastry', 'shop', 'looks', 'so', 'good']\n"
          ]
        }
      ]
    },
    {
      "cell_type": "code",
      "source": [
        "#영어와 숫자를 뺀 나머지 모두 제거\n",
        "words = []\n",
        "\n",
        "for i in Words:\n",
        "    text = re.sub('[^a-zA-Z0-9\\']','',i).strip()\n",
        "    text = re.sub('[-=+,#/\\?:^$.@*\\\"※~&%ㆍ!』\\\\‘|\\(\\)\\[\\]\\<\\>`…》]','', text)\n",
        "    if(text != ''):\n",
        "        words.append(text)\n",
        "words"
      ],
      "metadata": {
        "colab": {
          "base_uri": "https://localhost:8080/"
        },
        "id": "RC4oVaTHXC2L",
        "outputId": "09b3e5db-1ea8-4d0c-b72e-609c7bbaa8b1"
      },
      "execution_count": 31,
      "outputs": [
        {
          "output_type": "execute_result",
          "data": {
            "text/plain": [
              "[\"don't\",\n",
              " 'be',\n",
              " 'fooled',\n",
              " 'by',\n",
              " 'the',\n",
              " 'dark',\n",
              " 'sounding',\n",
              " 'name',\n",
              " 'mr',\n",
              " \"jone's\",\n",
              " 'orphanage',\n",
              " 'is',\n",
              " 'as',\n",
              " 'cheery',\n",
              " 'as',\n",
              " 'cheery',\n",
              " 'goes',\n",
              " 'for',\n",
              " 'a',\n",
              " 'pastry',\n",
              " 'shop',\n",
              " 'she',\n",
              " 'looks',\n",
              " 'so',\n",
              " 'beautiful',\n",
              " 'i',\n",
              " 'am',\n",
              " 'go',\n",
              " 'to',\n",
              " 'school',\n",
              " 'cherry',\n",
              " 'pie',\n",
              " 'was',\n",
              " 'dealicious',\n",
              " \"jone's\",\n",
              " 'looks',\n",
              " 'beautiful',\n",
              " 'beautiful',\n",
              " 'beautiful',\n",
              " 'pastry',\n",
              " 'shop',\n",
              " 'looks',\n",
              " 'so',\n",
              " 'good']"
            ]
          },
          "metadata": {},
          "execution_count": 31
        }
      ]
    },
    {
      "cell_type": "code",
      "source": [
        "en = nltk.Text(words)\n",
        "print(len(en.tokens)) #number of tokens\n",
        "print(len(set(en.tokens))) #number of unique tokens\n",
        "en.vocab()"
      ],
      "metadata": {
        "colab": {
          "base_uri": "https://localhost:8080/"
        },
        "id": "NqO_iG7G8vtj",
        "outputId": "e4fafb07-062c-4eec-bf35-60fa362b7b89"
      },
      "execution_count": 32,
      "outputs": [
        {
          "output_type": "stream",
          "name": "stdout",
          "text": [
            "44\n",
            "33\n"
          ]
        },
        {
          "output_type": "execute_result",
          "data": {
            "text/plain": [
              "FreqDist({'a': 1,\n",
              "          'am': 1,\n",
              "          'as': 2,\n",
              "          'be': 1,\n",
              "          'beautiful': 4,\n",
              "          'by': 1,\n",
              "          'cheery': 2,\n",
              "          'cherry': 1,\n",
              "          'dark': 1,\n",
              "          'dealicious': 1,\n",
              "          \"don't\": 1,\n",
              "          'fooled': 1,\n",
              "          'for': 1,\n",
              "          'go': 1,\n",
              "          'goes': 1,\n",
              "          'good': 1,\n",
              "          'i': 1,\n",
              "          'is': 1,\n",
              "          \"jone's\": 2,\n",
              "          'looks': 3,\n",
              "          'mr': 1,\n",
              "          'name': 1,\n",
              "          'orphanage': 1,\n",
              "          'pastry': 2,\n",
              "          'pie': 1,\n",
              "          'school': 1,\n",
              "          'she': 1,\n",
              "          'shop': 2,\n",
              "          'so': 2,\n",
              "          'sounding': 1,\n",
              "          'the': 1,\n",
              "          'to': 1,\n",
              "          'was': 1})"
            ]
          },
          "metadata": {},
          "execution_count": 32
        }
      ]
    },
    {
      "cell_type": "code",
      "source": [
        "en.plot(50)     # top 50 tokens의 빈도순"
      ],
      "metadata": {
        "colab": {
          "base_uri": "https://localhost:8080/",
          "height": 323
        },
        "id": "SXndE39Z9xow",
        "outputId": "b97e549a-7ca0-4595-cc73-5735c16b7ee4"
      },
      "execution_count": 33,
      "outputs": [
        {
          "output_type": "display_data",
          "data": {
            "text/plain": [
              "<Figure size 432x288 with 1 Axes>"
            ],
            "image/png": "[encoded data removed]"
          },
          "metadata": {
            "needs_background": "light"
          }
        }
      ]
    },
    {
      "cell_type": "markdown",
      "source": [
        "**품사태깅**(동사, 형용사, 명사, 부사 추출)"
      ],
      "metadata": {
        "id": "htsPxigvEDcq"
      }
    },
    {
      "cell_type": "code",
      "source": [
        "nltk.download('averaged_perceptron_tagger')"
      ],
      "metadata": {
        "colab": {
          "base_uri": "https://localhost:8080/"
        },
        "id": "LG_-G8bbBFxp",
        "outputId": "5444511f-ad78-4acd-cec4-b8f1c0d5792d"
      },
      "execution_count": 17,
      "outputs": [
        {
          "output_type": "stream",
          "name": "stdout",
          "text": [
            "[nltk_data] Downloading package averaged_perceptron_tagger to\n",
            "[nltk_data]     /root/nltk_data...\n",
            "[nltk_data]   Unzipping taggers/averaged_perceptron_tagger.zip.\n"
          ]
        },
        {
          "output_type": "execute_result",
          "data": {
            "text/plain": [
              "True"
            ]
          },
          "metadata": {},
          "execution_count": 17
        }
      ]
    },
    {
      "cell_type": "code",
      "source": [
        "tag_words = nltk.pos_tag(words)\n",
        "tag_words"
      ],
      "metadata": {
        "colab": {
          "base_uri": "https://localhost:8080/"
        },
        "id": "VQwU_64RCFTo",
        "outputId": "ec7b05d7-c4a3-41ee-a9d6-3bfee9e877b1"
      },
      "execution_count": 34,
      "outputs": [
        {
          "output_type": "execute_result",
          "data": {
            "text/plain": [
              "[(\"don't\", 'NN'),\n",
              " ('be', 'VB'),\n",
              " ('fooled', 'VBN'),\n",
              " ('by', 'IN'),\n",
              " ('the', 'DT'),\n",
              " ('dark', 'NN'),\n",
              " ('sounding', 'VBG'),\n",
              " ('name', 'NN'),\n",
              " ('mr', 'FW'),\n",
              " (\"jone's\", 'NN'),\n",
              " ('orphanage', 'NN'),\n",
              " ('is', 'VBZ'),\n",
              " ('as', 'RB'),\n",
              " ('cheery', 'JJ'),\n",
              " ('as', 'IN'),\n",
              " ('cheery', 'NN'),\n",
              " ('goes', 'VBZ'),\n",
              " ('for', 'IN'),\n",
              " ('a', 'DT'),\n",
              " ('pastry', 'NN'),\n",
              " ('shop', 'NN'),\n",
              " ('she', 'PRP'),\n",
              " ('looks', 'VBZ'),\n",
              " ('so', 'RB'),\n",
              " ('beautiful', 'JJ'),\n",
              " ('i', 'NN'),\n",
              " ('am', 'VBP'),\n",
              " ('go', 'VB'),\n",
              " ('to', 'TO'),\n",
              " ('school', 'NN'),\n",
              " ('cherry', 'NN'),\n",
              " ('pie', 'NN'),\n",
              " ('was', 'VBD'),\n",
              " ('dealicious', 'JJ'),\n",
              " (\"jone's\", 'NN'),\n",
              " ('looks', 'VBZ'),\n",
              " ('beautiful', 'JJ'),\n",
              " ('beautiful', 'JJ'),\n",
              " ('beautiful', 'JJ'),\n",
              " ('pastry', 'NN'),\n",
              " ('shop', 'NN'),\n",
              " ('looks', 'VBZ'),\n",
              " ('so', 'RB'),\n",
              " ('good', 'JJ')]"
            ]
          },
          "metadata": {},
          "execution_count": 34
        }
      ]
    },
    {
      "cell_type": "code",
      "source": [
        "#동사, 명사, 형용사, 부사를 제외한 나머지 품사 제거\n",
        "pos_words = []\n",
        "for word in tag_words:\n",
        "    if word[1].startswith('V'):\n",
        "        pos_words.append(word)\n",
        "    elif word[1].startswith('N'):\n",
        "        pos_words.append(word)\n",
        "    elif word[1].startswith('J'):\n",
        "        pos_words.append(word)\n",
        "    elif word[1].startswith('R'):\n",
        "        pos_words.append(word)\n",
        "\n",
        "print(pos_words)"
      ],
      "metadata": {
        "colab": {
          "base_uri": "https://localhost:8080/"
        },
        "id": "eRVzw7edDEYa",
        "outputId": "fc02c05b-37ed-4291-c12b-f96279b0f368"
      },
      "execution_count": 35,
      "outputs": [
        {
          "output_type": "stream",
          "name": "stdout",
          "text": [
            "[(\"don't\", 'NN'), ('be', 'VB'), ('fooled', 'VBN'), ('dark', 'NN'), ('sounding', 'VBG'), ('name', 'NN'), (\"jone's\", 'NN'), ('orphanage', 'NN'), ('is', 'VBZ'), ('as', 'RB'), ('cheery', 'JJ'), ('cheery', 'NN'), ('goes', 'VBZ'), ('pastry', 'NN'), ('shop', 'NN'), ('looks', 'VBZ'), ('so', 'RB'), ('beautiful', 'JJ'), ('i', 'NN'), ('am', 'VBP'), ('go', 'VB'), ('school', 'NN'), ('cherry', 'NN'), ('pie', 'NN'), ('was', 'VBD'), ('dealicious', 'JJ'), (\"jone's\", 'NN'), ('looks', 'VBZ'), ('beautiful', 'JJ'), ('beautiful', 'JJ'), ('beautiful', 'JJ'), ('pastry', 'NN'), ('shop', 'NN'), ('looks', 'VBZ'), ('so', 'RB'), ('good', 'JJ')]\n"
          ]
        }
      ]
    },
    {
      "cell_type": "markdown",
      "source": [
        "**원형복원**"
      ],
      "metadata": {
        "id": "-_WcOcDVUxr_"
      }
    },
    {
      "cell_type": "code",
      "source": [
        "nltk.download('wordnet')"
      ],
      "metadata": {
        "colab": {
          "base_uri": "https://localhost:8080/"
        },
        "id": "UuYWYt58UjaQ",
        "outputId": "f8555c1c-0008-4967-bab9-aa66eb797f45"
      },
      "execution_count": 36,
      "outputs": [
        {
          "output_type": "stream",
          "name": "stdout",
          "text": [
            "[nltk_data] Downloading package wordnet to /root/nltk_data...\n",
            "[nltk_data]   Package wordnet is already up-to-date!\n"
          ]
        },
        {
          "output_type": "execute_result",
          "data": {
            "text/plain": [
              "True"
            ]
          },
          "metadata": {},
          "execution_count": 36
        }
      ]
    },
    {
      "cell_type": "code",
      "source": [
        "nltk.download('punkt')"
      ],
      "metadata": {
        "colab": {
          "base_uri": "https://localhost:8080/"
        },
        "id": "LxlX3oEZEf5c",
        "outputId": "c44d51cc-fbc4-416b-ffeb-53f60057266c"
      },
      "execution_count": 37,
      "outputs": [
        {
          "output_type": "stream",
          "name": "stdout",
          "text": [
            "[nltk_data] Downloading package punkt to /root/nltk_data...\n",
            "[nltk_data]   Package punkt is already up-to-date!\n"
          ]
        },
        {
          "output_type": "execute_result",
          "data": {
            "text/plain": [
              "True"
            ]
          },
          "metadata": {},
          "execution_count": 37
        }
      ]
    },
    {
      "cell_type": "code",
      "source": [
        "def get_wordnet_pos(pos_tag):\n",
        "    if pos_tag.startswith('V'):\n",
        "        return 'v'\n",
        "    elif pos_tag.startswith('N'):\n",
        "        return 'n'\n",
        "    elif pos_tag.startswith('J'):\n",
        "        return 'a'\n",
        "    elif pos_tag.startswith('R'):\n",
        "        return 'r'\n",
        "    else:\n",
        "        return None\n",
        "\n",
        "temp_list = []\n",
        "for token, pos_tag in pos_words:\n",
        "    tag = get_wordnet_pos(pos_tag)\n",
        "    if tag != None:\n",
        "        temp_list.append((token, get_wordnet_pos(pos_tag)))\n",
        "temp_list"
      ],
      "metadata": {
        "colab": {
          "base_uri": "https://localhost:8080/"
        },
        "id": "dqN-BxpRPmZr",
        "outputId": "9461f66d-3fb3-4e66-f832-27159e830329"
      },
      "execution_count": 38,
      "outputs": [
        {
          "output_type": "execute_result",
          "data": {
            "text/plain": [
              "[(\"don't\", 'n'),\n",
              " ('be', 'v'),\n",
              " ('fooled', 'v'),\n",
              " ('dark', 'n'),\n",
              " ('sounding', 'v'),\n",
              " ('name', 'n'),\n",
              " (\"jone's\", 'n'),\n",
              " ('orphanage', 'n'),\n",
              " ('is', 'v'),\n",
              " ('as', 'r'),\n",
              " ('cheery', 'a'),\n",
              " ('cheery', 'n'),\n",
              " ('goes', 'v'),\n",
              " ('pastry', 'n'),\n",
              " ('shop', 'n'),\n",
              " ('looks', 'v'),\n",
              " ('so', 'r'),\n",
              " ('beautiful', 'a'),\n",
              " ('i', 'n'),\n",
              " ('am', 'v'),\n",
              " ('go', 'v'),\n",
              " ('school', 'n'),\n",
              " ('cherry', 'n'),\n",
              " ('pie', 'n'),\n",
              " ('was', 'v'),\n",
              " ('dealicious', 'a'),\n",
              " (\"jone's\", 'n'),\n",
              " ('looks', 'v'),\n",
              " ('beautiful', 'a'),\n",
              " ('beautiful', 'a'),\n",
              " ('beautiful', 'a'),\n",
              " ('pastry', 'n'),\n",
              " ('shop', 'n'),\n",
              " ('looks', 'v'),\n",
              " ('so', 'r'),\n",
              " ('good', 'a')]"
            ]
          },
          "metadata": {},
          "execution_count": 38
        }
      ]
    },
    {
      "cell_type": "code",
      "source": [
        "#추출한 품사의 단어를 원형으로 복원\n",
        "lemma = WordNetLemmatizer()\n",
        "token_final = []\n",
        "for token, tag in temp_list:\n",
        "    token_final.append(lemma.lemmatize(token, pos=tag))\n",
        "token_final"
      ],
      "metadata": {
        "colab": {
          "base_uri": "https://localhost:8080/"
        },
        "id": "Fsu_v8JzOpEi",
        "outputId": "cb6eaa3b-5290-4f2f-ab79-6814d13b68f5"
      },
      "execution_count": 39,
      "outputs": [
        {
          "output_type": "execute_result",
          "data": {
            "text/plain": [
              "[\"don't\",\n",
              " 'be',\n",
              " 'fool',\n",
              " 'dark',\n",
              " 'sound',\n",
              " 'name',\n",
              " \"jone's\",\n",
              " 'orphanage',\n",
              " 'be',\n",
              " 'as',\n",
              " 'cheery',\n",
              " 'cheery',\n",
              " 'go',\n",
              " 'pastry',\n",
              " 'shop',\n",
              " 'look',\n",
              " 'so',\n",
              " 'beautiful',\n",
              " 'i',\n",
              " 'be',\n",
              " 'go',\n",
              " 'school',\n",
              " 'cherry',\n",
              " 'pie',\n",
              " 'be',\n",
              " 'dealicious',\n",
              " \"jone's\",\n",
              " 'look',\n",
              " 'beautiful',\n",
              " 'beautiful',\n",
              " 'beautiful',\n",
              " 'pastry',\n",
              " 'shop',\n",
              " 'look',\n",
              " 'so',\n",
              " 'good']"
            ]
          },
          "metadata": {},
          "execution_count": 39
        }
      ]
    },
    {
      "cell_type": "markdown",
      "source": [
        "**불용어처리**"
      ],
      "metadata": {
        "id": "bPGiB3dxai1u"
      }
    },
    {
      "cell_type": "code",
      "source": [
        "nltk.download('stopwords')"
      ],
      "metadata": {
        "id": "1SLH0hOxaNJM",
        "outputId": "aa1fd6a3-5a12-4e07-9263-6c9c3bf04330",
        "colab": {
          "base_uri": "https://localhost:8080/"
        }
      },
      "execution_count": 40,
      "outputs": [
        {
          "output_type": "stream",
          "name": "stdout",
          "text": [
            "[nltk_data] Downloading package stopwords to /root/nltk_data...\n",
            "[nltk_data]   Package stopwords is already up-to-date!\n"
          ]
        },
        {
          "output_type": "execute_result",
          "data": {
            "text/plain": [
              "True"
            ]
          },
          "metadata": {},
          "execution_count": 40
        }
      ]
    },
    {
      "cell_type": "code",
      "source": [
        "#2글자 이하의 단어 제거\n",
        "long_words = []\n",
        "for i in token_final:\n",
        "    if len(i) > 2:\n",
        "        long_words.append(i)\n",
        "long_words"
      ],
      "metadata": {
        "colab": {
          "base_uri": "https://localhost:8080/"
        },
        "id": "aT34xpdadWQz",
        "outputId": "a03ab778-4f55-47a5-cc46-32100d005b9c"
      },
      "execution_count": 41,
      "outputs": [
        {
          "output_type": "execute_result",
          "data": {
            "text/plain": [
              "[\"don't\",\n",
              " 'fool',\n",
              " 'dark',\n",
              " 'sound',\n",
              " 'name',\n",
              " \"jone's\",\n",
              " 'orphanage',\n",
              " 'cheery',\n",
              " 'cheery',\n",
              " 'pastry',\n",
              " 'shop',\n",
              " 'look',\n",
              " 'beautiful',\n",
              " 'school',\n",
              " 'cherry',\n",
              " 'pie',\n",
              " 'dealicious',\n",
              " \"jone's\",\n",
              " 'look',\n",
              " 'beautiful',\n",
              " 'beautiful',\n",
              " 'beautiful',\n",
              " 'pastry',\n",
              " 'shop',\n",
              " 'look',\n",
              " 'good']"
            ]
          },
          "metadata": {},
          "execution_count": 41
        }
      ]
    },
    {
      "cell_type": "code",
      "source": [
        "from nltk.corpus import stopwords\n",
        "\n",
        "stop_words = set(stopwords.words('english'))\n",
        "\n",
        "results = []\n",
        "for w in long_words:\n",
        "    if w not in stop_words:\n",
        "        results.append(w)\n",
        "results"
      ],
      "metadata": {
        "colab": {
          "base_uri": "https://localhost:8080/"
        },
        "id": "iX47TzeBZl3Q",
        "outputId": "d5924142-ab9f-4909-d999-cc4224bde4eb"
      },
      "execution_count": 131,
      "outputs": [
        {
          "output_type": "execute_result",
          "data": {
            "text/plain": [
              "['fool',\n",
              " 'dark',\n",
              " 'sound',\n",
              " 'name',\n",
              " \"jone's\",\n",
              " 'orphanage',\n",
              " 'cheery',\n",
              " 'cheery',\n",
              " 'pastry',\n",
              " 'shop',\n",
              " 'look',\n",
              " 'beautiful',\n",
              " 'school',\n",
              " 'cherry',\n",
              " 'pie',\n",
              " 'dealicious',\n",
              " \"jone's\",\n",
              " 'look',\n",
              " 'beautiful',\n",
              " 'beautiful',\n",
              " 'beautiful',\n",
              " 'pastry',\n",
              " 'shop',\n",
              " 'look',\n",
              " 'good']"
            ]
          },
          "metadata": {},
          "execution_count": 131
        }
      ]
    },
    {
      "cell_type": "code",
      "source": [
        "#Counter를 이용해 빈도 확인 - 결과 확인용\n",
        "vocab = Counter()\n",
        "for w in rm_words:\n",
        "    vocab[w] = vocab[w] + 1\n",
        "print(vocab)\n",
        "print(list(vocab.elements()))"
      ],
      "metadata": {
        "colab": {
          "base_uri": "https://localhost:8080/"
        },
        "id": "OivT6Ty3HB2K",
        "outputId": "6ea4950b-41a8-4d0c-d40a-278f7134dfbd"
      },
      "execution_count": 116,
      "outputs": [
        {
          "output_type": "stream",
          "name": "stdout",
          "text": [
            "Counter({'beautiful': 4, 'look': 3, \"jone's\": 2, 'cheery': 2, 'pastry': 2, 'shop': 2, 'fool': 1, 'dark': 1, 'sound': 1, 'name': 1, 'orphanage': 1, 'school': 1, 'cherry': 1, 'pie': 1, 'dealicious': 1, 'good': 1})\n",
            "['fool', 'dark', 'sound', 'name', \"jone's\", \"jone's\", 'orphanage', 'cheery', 'cheery', 'pastry', 'pastry', 'shop', 'shop', 'look', 'look', 'look', 'beautiful', 'beautiful', 'beautiful', 'beautiful', 'school', 'cherry', 'pie', 'dealicious', 'good']\n"
          ]
        }
      ]
    },
    {
      "cell_type": "code",
      "source": [
        "vocab_sorted = sorted(vocab.items(), key=lambda x:x[1], reverse=True)\n",
        "vocab_sorted"
      ],
      "metadata": {
        "colab": {
          "base_uri": "https://localhost:8080/"
        },
        "id": "tO8aFMWtJQlg",
        "outputId": "f90fbe5c-ac16-499d-bc55-5412b7d7f37d"
      },
      "execution_count": 122,
      "outputs": [
        {
          "output_type": "execute_result",
          "data": {
            "text/plain": [
              "[('beautiful', 4),\n",
              " ('look', 3),\n",
              " (\"jone's\", 2),\n",
              " ('cheery', 2),\n",
              " ('pastry', 2),\n",
              " ('shop', 2),\n",
              " ('fool', 1),\n",
              " ('dark', 1),\n",
              " ('sound', 1),\n",
              " ('name', 1),\n",
              " ('orphanage', 1),\n",
              " ('school', 1),\n",
              " ('cherry', 1),\n",
              " ('pie', 1),\n",
              " ('dealicious', 1),\n",
              " ('good', 1)]"
            ]
          },
          "metadata": {},
          "execution_count": 122
        }
      ]
    },
    {
      "cell_type": "code",
      "source": [
        "# text = [\"Hello world! nice to meet you! python is nice language!\", \"Don't tell me!\"]\n",
        "# punct = string.punctuation\n",
        "# punct\n",
        "# from spacy.lang.en.stop_words import STOP_WORDS\n",
        "# stopwords = list(STOP_WORDS)\n",
        "# import spacy\n",
        "\n",
        "# nlp = spacy.load('en_core_web_sm')\n",
        "\n",
        "# def text_data_cleaning(sentence):\n",
        "#     doc = nlp(sentence)\n",
        "\n",
        "#     tokens = []\n",
        "#     for token in doc:\n",
        "#         if token.lemma_ != \"-PRON-\":\n",
        "#             temp = token.lemma_.lower().strip()\n",
        "#         else:\n",
        "#             temp = token.lower_\n",
        "#         tokens.append(temp)\n",
        "\n",
        "#     cleaned_tokens = []\n",
        "#     for token in tokens:\n",
        "#         if token not in stopwords and token not in punct:\n",
        "#             cleaned_tokens.append(token)\n",
        "#     return cleaned_tokens"
      ],
      "metadata": {
        "id": "TXInd2nmGcff"
      },
      "execution_count": null,
      "outputs": []
    }
  ]
}