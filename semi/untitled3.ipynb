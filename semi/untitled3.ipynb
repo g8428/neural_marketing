{
 "cells": [
  {
   "cell_type": "code",
   "execution_count": null,
   "metadata": {},
   "outputs": [],
   "source": [
    "fantasySF_Clusters = [[\"sung super powerful\", \"spiritual magical also\", \"shame actor\", \"yoo train busan\", \"drama master's\", \"teach korean writer\", \"idol actress\", \"world koo's training\", \"ryu tae\", \"soap opera\"],\n",
    "[\"trove drama pleasure\", \"hype drama come\", \"fantasy cinematic vibe\", \"show thrill\", \"amazing series\", \"story entertain enough\", \"play peek amazing\", \"recommend passionate genre\", \"rewatch value actually\", \"drama beautiful watch\"],\n",
    "[\"vengeful ghost\", \"story death felt\", \"something destroy plot\", \"surround death many\", \"show unpredictable\", \"suffer untold unspeakable\", \"regret watch show\", \"slub can't see\", \"restless soul unable\", \"suspenseful till last\"],\n",
    "[\"immerse world\", \"play exactly hop\", \"live thousand\", \"watch lot show\", \"live hype\", \"fast forwarding\", \"pace show\", \"show even cgi\", \"everyone play\", \"show thrill\"],\n",
    "[\"walk ethic handbook\", \"school build pond\", \"sell noodle\", \"climate change\", \"ricecake soup expect\", \"nurse fight jelly\", \"temper ice queen\", \"hong sister write\", \"marco bug\", \"lack chemistry\"],\n",
    "[\"finish whole series\", \"take long human\", \"write emotionally deep\", \"long favorite\", \"whole cast\", \"stagnant heavy drama\", \"worry everyone cry\", \"beauty beast\", \"best show ever\", \"romance lead sadly\"]]"
   ]
  },
  {
   "cell_type": "code",
   "execution_count": null,
   "metadata": {},
   "outputs": [],
   "source": [
    "th_Cluster4 = [[\"apocalyptic show\", \"resident evil\", \"bad netflix\", \"game tug war\", \"anti capitalist\", \"dark comedy\", \"film parasite\", \"devil judge\", \"villain hero\", \"pure evil\"],\n",
    "[\"train busan zombie\", \"chef's kiss\", \"home webtoon\", \"game tug war\", \"archer girl\", \"taxi driver\", \"bank account\", \"watch anime\", \"movie hunger game\", \"tiger hunter\"],\n",
    "[\"great everyone cast\", \"game rich people\", \"really enjoyed watch\", \"beautiful set\", \"entertain enough\", \"fan favorite\", \"easy kill\", \"kind game\", \"binge watch whole\", \"watch fast forward\"],\n",
    "[\"fun drama\", \"really enjoy drama\",\"drama make sense\", \"drama worth watch\", \"drama beautiful\", \"drama easily\", \"thrill suspense\", \"good thriller\", \"drama fan\", \"drama deserve\"],\n",
    "[\"mystery surround\", \"story find\", \"depth story\", \"character kind\", \"premise story\", \"story felt\", \"story line interest\", \"interesting storyline\", \"series hope season\", \"character storyline\"],\n",
    "[\"typical korean drama\", \"classical music\", \"miss anything\", \"organ harvest\", \"taxi driver\", \"archer girl\", \"detective kang\", \"school violence\", \"enredo desenvolvimento\", \"watch korean english\"]]\n"
   ]
  },
  {
   "cell_type": "code",
   "execution_count": null,
   "metadata": {},
   "outputs": [],
   "source": [
    "trl=[[\"brother run\",\"tug war game\",\"blue danube\",\"nature show\",\"korean hunger\",\"battle royale alice\",\"piggy bank\",\"cup tea\",\"chef's kiss\",\"japanese game\",\"train busan zombie\",\"renew second season\",\"archer girl\",\"moon jo's\",\"hunger game maze\",\"alice borderland hunger\",\"move building\",\"organ harvest\",\"find food water\",\"lord fly\",\"bank account\",\"sewol ferry\",\"best kdramas\",\"classical music\",\"protein monster\",\"detective kang\",\"21st century\",\"attack titan\",\"taxi driver\",\"enredo desenvolvimento\"],\n",
    "[\"highly recommend show\",\"role perfectly\",\"favorite scene\",\"easy kill\",\"plot make sense\",\"solid soundtrack\",\"good fight\",\"play huge\",\"game deadly twist\",\"beautiful set\",\"great job character\",\"directing good\",\"plot everything\",\"well choreograph\",\"cast wonderful\",\"battle survival\",\"cool monster\",\"engage show\",\"extreme competition\",\"drama perfect\",\"tie loose\",\"best concept\",\"good action drama\",\"rave review\",\"blood even\",\"enough drive\",\"cast everything\",\"game live\",\"kill vibe\",\"everyone love\"],\n",
    "[\"apocalyptic show\",\"lot people die\",\"game parasite\",\"others kill\",\"monster roam\",\"steal show\",\"brutality game\",\"spoil anything\",\"waste hour life\",\"human desperation\",\"never read webtoon\",\"lady vengeance\",\"random people\",\"lose entire family\",\"game organizer\",\"drama everyone\",\"school violence\",\"mutate monster\",\"fan battle\",\"people debt\",\"show monster\",\"anti capitalist\",\"pure evil\",\"many twist turn\",\"disturb watch\",\"else show\",\"away horror\",\"attack titan\",\"teen angst\",\"devil judge\"],\n",
    "[\"scaredy cat\",\"drama last episode\",\"script horrible\",\"high school drama\",\"poor actor\",\"language barrier\",\"rest drama\",\"end cliff hanger\",\"drama mixed\",\"rat high\",\"best drama ever\",\"drama short\",\"plane end\",\"drama sweet home\",\"drama miss\",\"series disappoint\",\"lose entire family\",\"drama friendship\",\"drama deserve\",\"political drama\",\"talk acting\",\"police station\",\"dark gritty\",\"asian horror\",\"type series\",\"emotionally drain\",\"makeup special\",\"damsel distress\",\"emotional connection character\",\"character struggle\"],\n",
    "[\"faith humanity\",\"sunshine goblin\",\"enjoy hope\",\"kind game\",\"everyone love\",\"find food water\",\"anyone read\",\"money willing\",\"really understand people\",\"hearted people\",\"save brother\",\"predictable sometimes\",\"eye candy\",\"love ost\",\"love asian\",\"god also\",\"fit scene\",\"many annoy\",\"sweet home south\",\"sense episode\",\"hype train\",\"idea people\",\"wonder show\",\"sang wook\",\"eat alive\",\"recommend show anyone\",\"take breath\",\"help viewer\",\"chef's kiss\",\"medium hype\"],\n",
    "[\"interest story\",\"character enjoy\",\"drama however\",\"really enjoy drama\",\"suspense action\",\"special effect story\",\"character mostly\",\"genre find\",\"expectation drama\",\"drama unique\",\"drama deserve\",\"favorite scene\",\"cool story\",\"bore enjoy\",\"even funny\",\"make care character\",\"try drama\",\"creepy smile\",\"surprise good\",\"thrilling emotional\",\"depth story\",\"hearted people\",\"leave lasting impression\",\"feeling series\",\"different good\",\"fan thriller\",\"series addictive\",\"episode felt bit\",\"story ridiculous\",\"premise character\"]]"
   ]
  },
  {
   "cell_type": "code",
   "execution_count": 1,
   "metadata": {},
   "outputs": [],
   "source": [
    "import pandas as pd\n",
    "df = pd.read_csv('drama_final.csv')"
   ]
  },
  {
   "cell_type": "code",
   "execution_count": 2,
   "metadata": {},
   "outputs": [],
   "source": [
    "crime = df[df.genre=='crime']['review']"
   ]
  },
  {
   "cell_type": "code",
   "execution_count": 3,
   "metadata": {},
   "outputs": [
    {
     "data": {
      "text/plain": [
       "406    The Daesang for the th Baeksang goes to…\\r\\nSh...\n",
       "407    The Most Formidable Bromance of  that will bri...\n",
       "408    This review may contain spoilers\\r\\nDong Sik a...\n",
       "409    The Perfect Definition of 'Thriller'\\r\\nA dram...\n",
       "410    ABSOLUTELY MIND-BLOWING & MUST-WATCH!\\r\\nso i’...\n",
       "Name: review, dtype: object"
      ]
     },
     "execution_count": 3,
     "metadata": {},
     "output_type": "execute_result"
    }
   ],
   "source": [
    "crime.head()"
   ]
  },
  {
   "cell_type": "code",
   "execution_count": 4,
   "metadata": {},
   "outputs": [],
   "source": [
    "crime_cluster = [[\"actress bae\", \"wrong secretary kim\", \"hyuk's wife, best korean show\", \"seo favorite\", \"good actor actresses\", \"love female\", \"law school best\", \"chefs kiss\", \"great job show\"],\n",
    "[\"geun won's\", \"love itaewon\", \"yeo jingoo\", \"director yeon sing\", \"jin goo great\", \"hyun give outstanding\", \"korea want\", \"bum ryu\", \"best ost\", \"hwan play\"],\n",
    "[\"entertain drama\", \"wonder drama\", \"likeable character\", \"drama lee\", \"story worth\", \"hype drama\", \"thrill mystery\", \"drama highly recommend\", \"acting good plot\", \"important factor\"],\n",
    "[\"i'm gonna lie\", \"hate open ending\", \"city evil\", \"burn drama\", \"hell people\", \"hole drama\", \"drag story\", \"horror fantasy\", \"evil punish evil\", \"ground break\"],\n",
    "[\"make train busan\", \"everyone's cup tea\", \"lds hjw\", \"butcher shop\", \"instant coffee\", \"cat mouse game\", \"chefs kiss\", \"learn italian\", \"dad die\", \"late show\"],\n",
    "[\"guy ruthless\", \"lot blood\", \"expensive suit\", \"strong emotional\", \"unforgettable experience\", \"difficult watch\", \"watch high expectation\", \"incredibly handsome\", \"fear life\", \"next level brutality\"]]"
   ]
  },
  {
   "cell_type": "code",
   "execution_count": 16,
   "metadata": {},
   "outputs": [],
   "source": [
    "pd.set_option('display.max_rows', None)\n",
    "pd.set_option('display.max_columns', None)\n",
    "pd.set_option('display.max_seq_items', None)"
   ]
  },
  {
   "cell_type": "code",
   "execution_count": 17,
   "metadata": {},
   "outputs": [
    {
     "data": {
      "text/html": [
       "<div>\n",
       "<style scoped>\n",
       "    .dataframe tbody tr th:only-of-type {\n",
       "        vertical-align: middle;\n",
       "    }\n",
       "\n",
       "    .dataframe tbody tr th {\n",
       "        vertical-align: top;\n",
       "    }\n",
       "\n",
       "    .dataframe thead th {\n",
       "        text-align: right;\n",
       "    }\n",
       "</style>\n",
       "<table border=\"1\" class=\"dataframe\">\n",
       "  <thead>\n",
       "    <tr style=\"text-align: right;\">\n",
       "      <th></th>\n",
       "      <th>index</th>\n",
       "      <th>review</th>\n",
       "    </tr>\n",
       "  </thead>\n",
       "  <tbody>\n",
       "    <tr>\n",
       "      <th>0</th>\n",
       "      <td>911</td>\n",
       "      <td>This review may contain spoilers\\r\\nm a s t e ...</td>\n",
       "    </tr>\n",
       "  </tbody>\n",
       "</table>\n",
       "</div>"
      ],
      "text/plain": [
       "   index                                             review\n",
       "0    911  This review may contain spoilers\\r\\nm a s t e ..."
      ]
     },
     "execution_count": 17,
     "metadata": {},
     "output_type": "execute_result"
    }
   ],
   "source": [
    "crime[crime.str.contains('actress') & crime.str.contains('bae')].reset_index(drop=False, inplace=False)"
   ]
  },
  {
   "cell_type": "code",
   "execution_count": null,
   "metadata": {},
   "outputs": [],
   "source": [
    "df_drama[df_drama.str.contains('steamy') & df_drama.str.contains('kiss')& df_drama.str.contains('scene')].reset_index(drop = False, inplace = False)"
   ]
  },
  {
   "cell_type": "code",
   "execution_count": 18,
   "metadata": {},
   "outputs": [
    {
     "data": {
      "text/plain": [
       "911    This review may contain spoilers\\r\\nm a s t e ...\n",
       "Name: review, dtype: object"
      ]
     },
     "execution_count": 18,
     "metadata": {},
     "output_type": "execute_result"
    }
   ],
   "source": [
    "crime[crime.str.contains('actress') & crime.str.contains('bae')]"
   ]
  },
  {
   "cell_type": "code",
   "execution_count": 15,
   "metadata": {},
   "outputs": [
    {
     "data": {
      "text/plain": [
       "911    This review may contain spoilers\\r\\nm a s t e ...\n",
       "Name: review, dtype: object"
      ]
     },
     "execution_count": 15,
     "metadata": {},
     "output_type": "execute_result"
    }
   ],
   "source": [
    "crime[crime.str.contains('actress') & crime.str.contains('bae')]"
   ]
  },
  {
   "cell_type": "code",
   "execution_count": 29,
   "metadata": {},
   "outputs": [],
   "source": [
    "def get_n(tokens, genre):\n",
    "    token = tokens.split()\n",
    "    if len(token) == 2:\n",
    "        intersection = genre[genre.str.contains(token[0]) & genre.str.contains(token[1])].head(3)\n",
    "    else:\n",
    "        intersection = genre[genre.str.contains(token[0]) & genre.str.contains(token[1]) & genre.str.contains(token[2])].head(3)\n",
    "    return token,intersection\n"
   ]
  },
  {
   "cell_type": "code",
   "execution_count": 40,
   "metadata": {},
   "outputs": [
    {
     "name": "stdout",
     "output_type": "stream",
     "text": [
      "(['guy', 'ruthless'], 723     Different Crime Thriller\\r\\nShort: Based in th...\n",
      "1253    This review may contain spoilers\\r\\nPark Saeyo...\n",
      "1304    This review may contain spoilers\\r\\nPark Seo J...\n",
      "Name: review, dtype: object)\n",
      "(['lot', 'blood'], 407    The Most Formidable Bromance of  that will bri...\n",
      "495    The story itself does not focus only on \"who i...\n",
      "504    A very clever, simmering, at times disturbing,...\n",
      "Name: review, dtype: object)\n",
      "(['expensive', 'suit'], 440     This review may contain spoilers\\r\\nThe drama ...\n",
      "853     This review may contain spoilers\\r\\nFrom the t...\n",
      "1635    My favorite corn salad! Vincenzo is GOLD!\\r\\nT...\n",
      "Name: review, dtype: object)\n",
      "(['strong', 'emotional'], 406    The Daesang for the th Baeksang goes to…\\r\\nSh...\n",
      "409    The Perfect Definition of 'Thriller'\\r\\nA dram...\n",
      "421    ONE OF THE BEST SHOWS I'VE SEEN TILL DATE IN M...\n",
      "Name: review, dtype: object)\n",
      "(['unforgettable', 'experience'], 585     Unforgivably dark... just the way I like it\\r\\...\n",
      "951     Justice for Corruption\\r\\nSTRANGER. (Forest of...\n",
      "1042    One of the best Korean crime drama I have ever...\n",
      "Name: review, dtype: object)\n",
      "(['difficult', 'watch'], 424    beyond evil? it's more like beyond standards.\\...\n",
      "440    This review may contain spoilers\\r\\nThe drama ...\n",
      "484    The best Korean drama in years\\r\\nBeyond Evil ...\n",
      "Name: review, dtype: object)\n",
      "(['watch', 'high', 'expectation'], 406    The Daesang for the th Baeksang goes to…\\r\\nSh...\n",
      "411    This review may contain spoilers\\r\\nAn intrica...\n",
      "415    % Worth Watching, Truly Recommended\\r\\nMy revi...\n",
      "Name: review, dtype: object)\n",
      "(['incredibly', 'handsome'], 1617    This review may contain spoilers\\r\\nAll Star C...\n",
      "1659    A TREAT TO WATCH <\\r\\nI have been watching so ...\n",
      "1777    The series presented from cultures (Korean, It...\n",
      "Name: review, dtype: object)\n",
      "(['fear', 'life'], 440    This review may contain spoilers\\r\\nThe drama ...\n",
      "449    This review may contain spoilers\\r\\nA rare mas...\n",
      "496    This review may contain spoilers\\r\\nTHERE'S TH...\n",
      "Name: review, dtype: object)\n",
      "(['next', 'level', 'brutality'], 1617    This review may contain spoilers\\r\\nAll Star C...\n",
      "7738    8/10 is my rating. This is a 2021 South Korean...\n",
      "Name: review, dtype: object)\n"
     ]
    }
   ],
   "source": [
    "for word in crime_cluster[5]:\n",
    "        print(get_n(word,crime))"
   ]
  },
  {
   "cell_type": "code",
   "execution_count": 43,
   "metadata": {
    "scrolled": true
   },
   "outputs": [
    {
     "data": {
      "text/plain": [
       "\"The Most Formidable Bromance of  that will bring you to your knees\\r\\nWhere do I even begin? This is the best detective thriller drama I have ever watched. There, I said it.\\r\\n\\r\\nHow many of you have grown tired of watching crime shows that just don't feel exciting anymore?\\r\\n\\r\\nSo many times, crime dramas get lost in the 'next big moment' and finding the thrill factor that they stop connecting with the watcher.\\r\\n\\r\\nBeyond Evil is a beautiful mix of emotion and supense. It's a blend of heartbreakingly slow, full of feeling moments and bone chilling darkness. It's not a super fast show. It takes its time as it unravels, develops and comes to fruition gorgeously- like a well simmered pot of stew.\\r\\n\\r\\nThe drama's biggest strength is its unforgettable characters and the mindblowing acting by the cast.\\r\\n\\r\\nIn the beginning it induces your trust issues in a gut punching manner by introducing its two seemingly morally grey and unreliable protagonists and then slowly but surely brings to light one of the best friendships the Korean cinema has ever seen.\\r\\n\\r\\nBoth the main leads are phenomenal, each holding their own and being a massive force to be reckoned with.\\r\\n\\r\\nShin Ha Kyun put out acting worthy of a Daesang. His reckless, passionate, wildly fearless and courageous detective with the biggest smile and eyes full of pain doesn't take long to cement his place in your heart.\\r\\n\\r\\nYeo Jin Goo, on the other hand, while young, owned his role phenomenally. His character Han Joo Won, a prickly, seemingly cold catlike man with heart of platinum and a strong sense of justice is extremely easy to fawn over.\\r\\n\\r\\nTogether, these two are a storm- infinitely badass with balls of steel; a dynamic team that you can't help but fall in love in with.\\r\\n\\r\\nAside from the two, all the supporting characters bring their own flavour to the screen. While their little self-proclaimed 'Avengers' police team brings instant warmth to your heart, the antagonists are blood boiling-ly good in equal measure.\\r\\n\\r\\nThe music is fantastic- sombre and dark at times; sometimes cheeky and playful and other times enough to wreck you. There are a lot of stunning shots and the drama is both extremely well written and directed.\\r\\n\\r\\nThe character development is amazing and the bonds these characters form among each other is a powerful thing to witness. There's so much nuance in these relationships and it's hard not to catch feelings and let go of your heart when it comes to a show like this.\\r\\n\\r\\nHonestly, for me a good psychological thriller is hard to come by and this was by far one of the best. I was so invested in it that some of the scenes made me bawl my eyes out, while others made me laugh, giggle, swoon and shout HOLY FUCK at the top of my lungs.\\r\\n\\r\\nThey nailed both the emotion and the 'whodunnit' aspect in a way that's very unique to the genre.\\r\\n\\r\\nIt was a wild, crazy, full of thrill and heart ride that I almost don't want to get off of.\\r\\n\\r\\nSurely, a must-watch. Highly reccomended for fans of psychological thrillers who like their dramas with a little extra oomph!\\r\\nRead More\""
      ]
     },
     "execution_count": 43,
     "metadata": {},
     "output_type": "execute_result"
    }
   ],
   "source": [
    "crime[407]"
   ]
  },
  {
   "cell_type": "code",
   "execution_count": null,
   "metadata": {},
   "outputs": [],
   "source": [
    "- cluster0\n",
    "    - I also congratulate bae donna because it must be difficult to play with someone who shows no emotion\n",
    "    - Have seen him in shewaspretty and whatswrongwithsecretarykim but in this he just nailed it.\n",
    "    - I must commend the actors and actresses for their emotional and impactful acting.\n",
    "\n",
    "- cluster1\n",
    "    - With director and screenwriter Yeon Sang-ho (Train to Busan) and co-writer Choi Kyu-Seok basing the series upon their own webcomic and original production\n",
    "- cluster3\n",
    "    - the law is perfect and you can punish all the evil doings by law\n",
    "- cluster4\n",
    "    - If you're going into this expecting some train to busan type thriller, you'll be in for great disappointment.\n",
    "- cluster5\n",
    "    - If you can digest all of this, then this show should be an unforgettable experience for you, just as it was for me\n",
    "    - the antagonists are blood boiling-ly good in equal measure"
   ]
  }
 ],
 "metadata": {
  "interpreter": {
   "hash": "0cda97531fe4f90feb5400ce5a42dd75b477a35138cbbcd6ccbf95ef906c2915"
  },
  "kernelspec": {
   "display_name": "Python 3 (ipykernel)",
   "language": "python",
   "name": "python3"
  },
  "language_info": {
   "codemirror_mode": {
    "name": "ipython",
    "version": 3
   },
   "file_extension": ".py",
   "mimetype": "text/x-python",
   "name": "python",
   "nbconvert_exporter": "python",
   "pygments_lexer": "ipython3",
   "version": "3.9.7"
  }
 },
 "nbformat": 4,
 "nbformat_minor": 2
}
