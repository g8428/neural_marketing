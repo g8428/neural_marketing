{
 "cells": [
  {
   "cell_type": "code",
   "execution_count": 3,
   "id": "bac0f4e8",
   "metadata": {},
   "outputs": [],
   "source": [
    "import warnings\n",
    "warnings.filterwarnings('ignore')"
   ]
  },
  {
   "cell_type": "code",
   "execution_count": 14,
   "id": "c9f6f8f9",
   "metadata": {},
   "outputs": [],
   "source": [
    "import pandas as pd\n",
    "import time\n",
    "from selenium.webdriver import Chrome\n",
    "from selenium.webdriver.common.by import By\n",
    "from selenium.webdriver.common.keys import Keys\n",
    "from selenium.webdriver.support.ui import WebDriverWait\n",
    "from selenium.webdriver.support import expected_conditions as EC\n",
    "from selenium import webdriver\n",
    "from selenium.common.exceptions import TimeoutException\n",
    "from selenium.webdriver.chrome.service import Service\n",
    "from webdriver_manager.chrome import ChromeDriverManager\n",
    "\n",
    "import requests \n",
    "from bs4 import BeautifulSoup\n",
    "import re\n",
    "import math"
   ]
  },
  {
   "cell_type": "code",
   "execution_count": 4,
   "id": "52f53173",
   "metadata": {},
   "outputs": [],
   "source": [
    "options = webdriver.ChromeOptions()\n",
    "options.add_argument(\"headless\")\n",
    "chrome_driver_path = '/opt/homebrew/Caskroom/chromedriver/99.0.4844.51/chromedriver'"
   ]
  },
  {
   "cell_type": "code",
   "execution_count": 1,
   "id": "fa0eb857",
   "metadata": {},
   "outputs": [],
   "source": [
    "boyfriend = 'https://www.imdb.com/title/tt8769260/reviews?ref_=tt_urv'\n",
    "miss_oh = 'https://www.imdb.com/title/tt5679572/reviews?ref_=tt_urv'\n",
    "psycho = 'https://www.imdb.com/title/tt12451520/reviews?ref_=tt_urv'\n",
    "that_day = 'https://www.imdb.com/title/tt15026724/reviews?ref_=tt_urv'\n",
    "melo = 'https://www.imdb.com/title/tt10559276/reviews?ref_=tt_urv'\n",
    "chachacha = 'https://www.imdb.com/title/tt14518756/reviews?ref_=tt_urv'\n",
    "thirty_nine = 'https://www.imdb.com/title/tt15181094/reviews?ref_=tt_urv'\n",
    "twenty_five_twenty_one = 'https://www.imdb.com/title/tt17513352/reviews?ref_=tt_urv'\n",
    "weather = 'https://www.imdb.com/title/tt15140592/reviews?ref_=tt_urv'\n",
    "# dobongsoon = 'https://mydramalist.com/18894-strong-woman-do-bong-soon/reviews?xlang=en-US&page='\n",
    "mr_sunshine = 'https://www.imdb.com/title/tt7094780/reviews?ref_=tt_urv'\n",
    "eighteen_again = 'https://www.imdb.com/title/tt12846096/reviews?ref_=tt_urv'\n",
    "record_of_youth = 'https://www.imdb.com/title/tt12850322/reviews?ref_=tt_urv'\n",
    "spring_night = 'https://www.imdb.com/title/tt10192576/reviews?ref_=tt_urv'\n",
    "yeonmo = 'https://www.imdb.com/title/tt14609428/reviews?ref_=tt_urv'\n",
    "doctor = 'https://www.imdb.com/title/tt11769304/reviews?ref_=tt_urv'\n",
    "prison = 'https://www.imdb.com/title/tt7622902/reviews?ref_=tt_urv'\n",
    "dazzling = 'https://www.imdb.com/title/tt9466968/reviews?ref_=tt_urv'\n",
    "my_mister = 'https://www.imdb.com/title/tt7923710/reviews?ref_=tt_urv'\n",
    "move_to_heaven = 'https://www.imdb.com/title/tt11052470/reviews?ref_=tt_urv'\n",
    "navillera = 'https://www.imdb.com/title/tt13885302/reviews?ref_=tt_urv'\n",
    "squid_game = 'https://www.imdb.com/title/tt10919420/reviews?ref_=tt_urv'\n",
    "k_zombie = 'https://www.imdb.com/title/tt14169960/reviews?ref_=tt_urv'\n",
    "kingdom = 'https://www.imdb.com/title/tt6611916/reviews?ref_=tt_urv'\n",
    "son_the_guest = 'https://www.imdb.com/title/tt8801670/reviews?ref_=tt_urv'\n",
    "stranger_hell = 'https://www.imdb.com/title/tt10613844/reviews?ref_=tt_urv'\n",
    "sweet_home = 'https://www.imdb.com/title/tt11612120/reviews?ref_=tt_urv'\n",
    "vagabond = 'https://www.imdb.com/title/tt8523042/reviews?ref_=tt_urv'\n",
    "monster = 'https://www.imdb.com/title/tt13634872/reviews?ref_=tt_urv'\n",
    "hellbound = 'https://www.imdb.com/title/tt12235718/reviews?ref_=tt_urv'\n",
    "juvenile = 'https://www.imdb.com/title/tt15553922/reviews?ref_=tt_urv'\n",
    "law_school = 'https://www.imdb.com/title/tt13885336/reviews?ref_=tt_urv'\n",
    "voice = 'https://www.imdb.com/title/tt6212854/reviews?ref_=tt_urv'\n",
    "extracurricular = 'https://www.imdb.com/title/tt10262630/reviews?ref_=tt_urv'\n",
    "secret_forest = 'https://www.imdb.com/title/tt6461346/reviews?ref_=tt_urv'\n",
    "signal = 'https://www.imdb.com/title/tt5332206/reviews?ref_=tt_urv'\n",
    "bad_guys = 'https://www.imdb.com/title/tt12404980/reviews?ref_=tt_urv'\n",
    "itaewon = 'https://www.imdb.com/title/tt11239552/reviews?ref_=tt_urv'\n",
    "dp = 'https://www.imdb.com/title/tt13024974/reviews?ref_=tt_urv'\n",
    "vincenzo = 'https://www.imdb.com/title/tt13433812/reviews?ref_=tt_urv'\n",
    "marvelous_rumor = 'https://www.imdb.com/title/tt13273826/reviews?ref_=tt_urv'\n",
    "nurse_An = 'https://www.imdb.com/title/tt12879522/reviews?ref_=tt_urv'\n",
    "hotel_del_luna = 'https://www.imdb.com/title/tt10220588/reviews?ref_=tt_urv'\n",
    "alhambra = 'https://www.imdb.com/title/tt8236556/reviews?ref_=tt_urv'\n",
    "silent_sea = 'https://www.imdb.com/title/tt11570202/reviews?ref_=tt_urv'"
   ]
  },
  {
   "cell_type": "code",
   "execution_count": 5,
   "id": "6751fecc",
   "metadata": {},
   "outputs": [],
   "source": [
    "def scroll_down(second):\n",
    "    driver.execute_script(\"window.scrollTo(0, document.documentElement.scrollHeight);\")\n",
    "    time.sleep(second)\n",
    "    new = driver.execute_script(\"return document.documentElement.scrollHeight\")\n",
    "    \n",
    "    return new"
   ]
  },
  {
   "cell_type": "code",
   "execution_count": 7,
   "id": "52beed30",
   "metadata": {},
   "outputs": [],
   "source": [
    "roco = [boyfriend, miss_oh, psycho, that_day, melo, chachacha, thirty_nine, twenty_five_twenty_one, weather, mr_sunshine, eighteen_again, record_of_youth, spring_night, yeonmo]\n",
    "drama = [doctor, dazzling, my_mister, prison, move_to_heaven, navillera]\n",
    "thriller = [squid_game, k_zombie, kingdom, son_the_guest, stranger_hell, sweet_home, vagabond]\n",
    "crime = [monster, hellbound, juvenile, law_school, voice, extracurricular, secret_forest, signal, bad_guys, itaewon, dp, vincenzo]\n",
    "fantasySF = [marvelous_rumor, nurse_An, hotel_del_luna, alhambra, silent_sea]"
   ]
  },
  {
   "cell_type": "code",
   "execution_count": 17,
   "id": "e188d8a6",
   "metadata": {
    "scrolled": true
   },
   "outputs": [],
   "source": [
    "def imdb(url):\n",
    "    driver.get(url)\n",
    "    driver.implicitly_wait(10)    \n",
    "\n",
    "    # 작품 제목\n",
    "    title = driver.find_element_by_css_selector('#main > section > div.subpage_title_block > div > div > h3 > a').text\n",
    "\n",
    "    # 댓글 수\n",
    "    review_counts = driver.find_element_by_xpath('/html/body/div[3]/div/div[2]/div[3]/div[1]/section/div[2]/div[1]/div/span').text\n",
    "    review_counts = int(review_counts.split(' ')[0].replace(',', ''))\n",
    "\n",
    "    # Load More 끝날 때까지 반복\n",
    "    for k in range(review_counts):    \n",
    "        try:\n",
    "            driver.find_element_by_class_name(\"ipl-load-more__button\").send_keys(Keys.ENTER)\n",
    "            time.sleep(3)\n",
    "        except Exception as ex:\n",
    "            break\n",
    "\n",
    "    # 댓글 수집\n",
    "    try:\n",
    "        time.sleep(0.5)\n",
    "        soup= BeautifulSoup(driver.page_source)\n",
    "        time.sleep(1)\n",
    "\n",
    "        comment=[]\n",
    "        x= soup.find_all(\"div\", class_=\"content\")\n",
    "\n",
    "        for h in x:\n",
    "            try:\n",
    "                tmp= h.find_all(\"div\", class_=\"text show-more__control\")[0].text\n",
    "                imdb_dict['title'].append(title)\n",
    "                imdb_dict['review'].append(tmp)\n",
    "\n",
    "            except Exception as ex:\n",
    "                tmp= h.find_all(\"div\", class_=\"text show-more__control clickable\")[0].text\n",
    "                imdb_dict['title'].append(title)\n",
    "                imdb_dict['review'].append(tmp)\n",
    "\n",
    "        time.sleep(1)\n",
    "    except Exception as ex:\n",
    "        re=['nothing']\n",
    "\n",
    "    # 한줄평\n",
    "    try:\n",
    "        oneline=[]\n",
    "        x= soup.find_all(\"div\", class_=\"lister-item-content\")\n",
    "        for h in x:\n",
    "            ol= h.find_all(\"a\", class_=\"title\")[0].text\n",
    "            imdb_dict['review'].append(ol)\n",
    "            imdb_dict['title'].append(title)\n",
    "\n",
    "        time.sleep(0.5)\n",
    "\n",
    "    except Exception as ex:\n",
    "        oneline= 'nothing'\n",
    "\n",
    "    time.sleep(1)\n",
    "    print(\"done\")"
   ]
  },
  {
   "cell_type": "code",
   "execution_count": 18,
   "id": "a201584e",
   "metadata": {
    "scrolled": true
   },
   "outputs": [
    {
     "name": "stdout",
     "output_type": "stream",
     "text": [
      "done\n",
      "done\n",
      "done\n",
      "done\n",
      "done\n",
      "done\n",
      "done\n",
      "done\n",
      "done\n",
      "done\n",
      "done\n",
      "done\n",
      "done\n",
      "done\n"
     ]
    }
   ],
   "source": [
    "imdb_dict = {}\n",
    "imdb_dict['title'] = []\n",
    "imdb_dict['review'] = []\n",
    "for drama_url in roco:\n",
    "    driver = webdriver.Chrome(chrome_driver_path, options=options)\n",
    "    imdb(drama_url)\n",
    "df_1 = pd.DataFrame(imdb_dict)\n",
    "df_1.to_csv('imdb_roco.csv')"
   ]
  },
  {
   "cell_type": "code",
   "execution_count": 19,
   "id": "6ff51d8f",
   "metadata": {},
   "outputs": [
    {
     "name": "stdout",
     "output_type": "stream",
     "text": [
      "done\n",
      "done\n",
      "done\n",
      "done\n",
      "done\n",
      "done\n"
     ]
    }
   ],
   "source": [
    "imdb_dict = {}\n",
    "imdb_dict['title'] = []\n",
    "imdb_dict['review'] = []\n",
    "for drama_url in drama:\n",
    "    driver = webdriver.Chrome(chrome_driver_path, options=options)\n",
    "    imdb(drama_url)\n",
    "df_2 = pd.DataFrame(imdb_dict)\n",
    "df_2.to_csv('imdb_drama.csv')"
   ]
  },
  {
   "cell_type": "code",
   "execution_count": 20,
   "id": "82bf37dd",
   "metadata": {},
   "outputs": [
    {
     "name": "stdout",
     "output_type": "stream",
     "text": [
      "done\n",
      "done\n",
      "done\n",
      "done\n",
      "done\n",
      "done\n",
      "done\n"
     ]
    }
   ],
   "source": [
    "imdb_dict = {}\n",
    "imdb_dict['title'] = []\n",
    "imdb_dict['review'] = []\n",
    "for drama_url in thriller:\n",
    "    driver = webdriver.Chrome(chrome_driver_path, options=options)\n",
    "    imdb(drama_url)\n",
    "df_3 = pd.DataFrame(imdb_dict)\n",
    "df_3.to_csv('imdb_thriller.csv')"
   ]
  },
  {
   "cell_type": "code",
   "execution_count": 21,
   "id": "72466bb6",
   "metadata": {},
   "outputs": [
    {
     "name": "stdout",
     "output_type": "stream",
     "text": [
      "done\n",
      "done\n",
      "done\n",
      "done\n",
      "done\n",
      "done\n",
      "done\n",
      "done\n",
      "done\n",
      "done\n",
      "done\n",
      "done\n"
     ]
    }
   ],
   "source": [
    "imdb_dict = {}\n",
    "imdb_dict['title'] = []\n",
    "imdb_dict['review'] = []\n",
    "for drama_url in crime:\n",
    "    driver = webdriver.Chrome(chrome_driver_path, options=options)\n",
    "    imdb(drama_url)\n",
    "df_4 = pd.DataFrame(imdb_dict)\n",
    "df_4.to_csv('imdb_crime.csv')"
   ]
  },
  {
   "cell_type": "code",
   "execution_count": 22,
   "id": "d36f3c5d",
   "metadata": {},
   "outputs": [
    {
     "name": "stdout",
     "output_type": "stream",
     "text": [
      "done\n",
      "done\n",
      "done\n",
      "done\n",
      "done\n"
     ]
    }
   ],
   "source": [
    "imdb_dict = {}\n",
    "imdb_dict['title'] = []\n",
    "imdb_dict['review'] = []\n",
    "for drama_url in fantasySF:\n",
    "    driver = webdriver.Chrome(chrome_driver_path, options=options)\n",
    "    imdb(drama_url)\n",
    "df_5 = pd.DataFrame(imdb_dict)\n",
    "df_5.to_csv('imdb_fantasySF.csv')"
   ]
  },
  {
   "cell_type": "code",
   "execution_count": null,
   "id": "05277426",
   "metadata": {},
   "outputs": [],
   "source": []
  }
 ],
 "metadata": {
  "kernelspec": {
   "display_name": "Python 3",
   "language": "python",
   "name": "python3"
  },
  "language_info": {
   "codemirror_mode": {
    "name": "ipython",
    "version": 3
   },
   "file_extension": ".py",
   "mimetype": "text/x-python",
   "name": "python",
   "nbconvert_exporter": "python",
   "pygments_lexer": "ipython3",
   "version": "3.9.10"
  }
 },
 "nbformat": 4,
 "nbformat_minor": 5
}
