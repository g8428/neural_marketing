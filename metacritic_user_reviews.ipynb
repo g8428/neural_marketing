{
 "cells": [
  {
   "cell_type": "code",
   "execution_count": 1,
   "id": "a25f77d7",
   "metadata": {},
   "outputs": [],
   "source": [
    "import warnings\n",
    "warnings.filterwarnings('ignore')"
   ]
  },
  {
   "cell_type": "code",
   "execution_count": 2,
   "id": "ac310b42",
   "metadata": {},
   "outputs": [],
   "source": [
    "import pandas as pd\n",
    "import time\n",
    "from tqdm.auto import tqdm\n",
    "from selenium.webdriver import Chrome\n",
    "from selenium.webdriver.common.by import By\n",
    "from selenium.webdriver.common.keys import Keys\n",
    "from selenium.webdriver.support.ui import WebDriverWait\n",
    "from selenium.webdriver.support import expected_conditions as EC\n",
    "from selenium import webdriver\n",
    "from selenium.common.exceptions import TimeoutException\n",
    "from selenium.webdriver.chrome.service import Service\n",
    "from webdriver_manager.chrome import ChromeDriverManager"
   ]
  },
  {
   "cell_type": "code",
   "execution_count": 6,
   "id": "f04453d8",
   "metadata": {},
   "outputs": [
    {
     "name": "stderr",
     "output_type": "stream",
     "text": [
      "\n",
      "\n",
      "====== WebDriver manager ======\n",
      "Current google-chrome version is 99.0.4844\n",
      "Get LATEST chromedriver version for 99.0.4844 google-chrome\n",
      "Driver [/Users/suchan/.wdm/drivers/chromedriver/mac64_m1/99.0.4844.51/chromedriver] found in cache\n"
     ]
    }
   ],
   "source": [
    "chrome_driver_path = '/opt/homebrew/Caskroom/chromedriver/99.0.4844.51/chromedriver'\n",
    "options = webdriver.ChromeOptions()\n",
    "options.add_argument(\"headless\")\n",
    "\n",
    "s=Service(ChromeDriverManager().install())\n",
    "driver = webdriver.Chrome(service=s, options=options)"
   ]
  },
  {
   "cell_type": "code",
   "execution_count": 7,
   "id": "edba75e6",
   "metadata": {},
   "outputs": [],
   "source": [
    "def scroll_down(second):\n",
    "    driver.execute_script(\"window.scrollTo(0, document.documentElement.scrollHeight);\")\n",
    "    time.sleep(second)\n",
    "    new = driver.execute_script(\"return document.documentElement.scrollHeight\")\n",
    "    \n",
    "    return new"
   ]
  },
  {
   "cell_type": "code",
   "execution_count": 11,
   "id": "64623019",
   "metadata": {},
   "outputs": [],
   "source": [
    "metacritic_user_dic = {'title' : [], 'review' : []}"
   ]
  },
  {
   "cell_type": "code",
   "execution_count": 12,
   "id": "6fa8c19a",
   "metadata": {
    "scrolled": false
   },
   "outputs": [
    {
     "name": "stdout",
     "output_type": "stream",
     "text": [
      "done\n"
     ]
    }
   ],
   "source": [
    "import requests \n",
    "from bs4 import BeautifulSoup\n",
    "import re\n",
    "#import time\n",
    "#import random as rand \n",
    "\n",
    "import pandas as pd\n",
    "\n",
    "urls = ['https://www.metacritic.com/tv/squid-game/user-reviews',\n",
    "       'https://www.metacritic.com/tv/hellbound/user-reviews', \n",
    "       'https://www.metacritic.com/tv/all-of-us-are-dead/user-reviews']\n",
    "\n",
    "\n",
    "driver.get(urls[0])\n",
    "time.sleep(3)\n",
    "\n",
    "last_height = driver.execute_script(\"return document.documentElement.scrollHeight\")\n",
    "while True:\n",
    "    new_height = scroll_down(2)\n",
    "    if new_height == last_height:\n",
    "        new_height = scroll_down(2)\n",
    "        if new_height == last_height:\n",
    "            break\n",
    "    last_height = new_height\n",
    "for j in range(1, 88):\n",
    "    review = driver.find_element_by_xpath(f'/html/body/div[2]/div/div/div[1]/div[3]/div/div[1]/div[6]/div/div[{j}]/div[2]/div[2]/div').text\n",
    "    if review.endswith('Expand') == True:\n",
    "        driver.find_element_by_xpath(f'/html/body/div[2]/div/div/div[1]/div[3]/div/div[1]/div[6]/div/div[{j}]/div[2]/div[2]/div/span/span[4]').click()\n",
    "        reviews = driver.find_element_by_xpath(f'/html/body/div[2]/div/div/div[1]/div[3]/div/div[1]/div[6]/div/div[{j}]/div[2]/div[2]/div/span/span[2]').text\n",
    "        metacritic_user_dic['title'].append('squid_game')\n",
    "        metacritic_user_dic['review'].append(reviews)\n",
    "    else:\n",
    "        reviews = driver.find_element_by_xpath(f'/html/body/div[2]/div/div/div[1]/div[3]/div/div[1]/div[6]/div/div[{j}]/div[2]/div[2]/div/span').text\n",
    "        metacritic_user_dic['title'].append('squid_game')\n",
    "        metacritic_user_dic['review'].append(reviews)\n",
    "print(\"done\")"
   ]
  },
  {
   "cell_type": "code",
   "execution_count": 16,
   "id": "e0e2af4c",
   "metadata": {},
   "outputs": [
    {
     "name": "stdout",
     "output_type": "stream",
     "text": [
      "done\n"
     ]
    }
   ],
   "source": [
    "urls = ['https://www.metacritic.com/tv/squid-game/user-reviews',\n",
    "       'https://www.metacritic.com/tv/hellbound/user-reviews', \n",
    "       'https://www.metacritic.com/tv/all-of-us-are-dead/user-reviews']\n",
    "\n",
    "\n",
    "driver.get(urls[1])\n",
    "time.sleep(3)\n",
    "\n",
    "last_height = driver.execute_script(\"return document.documentElement.scrollHeight\")\n",
    "while True:\n",
    "    new_height = scroll_down(2)\n",
    "    if new_height == last_height:\n",
    "        new_height = scroll_down(2)\n",
    "        if new_height == last_height:\n",
    "            break\n",
    "    last_height = new_height\n",
    "for j in range(1, 10):\n",
    "    review = driver.find_element_by_xpath(f'/html/body/div[2]/div/div/div[1]/div[3]/div/div[1]/div[6]/div/div[{j}]/div[2]/div[2]/div').text\n",
    "    if review.endswith('Expand') == True:\n",
    "        driver.find_element_by_xpath(f'/html/body/div[2]/div/div/div[1]/div[3]/div/div[1]/div[6]/div/div[{j}]/div[2]/div[2]/div/span/span[4]').click()\n",
    "        reviews = driver.find_element_by_xpath(f'/html/body/div[2]/div/div/div[1]/div[3]/div/div[1]/div[6]/div/div[{j}]/div[2]/div[2]/div/span/span[2]').text\n",
    "        metacritic_user_dic['title'].append('hellbound')\n",
    "        metacritic_user_dic['review'].append(reviews)\n",
    "    else:\n",
    "        reviews = driver.find_element_by_xpath(f'/html/body/div[2]/div/div/div[1]/div[3]/div/div[1]/div[6]/div/div[{j}]/div[2]/div[2]/div/span').text\n",
    "        metacritic_user_dic['title'].append('hellbound')\n",
    "        metacritic_user_dic['review'].append(reviews)\n",
    "print(\"done\")"
   ]
  },
  {
   "cell_type": "code",
   "execution_count": 21,
   "id": "c533198f",
   "metadata": {},
   "outputs": [
    {
     "name": "stdout",
     "output_type": "stream",
     "text": [
      "done\n"
     ]
    }
   ],
   "source": [
    "urls = ['https://www.metacritic.com/tv/squid-game/user-reviews',\n",
    "       'https://www.metacritic.com/tv/hellbound/user-reviews', \n",
    "       'https://www.metacritic.com/tv/all-of-us-are-dead/user-reviews']\n",
    "\n",
    "\n",
    "driver.get(urls[2])\n",
    "time.sleep(3)\n",
    "\n",
    "last_height = driver.execute_script(\"return document.documentElement.scrollHeight\")\n",
    "while True:\n",
    "    new_height = scroll_down(2)\n",
    "    if new_height == last_height:\n",
    "        new_height = scroll_down(2)\n",
    "        if new_height == last_height:\n",
    "            break\n",
    "    last_height = new_height\n",
    "for j in range(1, 11):\n",
    "    review = driver.find_element_by_xpath(f'/html/body/div[2]/div/div/div[1]/div[3]/div/div[1]/div[6]/div/div[{j}]/div[2]/div[2]/div').text\n",
    "    if review.endswith('Expand') == True:\n",
    "        driver.find_element_by_xpath(f'/html/body/div[2]/div/div/div[1]/div[3]/div/div[1]/div[6]/div/div[{j}]/div[2]/div[2]/div/span/span[4]').click()\n",
    "        reviews = driver.find_element_by_xpath(f'/html/body/div[2]/div/div/div[1]/div[3]/div/div[1]/div[6]/div/div[{j}]/div[2]/div[2]/div/span/span[2]').text\n",
    "        metacritic_user_dic['title'].append('k_zombie')\n",
    "        metacritic_user_dic['review'].append(reviews)\n",
    "    else:\n",
    "        reviews = driver.find_element_by_xpath(f'/html/body/div[2]/div/div/div[1]/div[3]/div/div[1]/div[6]/div/div[{j}]/div[2]/div[2]/div/span').text\n",
    "        metacritic_user_dic['title'].append('k_zombie')\n",
    "        metacritic_user_dic['review'].append(reviews)\n",
    "print(\"done\")"
   ]
  },
  {
   "cell_type": "code",
   "execution_count": 22,
   "id": "63dee62d",
   "metadata": {},
   "outputs": [
    {
     "data": {
      "text/html": [
       "<div>\n",
       "<style scoped>\n",
       "    .dataframe tbody tr th:only-of-type {\n",
       "        vertical-align: middle;\n",
       "    }\n",
       "\n",
       "    .dataframe tbody tr th {\n",
       "        vertical-align: top;\n",
       "    }\n",
       "\n",
       "    .dataframe thead th {\n",
       "        text-align: right;\n",
       "    }\n",
       "</style>\n",
       "<table border=\"1\" class=\"dataframe\">\n",
       "  <thead>\n",
       "    <tr style=\"text-align: right;\">\n",
       "      <th></th>\n",
       "      <th>title</th>\n",
       "      <th>review</th>\n",
       "    </tr>\n",
       "  </thead>\n",
       "  <tbody>\n",
       "    <tr>\n",
       "      <th>0</th>\n",
       "      <td>squid_game</td>\n",
       "      <td>Squid Game is average show. Average actors, av...</td>\n",
       "    </tr>\n",
       "    <tr>\n",
       "      <th>1</th>\n",
       "      <td>squid_game</td>\n",
       "      <td>If you’ve seen Asian game shows or TV challeng...</td>\n",
       "    </tr>\n",
       "    <tr>\n",
       "      <th>2</th>\n",
       "      <td>squid_game</td>\n",
       "      <td>Its not bad, Just over-rated. I think that peo...</td>\n",
       "    </tr>\n",
       "    <tr>\n",
       "      <th>3</th>\n",
       "      <td>squid_game</td>\n",
       "      <td>Squid Game is of the Puzzle-Adventure-Mystery-...</td>\n",
       "    </tr>\n",
       "    <tr>\n",
       "      <th>4</th>\n",
       "      <td>squid_game</td>\n",
       "      <td>One of the biggest sensations on Netflix right...</td>\n",
       "    </tr>\n",
       "    <tr>\n",
       "      <th>...</th>\n",
       "      <td>...</td>\n",
       "      <td>...</td>\n",
       "    </tr>\n",
       "    <tr>\n",
       "      <th>129</th>\n",
       "      <td>k_zombie</td>\n",
       "      <td>Some of the contrivances in this are just insa...</td>\n",
       "    </tr>\n",
       "    <tr>\n",
       "      <th>130</th>\n",
       "      <td>k_zombie</td>\n",
       "      <td>The show is close to a 10, highly addictive an...</td>\n",
       "    </tr>\n",
       "    <tr>\n",
       "      <th>131</th>\n",
       "      <td>k_zombie</td>\n",
       "      <td>Entertaining for the first half, high intensit...</td>\n",
       "    </tr>\n",
       "    <tr>\n",
       "      <th>132</th>\n",
       "      <td>k_zombie</td>\n",
       "      <td>Very entertaining thrilling\\nSome minor flaws ...</td>\n",
       "    </tr>\n",
       "    <tr>\n",
       "      <th>133</th>\n",
       "      <td>k_zombie</td>\n",
       "      <td>I'm not a fan of TV series and this one is not...</td>\n",
       "    </tr>\n",
       "  </tbody>\n",
       "</table>\n",
       "<p>134 rows × 2 columns</p>\n",
       "</div>"
      ],
      "text/plain": [
       "          title                                             review\n",
       "0    squid_game  Squid Game is average show. Average actors, av...\n",
       "1    squid_game  If you’ve seen Asian game shows or TV challeng...\n",
       "2    squid_game  Its not bad, Just over-rated. I think that peo...\n",
       "3    squid_game  Squid Game is of the Puzzle-Adventure-Mystery-...\n",
       "4    squid_game  One of the biggest sensations on Netflix right...\n",
       "..          ...                                                ...\n",
       "129    k_zombie  Some of the contrivances in this are just insa...\n",
       "130    k_zombie  The show is close to a 10, highly addictive an...\n",
       "131    k_zombie  Entertaining for the first half, high intensit...\n",
       "132    k_zombie  Very entertaining thrilling\\nSome minor flaws ...\n",
       "133    k_zombie  I'm not a fan of TV series and this one is not...\n",
       "\n",
       "[134 rows x 2 columns]"
      ]
     },
     "execution_count": 22,
     "metadata": {},
     "output_type": "execute_result"
    }
   ],
   "source": [
    "df_metacritic_user = pd.DataFrame(metacritic_user_dic)\n",
    "df_metacritic_user"
   ]
  },
  {
   "cell_type": "code",
   "execution_count": 23,
   "id": "34de2036",
   "metadata": {},
   "outputs": [],
   "source": [
    "  df_metacritic_user.to_csv(\"metacritic_user_reviews.csv\")"
   ]
  },
  {
   "cell_type": "code",
   "execution_count": null,
   "id": "b93d37bd",
   "metadata": {},
   "outputs": [],
   "source": []
  }
 ],
 "metadata": {
  "kernelspec": {
   "display_name": "Python 3 (ipykernel)",
   "language": "python",
   "name": "python3"
  },
  "language_info": {
   "codemirror_mode": {
    "name": "ipython",
    "version": 3
   },
   "file_extension": ".py",
   "mimetype": "text/x-python",
   "name": "python",
   "nbconvert_exporter": "python",
   "pygments_lexer": "ipython3",
   "version": "3.9.10"
  }
 },
 "nbformat": 4,
 "nbformat_minor": 5
}
