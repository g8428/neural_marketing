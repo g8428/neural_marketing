{
 "cells": [
  {
   "cell_type": "code",
   "execution_count": 38,
   "id": "9e810992",
   "metadata": {},
   "outputs": [],
   "source": [
    "import warnings\n",
    "warnings.filterwarnings('ignore')"
   ]
  },
  {
   "cell_type": "code",
   "execution_count": 39,
   "id": "89a7d1e8",
   "metadata": {},
   "outputs": [],
   "source": [
    "import pandas as pd\n",
    "import time\n",
    "import requests\n",
    "from bs4 import BeautifulSoup\n",
    "from tqdm.auto import tqdm\n",
    "from selenium.webdriver import Chrome\n",
    "from selenium.webdriver.common.by import By\n",
    "from selenium.webdriver.common.keys import Keys\n",
    "from selenium.webdriver.support.ui import WebDriverWait\n",
    "from selenium.webdriver.support import expected_conditions as EC\n",
    "from selenium import webdriver\n",
    "from selenium.common.exceptions import TimeoutException\n",
    "from selenium.webdriver.chrome.service import Service\n",
    "from webdriver_manager.chrome import ChromeDriverManager"
   ]
  },
  {
   "cell_type": "code",
   "execution_count": 40,
   "id": "392f55e8",
   "metadata": {},
   "outputs": [],
   "source": [
    "squid_game_user_review = 'https://www.metacritic.com/tv/squid-game/user-reviews'\n",
    "hellbound_user_review = 'https://www.metacritic.com/tv/hellbound/user-reviews'\n",
    "k_zombie_user_review = 'https://www.metacritic.com/tv/all-of-us-are-dead/user-reviews'\n",
    "dramas_user_review = [squid_game_user_review, hellbound_user_review, k_zombie_user_review]"
   ]
  },
  {
   "cell_type": "code",
   "execution_count": 41,
   "id": "4b66c28f",
   "metadata": {},
   "outputs": [
    {
     "name": "stderr",
     "output_type": "stream",
     "text": [
      "\n",
      "\n",
      "====== WebDriver manager ======\n",
      "Current google-chrome version is 99.0.4844\n",
      "Get LATEST chromedriver version for 99.0.4844 google-chrome\n",
      "Driver [/Users/suchan/.wdm/drivers/chromedriver/mac64_m1/99.0.4844.51/chromedriver] found in cache\n"
     ]
    }
   ],
   "source": [
    "chrome_driver_path = '/opt/homebrew/Caskroom/chromedriver/99.0.4844.51/chromedriver'\n",
    "options = webdriver.ChromeOptions()\n",
    "options.add_argument(\"headless\")\n",
    "\n",
    "s=Service(ChromeDriverManager().install())\n",
    "driver = webdriver.Chrome(service=s, options=options)"
   ]
  },
  {
   "cell_type": "code",
   "execution_count": 42,
   "id": "bfff9bfd",
   "metadata": {},
   "outputs": [],
   "source": [
    "def scroll_down(second):\n",
    "    driver.execute_script(\"window.scrollTo(0, document.documentElement.scrollHeight);\")\n",
    "    time.sleep(second)\n",
    "    new = driver.execute_script(\"return document.documentElement.scrollHeight\")\n",
    "    \n",
    "    return new"
   ]
  },
  {
   "cell_type": "code",
   "execution_count": 45,
   "id": "b0cb7b96",
   "metadata": {
    "scrolled": false
   },
   "outputs": [
    {
     "name": "stdout",
     "output_type": "stream",
     "text": [
      "Its not bad, Just over-rated. I think that people everywhere have been saying that this show is one of the best shows ever made and I think I would have to dissagre. Its not bad but its not all that.\n",
      "Obra maestra, los mejores personajes en muchos años, tanto en cine como en formato serie\n",
      "It is the best series I have watched after Game of Thrones. It is really entertaining series that you want to watch twice.\n",
      "Squid game is an entertaining series with a great plot and a lot of scenes that kept you watching.\n",
      "I beleive this TV series is hardly a normal one. It also has some illogical concepts and sequences like \"scanning masks in order to uphold security\".\n",
      "Squid Game: Season 1 offers an exciting character-driven drama, but is unable to avoid some filler content.\n",
      "There were logic errors from time to time but end of all chapters were intriguing and surprising.I really liked\n",
      "Literally cannot pick a single flaw in this show. Second best series I've ever watched behind Breaking Bad. The whole show is basically a masterclass on plot twists and character development.\n",
      "Pues no está mal, es entretenida, pero sobrevalorada más allá de cualquier límite.\n",
      "One of the greatest shows ever made. I believe it is absolutely flawless. The characters, the screenplay, the plot, the pacing, the drama, the horror. Bravo\n",
      "Definitely the best spent time procrastinating. I don’t even think I’ll be able to get this show out of my head for at least a month.\n",
      "Totally worth it. It is one of the best narratives I have seen in years. Of course, you have to watch it in Korean to really appreciate the acting.\n",
      "Great and very deep show. Of course there are a lot of haters giving the show low ratings, they don't like the truth. And the truth is Squid Game is an excellent distillation of how predatory capitalism works.\n",
      "Do they have to scream in every scene?! Like, all the time??? (The \"Fly Me to the Moon\" cover is good, though.)\n",
      "It's a pretty decent netflix show, but honestly, i think it's kinda overrated.\n",
      "If North Korea gives a show two thumbs up, (https://www.indiewire.com/2021/10/squid-game-north-korea-salutes-critique-south-korea-1234671661/#!)\n",
      "\n",
      "then one should be morally obligated to give it two thumbs down.\n",
      "A fairly basic storyline with some average to very poor acting. However the character development was decent in some cases, and it maintained a level of interest throughout.\n",
      "jgkyukjhkuyjktugkjuyjktugyjutyjtuyjujghghjghjtuyjunj6y7ututytyut7666ghfghhg\n",
      "Squid game is a fenomenal show with a lot of excitement. The plot is a very good idea and worked out good. The only disappointment is the VIP's terrible acting. They were kind of funny though.\n",
      "Entertaining and fun show, let down by mediocre writing and annoying, simplistic characters.\n",
      "The dialogs are poor, the story is kind nonsense but somehow you want to see the games that are the only good part of the game\n",
      "Невероятный корейский феномен, покоривший весь мир! Посмотрел на одном дыхании и за один день!\n",
      "Série bacana, com enredo curioso, aguardando a nova temporada. Vale a pena assistir!\n",
      "An incredible series. Such a level of tension and interest has not been caused for a long time by TV series and, in principle, everything that has been in pop culture for a long time. Applause for the creators!\n",
      "Took a few episodes for me to be hooked in, but when I finally was, it took off. From loving a character to absolutely hating them, this show made you feel. This being my first Korean show watch, I will never regret it. Episode 6, tears galore.\n",
      "Increíble para dormir.\n",
      "Fotografía genial. Diálogos pobres. Guion mediocre. Típica serie de moda que sube como la espuma y olvidas al mes siguiente.\n",
      "Very predictable. It's like Brazilian \"3%\" and Spain \"Mind Heist\" in one project. Super overrated\n",
      "Naprawdę średni serial, nie rozumiem hype'u na niego, moim zdaniem o wiele lepsze jest chociaż arcane od Riotu, bądź klasyczny Rick and Morty\n",
      "It's a fantastic series, engaging, brilliant, and horribly tense, which here in Brazil is much admired.\n",
      "excellent\n",
      "[ ek-suh-luhnt ]\n",
      "\n",
      "adjective\n",
      "possessing outstanding quality or superior merit; remarkably good.\n",
      "Acting is ok,Nice scenes but ending is weird,overall its a bit overrated but good,i give it 8,5/10\n",
      "Muszę przyznać że dość mile zostałem zaskoczony. Serial do oglądnięcia, jednak na pewno nie będę o nim mówił wszędzie że był super hiper i tak dalej. Po prostu był.\n",
      "Неплохой сериал,может затянуть.Интересная подача\n",
      "Amazing and engaging storyline and characters. Would highly recommend to anybody with a Netflix account.\n",
      "Squid Game is fun and smart. Some of the acting is corny, but overall a very interesting concept for a show.\n",
      "ㅤㅤㅤㅤㅤㅤㅤㅤㅤㅤㅤㅤㅤㅤㅤㅤㅤㅤㅤㅤㅤㅤㅤㅤㅤㅤㅤㅤㅤㅤㅤㅤㅤㅤㅤㅤㅤㅤㅤㅤㅤㅤㅤㅤㅤㅤㅤㅤㅤㅤㅤㅤㅤㅤㅤㅤㅤㅤㅤㅤㅤㅤㅤㅤㅤㅤㅤㅤㅤㅤㅤㅤㅤㅤㅤ\n",
      "One of the greatest shows ever made. I believe it is absolutely flawless. The characters, the screenplay, the plot, the pacing, the drama, the horror. Bravo\n",
      "1 of 3 users found this helpful12 | Report abuseAll this user's reviews\n",
      "not a bad movie indeed, but nothing impresses me at all. there are too many plot holes and character developments are just odd. In conclusion, too much seeding, not recommend at all\n",
      "The concept felt too simple for me. But the way they show is amazing. Looking forward to the future of soldiers and players.\n",
      "You know why I gave you such a high score.\n",
      "Just know that \"while satirizing Korean society, it has a narrative that unravels into a game that children enjoyed in Korea,\" and go to Netflix right away to watch it.\n",
      "Very addictive to watch. I binge watched it. Only the dubbed version can be a bit weird when it comes to voice lines.\n",
      "One of the best series i have every watched! It gives you suspense, drama and exciting moments. The plot becomes more and more interesting as the episodes go. The characters are well established, the performances are exceptional. Please do watch it!\n",
      "///////////////////////////////////////////////////////////////////////////\n",
      "I've seen it multiple times, and I still enjoy it. It's very emotional. I would recommend anyone watch it if you think you're into these kinds of shows.\n",
      "What will you do for money? is the main idea of Squid Game. Netflix's global hit is well-deserving, but is not 'perfect', hopefully we can get more answers in S2.\n",
      "Massively overhyped nonsense. CGI is fairly poor quality. Storyline isn't great and the characters aren't very engaging. I wouldn't recommend this, and certainly wouldn't compare it to squid game!\n",
      "Big surprise of the year, ‘Hellbound’ breaks several barriers, exposes the worst of humanity, ending its first season in a glorious and dark way. A work of the highest level.\n",
      "First season itself is a bit too fragmented. But still very thrilling. High expectations on season 2 to bring it back together.\n",
      "This series was a waste of potential. Intriguing premise but squandered with a weak script, shock value, and a barrage of disturbing imagery and behavior. Presents humanity at its worth to the point of absurdity.\n",
      "Один из самых тупых сериалов. Никаких объяснений, одна глупость героев, сюжета и абсолютно неинтересные персонажи.\n",
      "This is a amazing show, alot of action, twist and turns. I really thinkthis deserves a 10/10.\n",
      "The show is close to a 10, highly addictive and bingey, not cringey. I am not one of those blindly love everything Korean people but I just found this highly entertaining. Better than Squid Game.\n",
      "Very entertaining thrilling\n",
      "Some minor flaws but overall binge worthy\n",
      "Really loved it\n"
     ]
    }
   ],
   "source": [
    "for url in dramas_user_review :\n",
    "    driver.get(url)\n",
    "    time.sleep(1)\n",
    "    last_height = driver.execute_script(\"return document.documentElement.scrollHeight\")\n",
    "    while True:\n",
    "        new_height = scroll_down(2)\n",
    "        if new_height == last_height:\n",
    "            new_height = scroll_down(2)\n",
    "            if new_height == last_height:\n",
    "                break\n",
    "        last_height = new_height\n",
    "    driver.execute_script(\"window.scrollTo(0, document.documentElement.scrollHeight);\")\n",
    "    for i in range(87):\n",
    "        try:\n",
    "            try:\n",
    "                expand_reviewiew = driver.find_element_by_xpath(f'/html/body/div[2]/div/div/div[1]/div[3]/div/div[1]/div[6]/div/div[{i+1}]/div[2]/div[2]/div/span/span[1]')\n",
    "            except:\n",
    "                no_expand_review = driver.find_element_by_xpath(f'/html/body/div[2]/div/div/div[1]/div[3]/div/div[1]/div[6]/div/div[{i+1}]/div[2]/div[2]/div/span')\n",
    "                print(no_expand_review.text)\n",
    "                continue\n",
    "        except:\n",
    "            break"
   ]
  },
  {
   "cell_type": "code",
   "execution_count": null,
   "id": "9207ddab",
   "metadata": {},
   "outputs": [],
   "source": []
  }
 ],
 "metadata": {
  "kernelspec": {
   "display_name": "study",
   "language": "python",
   "name": "study"
  },
  "language_info": {
   "codemirror_mode": {
    "name": "ipython",
    "version": 3
   },
   "file_extension": ".py",
   "mimetype": "text/x-python",
   "name": "python",
   "nbconvert_exporter": "python",
   "pygments_lexer": "ipython3",
   "version": "3.9.10"
  }
 },
 "nbformat": 4,
 "nbformat_minor": 5
}
