{
 "cells": [
  {
   "cell_type": "code",
   "execution_count": 38,
   "id": "13556c7e",
   "metadata": {},
   "outputs": [],
   "source": [
    "import warnings\n",
    "warnings.filterwarnings('ignore')"
   ]
  },
  {
   "cell_type": "code",
   "execution_count": 39,
   "id": "937be24a",
   "metadata": {},
   "outputs": [],
   "source": [
    "import pandas as pd\n",
    "import time\n",
    "from tqdm.auto import tqdm\n",
    "from selenium.webdriver import Chrome\n",
    "from selenium.webdriver.common.by import By\n",
    "from selenium.webdriver.common.keys import Keys\n",
    "from selenium.webdriver.support.ui import WebDriverWait\n",
    "from selenium.webdriver.support import expected_conditions as EC\n",
    "from selenium import webdriver\n",
    "from selenium.common.exceptions import TimeoutException\n",
    "from selenium.webdriver.chrome.service import Service\n",
    "from webdriver_manager.chrome import ChromeDriverManager\n",
    "\n",
    "import requests \n",
    "from bs4 import BeautifulSoup\n",
    "import re\n",
    "import math"
   ]
  },
  {
   "cell_type": "code",
   "execution_count": 49,
   "id": "921c2d07",
   "metadata": {},
   "outputs": [],
   "source": [
    "options = webdriver.ChromeOptions()\n",
    "options.add_argument(\"headless\")\n",
    "chrome_driver_path = '/opt/homebrew/Caskroom/chromedriver/99.0.4844.51/chromedriver'"
   ]
  },
  {
   "cell_type": "code",
   "execution_count": 50,
   "id": "58a7ce31",
   "metadata": {},
   "outputs": [],
   "source": [
    "def scroll_down(second):\n",
    "    driver.execute_script(\"window.scrollTo(0, document.documentElement.scrollHeight);\")\n",
    "    time.sleep(second)\n",
    "    new = driver.execute_script(\"return document.documentElement.scrollHeight\")\n",
    "    \n",
    "    return new"
   ]
  },
  {
   "cell_type": "code",
   "execution_count": 66,
   "id": "0689ef80",
   "metadata": {},
   "outputs": [],
   "source": [
    "boyfriend = 'https://mydramalist.com/29722-boyfriend/reviews?xlang=en-US&page='\n",
    "miss_oh = 'https://mydramalist.com/16611-another-miss-oh/reviews?xlang=en-US&page='\n",
    "psycho = 'https://mydramalist.com/49865-psycho-but-it-s-okay/reviews?xlang=en-US&page='\n",
    "that_day = 'https://mydramalist.com/694231-us-that-year/reviews?xlang=en-US&page='\n",
    "melo = 'https://mydramalist.com/26488-the-nature-of-a-melo/reviews?xlang=en-US&page='\n",
    "chachacha = 'https://mydramalist.com/683929-mr-hong/reviews?xlang=en-US&page='\n",
    "dobongsoon = 'https://mydramalist.com/18894-strong-woman-do-bong-soon/reviews?xlang=en-US&page='\n",
    "mr_sunshine = 'https://mydramalist.com/23920-mr.-sunshine/reviews?xlang=en-US&page='\n",
    "eighteen_again = 'https://mydramalist.com/52941-eighteen-again/reviews?xlang=en-US&page='\n",
    "record_of_youth = 'https://mydramalist.com/52015-youth-report/reviews?xlang=en-US&page='\n",
    "spring_night = 'https://mydramalist.com/32977-spring-night/reviews?xlang=en-US&page='\n",
    "yeonmo = 'https://mydramalist.com/683673-affection/reviews?xlang=en-US&page='\n",
    "doctor = 'https://mydramalist.com/36269-doctor-playbook/reviews?xlang=en-US&page='\n",
    "prison = 'https://mydramalist.com/27923-prison-playbook-special/reviews?xlang=en-US&page='\n",
    "dazzling = 'https://mydramalist.com/30917-dazzling/reviews?xlang=en-US&page='\n",
    "my_mister = 'https://mydramalist.com/25172-my-ajusshi/reviews?xlang=en-US&page='\n",
    "move_to_heaven = 'https://mydramalist.com/49231-move-to-heaven/reviews?xlang=en-US&page='\n",
    "navillera = 'https://mydramalist.com/59381-navillera/reviews?xlang=en-US&page='\n",
    "squid_game = 'https://mydramalist.com/40257-round-six/reviews?xlang=en-US&page='\n",
    "k_zombie = 'https://mydramalist.com/59449-our-school-now/reviews?xlang=en-US&page='\n",
    "kingdom = 'https://mydramalist.com/22806-kingdom/reviews?xlang=en-US&page='\n",
    "son_the_guest = 'https://mydramalist.com/28686-hand/reviews?xlang=en-US&page='\n",
    "stranger_hell = 'https://mydramalist.com/33075-strangers-from-hell/reviews?xlang=en-US&page='\n",
    "sweat_home = 'https://mydramalist.com/34064-sweet-home/reviews?xlang=en-US&page='\n",
    "vagabond = 'https://mydramalist.com/28742-vagabond/reviews?xlang=en-US&page='\n",
    "monster = 'https://mydramalist.com/60911-monster/reviews?xlang=en-US&page='\n",
    "hellbound = 'https://mydramalist.com/57415-hell/reviews?xlang=en-US&page='\n",
    "juvenile = 'https://mydramalist.com/79997-boy-referee/reviews?xlang=en-US&page='\n",
    "law_school = 'https://mydramalist.com/62623-law-school/reviews?xlang=en-US&page='\n",
    "voice = 'https://mydramalist.com/20378-voice/reviews?xlang=en-US&page='\n",
    "extracurricular = 'https://mydramalist.com/34221-human-lessons/reviews?xlang=en-US&page='\n",
    "secret_forest = 'https://mydramalist.com/21934-stranger/reviews?xlang=en-US&page='\n",
    "signal = 'https://mydramalist.com/13239-signal/reviews?xlang=en-US&page='\n",
    "bad_guys = 'https://mydramalist.com/21615-bad-guys-age-of-evil/reviews?xlang=en-US&page='\n",
    "itaewon = 'https://mydramalist.com/33898-itaewon-class/reviews?xlang=en-US&page='\n",
    "dp = 'https://mydramalist.com/59001-d-p-dog-day/reviews?xlang=en-US&page='\n",
    "vincenzo = 'https://mydramalist.com/61371-vincenzo/reviews?xlang=en-US&page='\n",
    "marvelous_rumor = 'https://mydramalist.com/62085-a-wonderful-rumor/reviews?xlang=en-US&page='\n",
    "nurse_An = 'https://mydramalist.com/32566-nurse-teacher-ahn-eun-young/reviews?xlang=en-US&page='\n",
    "hotel_del_luna = 'https://mydramalist.com/32925-hotel-del-luna/reviews?xlang=en-US&page='\n",
    "alhambra = 'https://mydramalist.com/28168-memories-of-the-alhambra/reviews?xlang=en-US&page='\n",
    "silent_sea = 'https://mydramalist.com/53487-the-silent-sea/reviews?xlang=en-US&page='\n",
    "\n",
    "thirty_nine = 'https://mydramalist.com/692971-thirty-nine'\n",
    "twenty_five_twenty_one = 'https://mydramalist.com/695149-twenty-five-twenty-one'\n",
    "weather = 'https://mydramalist.com/692969-office-romance-cruelty'"
   ]
  },
  {
   "cell_type": "code",
   "execution_count": 67,
   "id": "adc29ceb",
   "metadata": {},
   "outputs": [],
   "source": [
    "roco = [boyfriend, miss_oh, psycho, that_day, melo, chachacha, dobongsoon, mr_sunshine, eighteen_again, record_of_youth, spring_night, yeonmo]\n",
    "drama = [doctor, dazzling, my_mister, prison, move_to_heaven, navillera]\n",
    "thriller = [squid_game, k_zombie, kingdom, son_the_guest, stranger_hell, sweat_home, vagabond]\n",
    "crime = [monster, hellbound, juvenile, law_school, voice, extracurricular, secret_forest, signal, bad_guys, itaewon, dp, vincenzo]\n",
    "fantasySF = [marvelous_rumor, nurse_An, hotel_del_luna, alhambra, silent_sea]"
   ]
  },
  {
   "cell_type": "code",
   "execution_count": 68,
   "id": "65ed0bfa",
   "metadata": {},
   "outputs": [],
   "source": [
    "mydramalist_dict = {}\n",
    "mydramalist_dict['title'] = []\n",
    "mydramalist_dict['review'] = []"
   ]
  },
  {
   "cell_type": "code",
   "execution_count": 84,
   "id": "3dd11c6d",
   "metadata": {},
   "outputs": [],
   "source": [
    "def mydramalist(url):\n",
    "    #페이지 넘기기\n",
    "    driver.get(url + str(1))\n",
    "    driver.implicitly_wait(10)\n",
    "    page_num = driver.find_element_by_xpath('/html/body/div[1]/div[2]/div[2]/div/div[2]/div/div[2]/div/div[3]/div/span/span/div/span/b/span').text\n",
    "    num = re.sub('[\\(,\\)]','', page_num)\n",
    "    page = int(num)//12\n",
    "    review_num = int(num)%12\n",
    "    \n",
    "    for i in range(1, page+1):\n",
    "        driver.get(url + str(i))\n",
    "        driver.implicitly_wait(10)\n",
    "        \n",
    "        #스크롤 끝까지 내리기\n",
    "        last_height = driver.execute_script(\"return document.documentElement.scrollHeight\")\n",
    "        while True:\n",
    "            new_height = scroll_down(2)\n",
    "            if new_height == last_height:\n",
    "                new_height = scroll_down(2)\n",
    "                if new_height == last_height:\n",
    "                    break\n",
    "            last_height = new_height\n",
    "            driver.implicitly_wait(10)\n",
    "                       \n",
    "        #리뷰 가져오기\n",
    "        for i in range(4, 16):\n",
    "            review = driver.find_element_by_xpath(f'/html/body/div[1]/div[2]/div[2]/div/div[2]/div/div[2]/div/div[{i}]/div[2]/div/div').text\n",
    "            mydramalist_dict['title'].append(url)\n",
    "            mydramalist_dict['review'].append(review)\n",
    "            \n",
    "    driver.get(url + str(page + 1))\n",
    "    \n",
    "    #스크롤 끝까지 내리기\n",
    "    last_height = driver.execute_script(\"return document.documentElement.scrollHeight\")\n",
    "    while True:\n",
    "        new_height = scroll_down(2)\n",
    "        if new_height == last_height:\n",
    "            new_height = scroll_down(2)\n",
    "            if new_height == last_height:\n",
    "                break\n",
    "        last_height = new_height\n",
    "        driver.implicitly_wait(10)\n",
    "    for j in range(4, review_num + 4):\n",
    "        review = driver.find_element_by_xpath(f'/html/body/div[1]/div[2]/div[2]/div/div[2]/div/div[2]/div/div[{j}]/div[2]/div/div').text\n",
    "        mydramalist_dict['title'].append(url)\n",
    "        mydramalist_dict['review'].append(review)\n",
    "    \n",
    "    print('done')"
   ]
  },
  {
   "cell_type": "code",
   "execution_count": 70,
   "id": "266325b9",
   "metadata": {},
   "outputs": [],
   "source": [
    "# /html/body/div[1]/div[2]/div[2]/div/div[2]/div/div[2]/div[10]/div[3]/ul/li[1]/div/div[2]/div[2]/p\n",
    "# /html/body/div[1]/div[2]/div[2]/div/div[2]/div/div[2]/div[10]/div[3]/ul/li[2]/div/div[2]/div[2]/div/div/p"
   ]
  },
  {
   "cell_type": "code",
   "execution_count": 72,
   "id": "97929871",
   "metadata": {
    "scrolled": true
   },
   "outputs": [
    {
     "name": "stdout",
     "output_type": "stream",
     "text": [
      "done\n",
      "done\n",
      "done\n",
      "done\n",
      "done\n",
      "done\n",
      "done\n"
     ]
    },
    {
     "ename": "NoSuchElementException",
     "evalue": "Message: no such element: Unable to locate element: {\"method\":\"xpath\",\"selector\":\"/html/body/div[1]/div[2]/div[2]/div/div[2]/div/div[2]/div/div[3]/div/span/span/div/span/b/span\"}\n  (Session info: headless chrome=99.0.4844.84)\nStacktrace:\n0   chromedriver                        0x00000001031df370 chromedriver + 4420464\n1   chromedriver                        0x0000000103176940 chromedriver + 3991872\n2   chromedriver                        0x0000000102dd6548 chromedriver + 189768\n3   chromedriver                        0x0000000102e04ef8 chromedriver + 380664\n4   chromedriver                        0x0000000102e2dbfc chromedriver + 547836\n5   chromedriver                        0x0000000102dfa248 chromedriver + 336456\n6   chromedriver                        0x00000001031a3548 chromedriver + 4175176\n7   chromedriver                        0x00000001031b995c chromedriver + 4266332\n8   chromedriver                        0x00000001031be660 chromedriver + 4286048\n9   chromedriver                        0x00000001031ba124 chromedriver + 4268324\n10  chromedriver                        0x000000010319953c chromedriver + 4134204\n11  chromedriver                        0x00000001031d1eb0 chromedriver + 4366000\n12  chromedriver                        0x00000001031d2014 chromedriver + 4366356\n13  chromedriver                        0x00000001031e5a6c chromedriver + 4446828\n14  libsystem_pthread.dylib             0x00000001b99d626c _pthread_start + 148\n15  libsystem_pthread.dylib             0x00000001b99d108c thread_start + 8\n",
     "output_type": "error",
     "traceback": [
      "\u001b[0;31m---------------------------------------------------------------------------\u001b[0m",
      "\u001b[0;31mNoSuchElementException\u001b[0m                    Traceback (most recent call last)",
      "\u001b[0;32m<ipython-input-72-b53d0b047a36>\u001b[0m in \u001b[0;36m<module>\u001b[0;34m\u001b[0m\n\u001b[1;32m      1\u001b[0m \u001b[0;32mfor\u001b[0m \u001b[0mdrama_url\u001b[0m \u001b[0;32min\u001b[0m \u001b[0mroco\u001b[0m\u001b[0;34m:\u001b[0m\u001b[0;34m\u001b[0m\u001b[0;34m\u001b[0m\u001b[0m\n\u001b[1;32m      2\u001b[0m     \u001b[0mdriver\u001b[0m \u001b[0;34m=\u001b[0m \u001b[0mwebdriver\u001b[0m\u001b[0;34m.\u001b[0m\u001b[0mChrome\u001b[0m\u001b[0;34m(\u001b[0m\u001b[0mchrome_driver_path\u001b[0m\u001b[0;34m,\u001b[0m \u001b[0moptions\u001b[0m\u001b[0;34m=\u001b[0m\u001b[0moptions\u001b[0m\u001b[0;34m)\u001b[0m\u001b[0;34m\u001b[0m\u001b[0;34m\u001b[0m\u001b[0m\n\u001b[0;32m----> 3\u001b[0;31m     \u001b[0mmydramalist\u001b[0m\u001b[0;34m(\u001b[0m\u001b[0mdrama_url\u001b[0m\u001b[0;34m)\u001b[0m\u001b[0;34m\u001b[0m\u001b[0;34m\u001b[0m\u001b[0m\n\u001b[0m",
      "\u001b[0;32m<ipython-input-69-a6153bd63c9c>\u001b[0m in \u001b[0;36mmydramalist\u001b[0;34m(url)\u001b[0m\n\u001b[1;32m      2\u001b[0m     \u001b[0;31m#페이지 넘기기\u001b[0m\u001b[0;34m\u001b[0m\u001b[0;34m\u001b[0m\u001b[0m\n\u001b[1;32m      3\u001b[0m     \u001b[0mdriver\u001b[0m\u001b[0;34m.\u001b[0m\u001b[0mget\u001b[0m\u001b[0;34m(\u001b[0m\u001b[0murl\u001b[0m \u001b[0;34m+\u001b[0m \u001b[0mstr\u001b[0m\u001b[0;34m(\u001b[0m\u001b[0;36m1\u001b[0m\u001b[0;34m)\u001b[0m\u001b[0;34m)\u001b[0m\u001b[0;34m\u001b[0m\u001b[0;34m\u001b[0m\u001b[0m\n\u001b[0;32m----> 4\u001b[0;31m     \u001b[0mpage_num\u001b[0m \u001b[0;34m=\u001b[0m \u001b[0mdriver\u001b[0m\u001b[0;34m.\u001b[0m\u001b[0mfind_element_by_xpath\u001b[0m\u001b[0;34m(\u001b[0m\u001b[0;34m'/html/body/div[1]/div[2]/div[2]/div/div[2]/div/div[2]/div/div[3]/div/span/span/div/span/b/span'\u001b[0m\u001b[0;34m)\u001b[0m\u001b[0;34m.\u001b[0m\u001b[0mtext\u001b[0m\u001b[0;34m\u001b[0m\u001b[0;34m\u001b[0m\u001b[0m\n\u001b[0m\u001b[1;32m      5\u001b[0m     \u001b[0mnum\u001b[0m \u001b[0;34m=\u001b[0m \u001b[0mre\u001b[0m\u001b[0;34m.\u001b[0m\u001b[0msub\u001b[0m\u001b[0;34m(\u001b[0m\u001b[0;34m'[\\(,\\)]'\u001b[0m\u001b[0;34m,\u001b[0m\u001b[0;34m''\u001b[0m\u001b[0;34m,\u001b[0m \u001b[0mpage_num\u001b[0m\u001b[0;34m)\u001b[0m\u001b[0;34m\u001b[0m\u001b[0;34m\u001b[0m\u001b[0m\n\u001b[1;32m      6\u001b[0m     \u001b[0mpage\u001b[0m \u001b[0;34m=\u001b[0m \u001b[0mint\u001b[0m\u001b[0;34m(\u001b[0m\u001b[0mnum\u001b[0m\u001b[0;34m)\u001b[0m\u001b[0;34m//\u001b[0m\u001b[0;36m12\u001b[0m\u001b[0;34m\u001b[0m\u001b[0;34m\u001b[0m\u001b[0m\n",
      "\u001b[0;32m/opt/homebrew/Caskroom/miniforge/base/envs/study/lib/python3.9/site-packages/selenium/webdriver/remote/webdriver.py\u001b[0m in \u001b[0;36mfind_element_by_xpath\u001b[0;34m(self, xpath)\u001b[0m\n\u001b[1;32m    519\u001b[0m             \u001b[0mstacklevel\u001b[0m\u001b[0;34m=\u001b[0m\u001b[0;36m2\u001b[0m\u001b[0;34m,\u001b[0m\u001b[0;34m\u001b[0m\u001b[0;34m\u001b[0m\u001b[0m\n\u001b[1;32m    520\u001b[0m         )\n\u001b[0;32m--> 521\u001b[0;31m         \u001b[0;32mreturn\u001b[0m \u001b[0mself\u001b[0m\u001b[0;34m.\u001b[0m\u001b[0mfind_element\u001b[0m\u001b[0;34m(\u001b[0m\u001b[0mby\u001b[0m\u001b[0;34m=\u001b[0m\u001b[0mBy\u001b[0m\u001b[0;34m.\u001b[0m\u001b[0mXPATH\u001b[0m\u001b[0;34m,\u001b[0m \u001b[0mvalue\u001b[0m\u001b[0;34m=\u001b[0m\u001b[0mxpath\u001b[0m\u001b[0;34m)\u001b[0m\u001b[0;34m\u001b[0m\u001b[0;34m\u001b[0m\u001b[0m\n\u001b[0m\u001b[1;32m    522\u001b[0m \u001b[0;34m\u001b[0m\u001b[0m\n\u001b[1;32m    523\u001b[0m     \u001b[0;32mdef\u001b[0m \u001b[0mfind_elements_by_xpath\u001b[0m\u001b[0;34m(\u001b[0m\u001b[0mself\u001b[0m\u001b[0;34m,\u001b[0m \u001b[0mxpath\u001b[0m\u001b[0;34m)\u001b[0m \u001b[0;34m->\u001b[0m \u001b[0mList\u001b[0m\u001b[0;34m[\u001b[0m\u001b[0mWebElement\u001b[0m\u001b[0;34m]\u001b[0m\u001b[0;34m:\u001b[0m\u001b[0;34m\u001b[0m\u001b[0;34m\u001b[0m\u001b[0m\n",
      "\u001b[0;32m/opt/homebrew/Caskroom/miniforge/base/envs/study/lib/python3.9/site-packages/selenium/webdriver/remote/webdriver.py\u001b[0m in \u001b[0;36mfind_element\u001b[0;34m(self, by, value)\u001b[0m\n\u001b[1;32m   1246\u001b[0m             \u001b[0mvalue\u001b[0m \u001b[0;34m=\u001b[0m \u001b[0;34m'[name=\"%s\"]'\u001b[0m \u001b[0;34m%\u001b[0m \u001b[0mvalue\u001b[0m\u001b[0;34m\u001b[0m\u001b[0;34m\u001b[0m\u001b[0m\n\u001b[1;32m   1247\u001b[0m \u001b[0;34m\u001b[0m\u001b[0m\n\u001b[0;32m-> 1248\u001b[0;31m         return self.execute(Command.FIND_ELEMENT, {\n\u001b[0m\u001b[1;32m   1249\u001b[0m             \u001b[0;34m'using'\u001b[0m\u001b[0;34m:\u001b[0m \u001b[0mby\u001b[0m\u001b[0;34m,\u001b[0m\u001b[0;34m\u001b[0m\u001b[0;34m\u001b[0m\u001b[0m\n\u001b[1;32m   1250\u001b[0m             'value': value})['value']\n",
      "\u001b[0;32m/opt/homebrew/Caskroom/miniforge/base/envs/study/lib/python3.9/site-packages/selenium/webdriver/remote/webdriver.py\u001b[0m in \u001b[0;36mexecute\u001b[0;34m(self, driver_command, params)\u001b[0m\n\u001b[1;32m    423\u001b[0m         \u001b[0mresponse\u001b[0m \u001b[0;34m=\u001b[0m \u001b[0mself\u001b[0m\u001b[0;34m.\u001b[0m\u001b[0mcommand_executor\u001b[0m\u001b[0;34m.\u001b[0m\u001b[0mexecute\u001b[0m\u001b[0;34m(\u001b[0m\u001b[0mdriver_command\u001b[0m\u001b[0;34m,\u001b[0m \u001b[0mparams\u001b[0m\u001b[0;34m)\u001b[0m\u001b[0;34m\u001b[0m\u001b[0;34m\u001b[0m\u001b[0m\n\u001b[1;32m    424\u001b[0m         \u001b[0;32mif\u001b[0m \u001b[0mresponse\u001b[0m\u001b[0;34m:\u001b[0m\u001b[0;34m\u001b[0m\u001b[0;34m\u001b[0m\u001b[0m\n\u001b[0;32m--> 425\u001b[0;31m             \u001b[0mself\u001b[0m\u001b[0;34m.\u001b[0m\u001b[0merror_handler\u001b[0m\u001b[0;34m.\u001b[0m\u001b[0mcheck_response\u001b[0m\u001b[0;34m(\u001b[0m\u001b[0mresponse\u001b[0m\u001b[0;34m)\u001b[0m\u001b[0;34m\u001b[0m\u001b[0;34m\u001b[0m\u001b[0m\n\u001b[0m\u001b[1;32m    426\u001b[0m             response['value'] = self._unwrap_value(\n\u001b[1;32m    427\u001b[0m                 response.get('value', None))\n",
      "\u001b[0;32m/opt/homebrew/Caskroom/miniforge/base/envs/study/lib/python3.9/site-packages/selenium/webdriver/remote/errorhandler.py\u001b[0m in \u001b[0;36mcheck_response\u001b[0;34m(self, response)\u001b[0m\n\u001b[1;32m    245\u001b[0m                 \u001b[0malert_text\u001b[0m \u001b[0;34m=\u001b[0m \u001b[0mvalue\u001b[0m\u001b[0;34m[\u001b[0m\u001b[0;34m'alert'\u001b[0m\u001b[0;34m]\u001b[0m\u001b[0;34m.\u001b[0m\u001b[0mget\u001b[0m\u001b[0;34m(\u001b[0m\u001b[0;34m'text'\u001b[0m\u001b[0;34m)\u001b[0m\u001b[0;34m\u001b[0m\u001b[0;34m\u001b[0m\u001b[0m\n\u001b[1;32m    246\u001b[0m             \u001b[0;32mraise\u001b[0m \u001b[0mexception_class\u001b[0m\u001b[0;34m(\u001b[0m\u001b[0mmessage\u001b[0m\u001b[0;34m,\u001b[0m \u001b[0mscreen\u001b[0m\u001b[0;34m,\u001b[0m \u001b[0mstacktrace\u001b[0m\u001b[0;34m,\u001b[0m \u001b[0malert_text\u001b[0m\u001b[0;34m)\u001b[0m  \u001b[0;31m# type: ignore[call-arg]  # mypy is not smart enough here\u001b[0m\u001b[0;34m\u001b[0m\u001b[0;34m\u001b[0m\u001b[0m\n\u001b[0;32m--> 247\u001b[0;31m         \u001b[0;32mraise\u001b[0m \u001b[0mexception_class\u001b[0m\u001b[0;34m(\u001b[0m\u001b[0mmessage\u001b[0m\u001b[0;34m,\u001b[0m \u001b[0mscreen\u001b[0m\u001b[0;34m,\u001b[0m \u001b[0mstacktrace\u001b[0m\u001b[0;34m)\u001b[0m\u001b[0;34m\u001b[0m\u001b[0;34m\u001b[0m\u001b[0m\n\u001b[0m\u001b[1;32m    248\u001b[0m \u001b[0;34m\u001b[0m\u001b[0m\n\u001b[1;32m    249\u001b[0m     \u001b[0;32mdef\u001b[0m \u001b[0m_value_or_default\u001b[0m\u001b[0;34m(\u001b[0m\u001b[0mself\u001b[0m\u001b[0;34m,\u001b[0m \u001b[0mobj\u001b[0m\u001b[0;34m:\u001b[0m \u001b[0mMapping\u001b[0m\u001b[0;34m[\u001b[0m\u001b[0m_KT\u001b[0m\u001b[0;34m,\u001b[0m \u001b[0m_VT\u001b[0m\u001b[0;34m]\u001b[0m\u001b[0;34m,\u001b[0m \u001b[0mkey\u001b[0m\u001b[0;34m:\u001b[0m \u001b[0m_KT\u001b[0m\u001b[0;34m,\u001b[0m \u001b[0mdefault\u001b[0m\u001b[0;34m:\u001b[0m \u001b[0m_VT\u001b[0m\u001b[0;34m)\u001b[0m \u001b[0;34m->\u001b[0m \u001b[0m_VT\u001b[0m\u001b[0;34m:\u001b[0m\u001b[0;34m\u001b[0m\u001b[0;34m\u001b[0m\u001b[0m\n",
      "\u001b[0;31mNoSuchElementException\u001b[0m: Message: no such element: Unable to locate element: {\"method\":\"xpath\",\"selector\":\"/html/body/div[1]/div[2]/div[2]/div/div[2]/div/div[2]/div/div[3]/div/span/span/div/span/b/span\"}\n  (Session info: headless chrome=99.0.4844.84)\nStacktrace:\n0   chromedriver                        0x00000001031df370 chromedriver + 4420464\n1   chromedriver                        0x0000000103176940 chromedriver + 3991872\n2   chromedriver                        0x0000000102dd6548 chromedriver + 189768\n3   chromedriver                        0x0000000102e04ef8 chromedriver + 380664\n4   chromedriver                        0x0000000102e2dbfc chromedriver + 547836\n5   chromedriver                        0x0000000102dfa248 chromedriver + 336456\n6   chromedriver                        0x00000001031a3548 chromedriver + 4175176\n7   chromedriver                        0x00000001031b995c chromedriver + 4266332\n8   chromedriver                        0x00000001031be660 chromedriver + 4286048\n9   chromedriver                        0x00000001031ba124 chromedriver + 4268324\n10  chromedriver                        0x000000010319953c chromedriver + 4134204\n11  chromedriver                        0x00000001031d1eb0 chromedriver + 4366000\n12  chromedriver                        0x00000001031d2014 chromedriver + 4366356\n13  chromedriver                        0x00000001031e5a6c chromedriver + 4446828\n14  libsystem_pthread.dylib             0x00000001b99d626c _pthread_start + 148\n15  libsystem_pthread.dylib             0x00000001b99d108c thread_start + 8\n"
     ]
    }
   ],
   "source": [
    "for drama_url in roco:\n",
    "    driver = webdriver.Chrome(chrome_driver_path, options=options)\n",
    "    mydramalist(drama_url)"
   ]
  },
  {
   "cell_type": "code",
   "execution_count": 75,
   "id": "5736ae2b",
   "metadata": {},
   "outputs": [],
   "source": [
    "df_1 = pd.DataFrame(mydramalist_dict)\n",
    "df_1.to_csv(\"roco_1\")"
   ]
  },
  {
   "cell_type": "code",
   "execution_count": 78,
   "id": "f9e70baf",
   "metadata": {},
   "outputs": [
    {
     "data": {
      "text/plain": [
       "['https://mydramalist.com/23920-mr.-sunshine/reviews?xlang=en-US&page=',\n",
       " 'https://mydramalist.com/52941-eighteen-again/reviews?xlang=en-US&page=',\n",
       " 'https://mydramalist.com/52015-youth-report/reviews?xlang=en-US&page=',\n",
       " 'https://mydramalist.com/32977-spring-night/reviews?xlang=en-US&page=',\n",
       " 'https://mydramalist.com/683673-affection/reviews?xlang=en-US&page=']"
      ]
     },
     "execution_count": 78,
     "metadata": {},
     "output_type": "execute_result"
    }
   ],
   "source": [
    "roco[7:]"
   ]
  },
  {
   "cell_type": "code",
   "execution_count": 80,
   "id": "22642a46",
   "metadata": {},
   "outputs": [
    {
     "name": "stdout",
     "output_type": "stream",
     "text": [
      "done\n",
      "done\n",
      "done\n",
      "done\n",
      "done\n"
     ]
    }
   ],
   "source": [
    "mydramalist_dict = {}\n",
    "mydramalist_dict['title'] = []\n",
    "mydramalist_dict['review'] = []\n",
    "for drama_url in roco[7:]:\n",
    "    driver = webdriver.Chrome(chrome_driver_path, options=options)\n",
    "    mydramalist(drama_url)\n",
    "df_2 = pd.DataFrame(mydramalist_dict)\n",
    "df_2.to_csv(\"roco_2\")"
   ]
  },
  {
   "cell_type": "code",
   "execution_count": 81,
   "id": "8096d1d9",
   "metadata": {
    "scrolled": true
   },
   "outputs": [
    {
     "name": "stdout",
     "output_type": "stream",
     "text": [
      "done\n",
      "done\n",
      "done\n"
     ]
    },
    {
     "ename": "NoSuchElementException",
     "evalue": "Message: no such element: Unable to locate element: {\"method\":\"xpath\",\"selector\":\"/html/body/div[1]/div[2]/div[2]/div/div[2]/div/div[2]/div/div[3]/div/span/span/div/span/b/span\"}\n  (Session info: headless chrome=99.0.4844.84)\nStacktrace:\n0   chromedriver                        0x0000000102c8b370 chromedriver + 4420464\n1   chromedriver                        0x0000000102c22940 chromedriver + 3991872\n2   chromedriver                        0x0000000102882548 chromedriver + 189768\n3   chromedriver                        0x00000001028b0ef8 chromedriver + 380664\n4   chromedriver                        0x00000001028d9bfc chromedriver + 547836\n5   chromedriver                        0x00000001028a6248 chromedriver + 336456\n6   chromedriver                        0x0000000102c4f548 chromedriver + 4175176\n7   chromedriver                        0x0000000102c6595c chromedriver + 4266332\n8   chromedriver                        0x0000000102c6a660 chromedriver + 4286048\n9   chromedriver                        0x0000000102c66124 chromedriver + 4268324\n10  chromedriver                        0x0000000102c4553c chromedriver + 4134204\n11  chromedriver                        0x0000000102c7deb0 chromedriver + 4366000\n12  chromedriver                        0x0000000102c7e014 chromedriver + 4366356\n13  chromedriver                        0x0000000102c91a6c chromedriver + 4446828\n14  libsystem_pthread.dylib             0x00000001b99d626c _pthread_start + 148\n15  libsystem_pthread.dylib             0x00000001b99d108c thread_start + 8\n",
     "output_type": "error",
     "traceback": [
      "\u001b[0;31m---------------------------------------------------------------------------\u001b[0m",
      "\u001b[0;31mNoSuchElementException\u001b[0m                    Traceback (most recent call last)",
      "\u001b[0;32m<ipython-input-81-aa8ba9b8a14c>\u001b[0m in \u001b[0;36m<module>\u001b[0;34m\u001b[0m\n\u001b[1;32m      4\u001b[0m \u001b[0;32mfor\u001b[0m \u001b[0mdrama_url\u001b[0m \u001b[0;32min\u001b[0m \u001b[0mdrama\u001b[0m\u001b[0;34m:\u001b[0m\u001b[0;34m\u001b[0m\u001b[0;34m\u001b[0m\u001b[0m\n\u001b[1;32m      5\u001b[0m     \u001b[0mdriver\u001b[0m \u001b[0;34m=\u001b[0m \u001b[0mwebdriver\u001b[0m\u001b[0;34m.\u001b[0m\u001b[0mChrome\u001b[0m\u001b[0;34m(\u001b[0m\u001b[0mchrome_driver_path\u001b[0m\u001b[0;34m,\u001b[0m \u001b[0moptions\u001b[0m\u001b[0;34m=\u001b[0m\u001b[0moptions\u001b[0m\u001b[0;34m)\u001b[0m\u001b[0;34m\u001b[0m\u001b[0;34m\u001b[0m\u001b[0m\n\u001b[0;32m----> 6\u001b[0;31m     \u001b[0mmydramalist\u001b[0m\u001b[0;34m(\u001b[0m\u001b[0mdrama_url\u001b[0m\u001b[0;34m)\u001b[0m\u001b[0;34m\u001b[0m\u001b[0;34m\u001b[0m\u001b[0m\n\u001b[0m\u001b[1;32m      7\u001b[0m \u001b[0mdf_3\u001b[0m \u001b[0;34m=\u001b[0m \u001b[0mpd\u001b[0m\u001b[0;34m.\u001b[0m\u001b[0mDataFrame\u001b[0m\u001b[0;34m(\u001b[0m\u001b[0mmydramalist_dict\u001b[0m\u001b[0;34m)\u001b[0m\u001b[0;34m\u001b[0m\u001b[0;34m\u001b[0m\u001b[0m\n\u001b[1;32m      8\u001b[0m \u001b[0mdf_3\u001b[0m\u001b[0;34m.\u001b[0m\u001b[0mto_csv\u001b[0m\u001b[0;34m(\u001b[0m\u001b[0;34m\"drama.csv\"\u001b[0m\u001b[0;34m)\u001b[0m\u001b[0;34m\u001b[0m\u001b[0;34m\u001b[0m\u001b[0m\n",
      "\u001b[0;32m<ipython-input-69-a6153bd63c9c>\u001b[0m in \u001b[0;36mmydramalist\u001b[0;34m(url)\u001b[0m\n\u001b[1;32m      2\u001b[0m     \u001b[0;31m#페이지 넘기기\u001b[0m\u001b[0;34m\u001b[0m\u001b[0;34m\u001b[0m\u001b[0m\n\u001b[1;32m      3\u001b[0m     \u001b[0mdriver\u001b[0m\u001b[0;34m.\u001b[0m\u001b[0mget\u001b[0m\u001b[0;34m(\u001b[0m\u001b[0murl\u001b[0m \u001b[0;34m+\u001b[0m \u001b[0mstr\u001b[0m\u001b[0;34m(\u001b[0m\u001b[0;36m1\u001b[0m\u001b[0;34m)\u001b[0m\u001b[0;34m)\u001b[0m\u001b[0;34m\u001b[0m\u001b[0;34m\u001b[0m\u001b[0m\n\u001b[0;32m----> 4\u001b[0;31m     \u001b[0mpage_num\u001b[0m \u001b[0;34m=\u001b[0m \u001b[0mdriver\u001b[0m\u001b[0;34m.\u001b[0m\u001b[0mfind_element_by_xpath\u001b[0m\u001b[0;34m(\u001b[0m\u001b[0;34m'/html/body/div[1]/div[2]/div[2]/div/div[2]/div/div[2]/div/div[3]/div/span/span/div/span/b/span'\u001b[0m\u001b[0;34m)\u001b[0m\u001b[0;34m.\u001b[0m\u001b[0mtext\u001b[0m\u001b[0;34m\u001b[0m\u001b[0;34m\u001b[0m\u001b[0m\n\u001b[0m\u001b[1;32m      5\u001b[0m     \u001b[0mnum\u001b[0m \u001b[0;34m=\u001b[0m \u001b[0mre\u001b[0m\u001b[0;34m.\u001b[0m\u001b[0msub\u001b[0m\u001b[0;34m(\u001b[0m\u001b[0;34m'[\\(,\\)]'\u001b[0m\u001b[0;34m,\u001b[0m\u001b[0;34m''\u001b[0m\u001b[0;34m,\u001b[0m \u001b[0mpage_num\u001b[0m\u001b[0;34m)\u001b[0m\u001b[0;34m\u001b[0m\u001b[0;34m\u001b[0m\u001b[0m\n\u001b[1;32m      6\u001b[0m     \u001b[0mpage\u001b[0m \u001b[0;34m=\u001b[0m \u001b[0mint\u001b[0m\u001b[0;34m(\u001b[0m\u001b[0mnum\u001b[0m\u001b[0;34m)\u001b[0m\u001b[0;34m//\u001b[0m\u001b[0;36m12\u001b[0m\u001b[0;34m\u001b[0m\u001b[0;34m\u001b[0m\u001b[0m\n",
      "\u001b[0;32m/opt/homebrew/Caskroom/miniforge/base/envs/study/lib/python3.9/site-packages/selenium/webdriver/remote/webdriver.py\u001b[0m in \u001b[0;36mfind_element_by_xpath\u001b[0;34m(self, xpath)\u001b[0m\n\u001b[1;32m    519\u001b[0m             \u001b[0mstacklevel\u001b[0m\u001b[0;34m=\u001b[0m\u001b[0;36m2\u001b[0m\u001b[0;34m,\u001b[0m\u001b[0;34m\u001b[0m\u001b[0;34m\u001b[0m\u001b[0m\n\u001b[1;32m    520\u001b[0m         )\n\u001b[0;32m--> 521\u001b[0;31m         \u001b[0;32mreturn\u001b[0m \u001b[0mself\u001b[0m\u001b[0;34m.\u001b[0m\u001b[0mfind_element\u001b[0m\u001b[0;34m(\u001b[0m\u001b[0mby\u001b[0m\u001b[0;34m=\u001b[0m\u001b[0mBy\u001b[0m\u001b[0;34m.\u001b[0m\u001b[0mXPATH\u001b[0m\u001b[0;34m,\u001b[0m \u001b[0mvalue\u001b[0m\u001b[0;34m=\u001b[0m\u001b[0mxpath\u001b[0m\u001b[0;34m)\u001b[0m\u001b[0;34m\u001b[0m\u001b[0;34m\u001b[0m\u001b[0m\n\u001b[0m\u001b[1;32m    522\u001b[0m \u001b[0;34m\u001b[0m\u001b[0m\n\u001b[1;32m    523\u001b[0m     \u001b[0;32mdef\u001b[0m \u001b[0mfind_elements_by_xpath\u001b[0m\u001b[0;34m(\u001b[0m\u001b[0mself\u001b[0m\u001b[0;34m,\u001b[0m \u001b[0mxpath\u001b[0m\u001b[0;34m)\u001b[0m \u001b[0;34m->\u001b[0m \u001b[0mList\u001b[0m\u001b[0;34m[\u001b[0m\u001b[0mWebElement\u001b[0m\u001b[0;34m]\u001b[0m\u001b[0;34m:\u001b[0m\u001b[0;34m\u001b[0m\u001b[0;34m\u001b[0m\u001b[0m\n",
      "\u001b[0;32m/opt/homebrew/Caskroom/miniforge/base/envs/study/lib/python3.9/site-packages/selenium/webdriver/remote/webdriver.py\u001b[0m in \u001b[0;36mfind_element\u001b[0;34m(self, by, value)\u001b[0m\n\u001b[1;32m   1246\u001b[0m             \u001b[0mvalue\u001b[0m \u001b[0;34m=\u001b[0m \u001b[0;34m'[name=\"%s\"]'\u001b[0m \u001b[0;34m%\u001b[0m \u001b[0mvalue\u001b[0m\u001b[0;34m\u001b[0m\u001b[0;34m\u001b[0m\u001b[0m\n\u001b[1;32m   1247\u001b[0m \u001b[0;34m\u001b[0m\u001b[0m\n\u001b[0;32m-> 1248\u001b[0;31m         return self.execute(Command.FIND_ELEMENT, {\n\u001b[0m\u001b[1;32m   1249\u001b[0m             \u001b[0;34m'using'\u001b[0m\u001b[0;34m:\u001b[0m \u001b[0mby\u001b[0m\u001b[0;34m,\u001b[0m\u001b[0;34m\u001b[0m\u001b[0;34m\u001b[0m\u001b[0m\n\u001b[1;32m   1250\u001b[0m             'value': value})['value']\n",
      "\u001b[0;32m/opt/homebrew/Caskroom/miniforge/base/envs/study/lib/python3.9/site-packages/selenium/webdriver/remote/webdriver.py\u001b[0m in \u001b[0;36mexecute\u001b[0;34m(self, driver_command, params)\u001b[0m\n\u001b[1;32m    423\u001b[0m         \u001b[0mresponse\u001b[0m \u001b[0;34m=\u001b[0m \u001b[0mself\u001b[0m\u001b[0;34m.\u001b[0m\u001b[0mcommand_executor\u001b[0m\u001b[0;34m.\u001b[0m\u001b[0mexecute\u001b[0m\u001b[0;34m(\u001b[0m\u001b[0mdriver_command\u001b[0m\u001b[0;34m,\u001b[0m \u001b[0mparams\u001b[0m\u001b[0;34m)\u001b[0m\u001b[0;34m\u001b[0m\u001b[0;34m\u001b[0m\u001b[0m\n\u001b[1;32m    424\u001b[0m         \u001b[0;32mif\u001b[0m \u001b[0mresponse\u001b[0m\u001b[0;34m:\u001b[0m\u001b[0;34m\u001b[0m\u001b[0;34m\u001b[0m\u001b[0m\n\u001b[0;32m--> 425\u001b[0;31m             \u001b[0mself\u001b[0m\u001b[0;34m.\u001b[0m\u001b[0merror_handler\u001b[0m\u001b[0;34m.\u001b[0m\u001b[0mcheck_response\u001b[0m\u001b[0;34m(\u001b[0m\u001b[0mresponse\u001b[0m\u001b[0;34m)\u001b[0m\u001b[0;34m\u001b[0m\u001b[0;34m\u001b[0m\u001b[0m\n\u001b[0m\u001b[1;32m    426\u001b[0m             response['value'] = self._unwrap_value(\n\u001b[1;32m    427\u001b[0m                 response.get('value', None))\n",
      "\u001b[0;32m/opt/homebrew/Caskroom/miniforge/base/envs/study/lib/python3.9/site-packages/selenium/webdriver/remote/errorhandler.py\u001b[0m in \u001b[0;36mcheck_response\u001b[0;34m(self, response)\u001b[0m\n\u001b[1;32m    245\u001b[0m                 \u001b[0malert_text\u001b[0m \u001b[0;34m=\u001b[0m \u001b[0mvalue\u001b[0m\u001b[0;34m[\u001b[0m\u001b[0;34m'alert'\u001b[0m\u001b[0;34m]\u001b[0m\u001b[0;34m.\u001b[0m\u001b[0mget\u001b[0m\u001b[0;34m(\u001b[0m\u001b[0;34m'text'\u001b[0m\u001b[0;34m)\u001b[0m\u001b[0;34m\u001b[0m\u001b[0;34m\u001b[0m\u001b[0m\n\u001b[1;32m    246\u001b[0m             \u001b[0;32mraise\u001b[0m \u001b[0mexception_class\u001b[0m\u001b[0;34m(\u001b[0m\u001b[0mmessage\u001b[0m\u001b[0;34m,\u001b[0m \u001b[0mscreen\u001b[0m\u001b[0;34m,\u001b[0m \u001b[0mstacktrace\u001b[0m\u001b[0;34m,\u001b[0m \u001b[0malert_text\u001b[0m\u001b[0;34m)\u001b[0m  \u001b[0;31m# type: ignore[call-arg]  # mypy is not smart enough here\u001b[0m\u001b[0;34m\u001b[0m\u001b[0;34m\u001b[0m\u001b[0m\n\u001b[0;32m--> 247\u001b[0;31m         \u001b[0;32mraise\u001b[0m \u001b[0mexception_class\u001b[0m\u001b[0;34m(\u001b[0m\u001b[0mmessage\u001b[0m\u001b[0;34m,\u001b[0m \u001b[0mscreen\u001b[0m\u001b[0;34m,\u001b[0m \u001b[0mstacktrace\u001b[0m\u001b[0;34m)\u001b[0m\u001b[0;34m\u001b[0m\u001b[0;34m\u001b[0m\u001b[0m\n\u001b[0m\u001b[1;32m    248\u001b[0m \u001b[0;34m\u001b[0m\u001b[0m\n\u001b[1;32m    249\u001b[0m     \u001b[0;32mdef\u001b[0m \u001b[0m_value_or_default\u001b[0m\u001b[0;34m(\u001b[0m\u001b[0mself\u001b[0m\u001b[0;34m,\u001b[0m \u001b[0mobj\u001b[0m\u001b[0;34m:\u001b[0m \u001b[0mMapping\u001b[0m\u001b[0;34m[\u001b[0m\u001b[0m_KT\u001b[0m\u001b[0;34m,\u001b[0m \u001b[0m_VT\u001b[0m\u001b[0;34m]\u001b[0m\u001b[0;34m,\u001b[0m \u001b[0mkey\u001b[0m\u001b[0;34m:\u001b[0m \u001b[0m_KT\u001b[0m\u001b[0;34m,\u001b[0m \u001b[0mdefault\u001b[0m\u001b[0;34m:\u001b[0m \u001b[0m_VT\u001b[0m\u001b[0;34m)\u001b[0m \u001b[0;34m->\u001b[0m \u001b[0m_VT\u001b[0m\u001b[0;34m:\u001b[0m\u001b[0;34m\u001b[0m\u001b[0;34m\u001b[0m\u001b[0m\n",
      "\u001b[0;31mNoSuchElementException\u001b[0m: Message: no such element: Unable to locate element: {\"method\":\"xpath\",\"selector\":\"/html/body/div[1]/div[2]/div[2]/div/div[2]/div/div[2]/div/div[3]/div/span/span/div/span/b/span\"}\n  (Session info: headless chrome=99.0.4844.84)\nStacktrace:\n0   chromedriver                        0x0000000102c8b370 chromedriver + 4420464\n1   chromedriver                        0x0000000102c22940 chromedriver + 3991872\n2   chromedriver                        0x0000000102882548 chromedriver + 189768\n3   chromedriver                        0x00000001028b0ef8 chromedriver + 380664\n4   chromedriver                        0x00000001028d9bfc chromedriver + 547836\n5   chromedriver                        0x00000001028a6248 chromedriver + 336456\n6   chromedriver                        0x0000000102c4f548 chromedriver + 4175176\n7   chromedriver                        0x0000000102c6595c chromedriver + 4266332\n8   chromedriver                        0x0000000102c6a660 chromedriver + 4286048\n9   chromedriver                        0x0000000102c66124 chromedriver + 4268324\n10  chromedriver                        0x0000000102c4553c chromedriver + 4134204\n11  chromedriver                        0x0000000102c7deb0 chromedriver + 4366000\n12  chromedriver                        0x0000000102c7e014 chromedriver + 4366356\n13  chromedriver                        0x0000000102c91a6c chromedriver + 4446828\n14  libsystem_pthread.dylib             0x00000001b99d626c _pthread_start + 148\n15  libsystem_pthread.dylib             0x00000001b99d108c thread_start + 8\n"
     ]
    }
   ],
   "source": [
    "mydramalist_dict = {}\n",
    "mydramalist_dict['title'] = []\n",
    "mydramalist_dict['review'] = []\n",
    "for drama_url in drama:\n",
    "    driver = webdriver.Chrome(chrome_driver_path, options=options)\n",
    "    mydramalist(drama_url)"
   ]
  },
  {
   "cell_type": "code",
   "execution_count": 82,
   "id": "bd5be216",
   "metadata": {},
   "outputs": [],
   "source": [
    "df_3 = pd.DataFrame(mydramalist_dict)\n",
    "df_3.to_csv(\"drama_1.csv\")"
   ]
  },
  {
   "cell_type": "code",
   "execution_count": 83,
   "id": "d90c51aa",
   "metadata": {},
   "outputs": [
    {
     "name": "stdout",
     "output_type": "stream",
     "text": [
      "done\n",
      "done\n",
      "done\n"
     ]
    }
   ],
   "source": [
    "mydramalist_dict = {}\n",
    "mydramalist_dict['title'] = []\n",
    "mydramalist_dict['review'] = []\n",
    "for drama_url in drama[3:]:\n",
    "    driver = webdriver.Chrome(chrome_driver_path, options=options)\n",
    "    mydramalist(drama_url)\n",
    "df_4 = pd.DataFrame(mydramalist_dict)\n",
    "df_4.to_csv(\"drama_2.csv\")"
   ]
  },
  {
   "cell_type": "code",
   "execution_count": 85,
   "id": "d304575b",
   "metadata": {},
   "outputs": [
    {
     "name": "stdout",
     "output_type": "stream",
     "text": [
      "done\n",
      "done\n",
      "done\n",
      "done\n",
      "done\n",
      "done\n",
      "done\n"
     ]
    }
   ],
   "source": [
    "mydramalist_dict = {}\n",
    "mydramalist_dict['title'] = []\n",
    "mydramalist_dict['review'] = []\n",
    "for drama_url in thriller:\n",
    "    driver = webdriver.Chrome(chrome_driver_path, options=options)\n",
    "    mydramalist(drama_url)\n",
    "df_5 = pd.DataFrame(mydramalist_dict)\n",
    "df_5.to_csv(\"thriller.csv\")"
   ]
  },
  {
   "cell_type": "code",
   "execution_count": 86,
   "id": "d9a6eb78",
   "metadata": {},
   "outputs": [
    {
     "name": "stdout",
     "output_type": "stream",
     "text": [
      "done\n",
      "done\n",
      "done\n",
      "done\n",
      "done\n",
      "done\n",
      "done\n",
      "done\n",
      "done\n",
      "done\n",
      "done\n",
      "done\n"
     ]
    }
   ],
   "source": [
    "mydramalist_dict = {}\n",
    "mydramalist_dict['title'] = []\n",
    "mydramalist_dict['review'] = []\n",
    "for drama_url in crime:\n",
    "    driver = webdriver.Chrome(chrome_driver_path, options=options)\n",
    "    mydramalist(drama_url)\n",
    "df_6 = pd.DataFrame(mydramalist_dict)\n",
    "df_6.to_csv(\"crime.csv\")"
   ]
  },
  {
   "cell_type": "code",
   "execution_count": null,
   "id": "07984a02",
   "metadata": {},
   "outputs": [
    {
     "name": "stdout",
     "output_type": "stream",
     "text": [
      "done\n",
      "done\n",
      "done\n",
      "done\n"
     ]
    }
   ],
   "source": [
    "mydramalist_dict = {}\n",
    "mydramalist_dict['title'] = []\n",
    "mydramalist_dict['review'] = []\n",
    "for drama_url in fantasySF:\n",
    "    driver = webdriver.Chrome(chrome_driver_path, options=options)\n",
    "    mydramalist(drama_url)\n",
    "df_7 = pd.DataFrame(mydramalist_dict)\n",
    "df_7.to_csv(\"fantasySF.csv\")"
   ]
  },
  {
   "cell_type": "code",
   "execution_count": null,
   "id": "bbe44fd3",
   "metadata": {},
   "outputs": [],
   "source": []
  }
 ],
 "metadata": {
  "kernelspec": {
   "display_name": "study",
   "language": "python",
   "name": "study"
  },
  "language_info": {
   "codemirror_mode": {
    "name": "ipython",
    "version": 3
   },
   "file_extension": ".py",
   "mimetype": "text/x-python",
   "name": "python",
   "nbconvert_exporter": "python",
   "pygments_lexer": "ipython3",
   "version": "3.9.10"
  }
 },
 "nbformat": 4,
 "nbformat_minor": 5
}
