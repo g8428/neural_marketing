{
 "cells": [
  {
   "cell_type": "code",
   "execution_count": null,
   "metadata": {},
   "outputs": [],
   "source": [
    "fantasySF_Clusters = [[\"sung super powerful\", \"spiritual magical also\", \"shame actor\", \"yoo train busan\", \"drama master's\", \"teach korean writer\", \"idol actress\", \"world koo's training\", \"ryu tae\", \"soap opera\"],\n",
    "[\"trove drama pleasure\", \"hype drama come\", \"fantasy cinematic vibe\", \"show thrill\", \"amazing series\", \"story entertain enough\", \"play peek amazing\", \"recommend passionate genre\", \"rewatch value actually\", \"drama beautiful watch\"],\n",
    "[\"vengeful ghost\", \"story death felt\", \"something destroy plot\", \"surround death many\", \"show unpredictable\", \"suffer untold unspeakable\", \"regret watch show\", \"slub can't see\", \"restless soul unable\", \"suspenseful till last\"],\n",
    "[\"immerse world\", \"play exactly hop\", \"live thousand\", \"watch lot show\", \"live hype\", \"fast forwarding\", \"pace show\", \"show even cgi\", \"everyone play\", \"show thrill\"],\n",
    "[\"walk ethic handbook\", \"school build pond\", \"sell noodle\", \"climate change\", \"ricecake soup expect\", \"nurse fight jelly\", \"temper ice queen\", \"hong sister write\", \"marco bug\", \"lack chemistry\"],\n",
    "[\"finish whole series\", \"take long human\", \"write emotionally deep\", \"long favorite\", \"whole cast\", \"stagnant heavy drama\", \"worry everyone cry\", \"beauty beast\", \"best show ever\", \"romance lead sadly\"]]"
   ]
  },
  {
   "cell_type": "code",
   "execution_count": null,
   "metadata": {},
   "outputs": [],
   "source": [
    "th_Cluster4 = [[\"apocalyptic show\", \"resident evil\", \"bad netflix\", \"game tug war\", \"anti capitalist\", \"dark comedy\", \"film parasite\", \"devil judge\", \"villain hero\", \"pure evil\"],\n",
    "[\"train busan zombie\", \"chef's kiss\", \"home webtoon\", \"game tug war\", \"archer girl\", \"taxi driver\", \"bank account\", \"watch anime\", \"movie hunger game\", \"tiger hunter\"],\n",
    "[\"great everyone cast\", \"game rich people\", \"really enjoyed watch\", \"beautiful set\", \"entertain enough\", \"fan favorite\", \"easy kill\", \"kind game\", \"binge watch whole\", \"watch fast forward\"],\n",
    "[\"fun drama\", \"really enjoy drama\",\"drama make sense\", \"drama worth watch\", \"drama beautiful\", \"drama easily\", \"thrill suspense\", \"good thriller\", \"drama fan\", \"drama deserve\"],\n",
    "[\"mystery surround\", \"story find\", \"depth story\", \"character kind\", \"premise story\", \"story felt\", \"story line interest\", \"interesting storyline\", \"series hope season\", \"character storyline\"],\n",
    "[\"typical korean drama\", \"classical music\", \"miss anything\", \"organ harvest\", \"taxi driver\", \"archer girl\", \"detective kang\", \"school violence\", \"enredo desenvolvimento\", \"watch korean english\"]]\n"
   ]
  },
  {
   "cell_type": "code",
   "execution_count": null,
   "metadata": {},
   "outputs": [],
   "source": [
    "trl=[[\"brother run\",\"tug war game\",\"blue danube\",\"nature show\",\"korean hunger\",\"battle royale alice\",\"piggy bank\",\"cup tea\",\"chef's kiss\",\"japanese game\",\"train busan zombie\",\"renew second season\",\"archer girl\",\"moon jo's\",\"hunger game maze\",\"alice borderland hunger\",\"move building\",\"organ harvest\",\"find food water\",\"lord fly\",\"bank account\",\"sewol ferry\",\"best kdramas\",\"classical music\",\"protein monster\",\"detective kang\",\"21st century\",\"attack titan\",\"taxi driver\",\"enredo desenvolvimento\"],\n",
    "[\"highly recommend show\",\"role perfectly\",\"favorite scene\",\"easy kill\",\"plot make sense\",\"solid soundtrack\",\"good fight\",\"play huge\",\"game deadly twist\",\"beautiful set\",\"great job character\",\"directing good\",\"plot everything\",\"well choreograph\",\"cast wonderful\",\"battle survival\",\"cool monster\",\"engage show\",\"extreme competition\",\"drama perfect\",\"tie loose\",\"best concept\",\"good action drama\",\"rave review\",\"blood even\",\"enough drive\",\"cast everything\",\"game live\",\"kill vibe\",\"everyone love\"],\n",
    "[\"apocalyptic show\",\"lot people die\",\"game parasite\",\"others kill\",\"monster roam\",\"steal show\",\"brutality game\",\"spoil anything\",\"waste hour life\",\"human desperation\",\"never read webtoon\",\"lady vengeance\",\"random people\",\"lose entire family\",\"game organizer\",\"drama everyone\",\"school violence\",\"mutate monster\",\"fan battle\",\"people debt\",\"show monster\",\"anti capitalist\",\"pure evil\",\"many twist turn\",\"disturb watch\",\"else show\",\"away horror\",\"attack titan\",\"teen angst\",\"devil judge\"],\n",
    "[\"scaredy cat\",\"drama last episode\",\"script horrible\",\"high school drama\",\"poor actor\",\"language barrier\",\"rest drama\",\"end cliff hanger\",\"drama mixed\",\"rat high\",\"best drama ever\",\"drama short\",\"plane end\",\"drama sweet home\",\"drama miss\",\"series disappoint\",\"lose entire family\",\"drama friendship\",\"drama deserve\",\"political drama\",\"talk acting\",\"police station\",\"dark gritty\",\"asian horror\",\"type series\",\"emotionally drain\",\"makeup special\",\"damsel distress\",\"emotional connection character\",\"character struggle\"],\n",
    "[\"faith humanity\",\"sunshine goblin\",\"enjoy hope\",\"kind game\",\"everyone love\",\"find food water\",\"anyone read\",\"money willing\",\"really understand people\",\"hearted people\",\"save brother\",\"predictable sometimes\",\"eye candy\",\"love ost\",\"love asian\",\"god also\",\"fit scene\",\"many annoy\",\"sweet home south\",\"sense episode\",\"hype train\",\"idea people\",\"wonder show\",\"sang wook\",\"eat alive\",\"recommend show anyone\",\"take breath\",\"help viewer\",\"chef's kiss\",\"medium hype\"],\n",
    "[\"interest story\",\"character enjoy\",\"drama however\",\"really enjoy drama\",\"suspense action\",\"special effect story\",\"character mostly\",\"genre find\",\"expectation drama\",\"drama unique\",\"drama deserve\",\"favorite scene\",\"cool story\",\"bore enjoy\",\"even funny\",\"make care character\",\"try drama\",\"creepy smile\",\"surprise good\",\"thrilling emotional\",\"depth story\",\"hearted people\",\"leave lasting impression\",\"feeling series\",\"different good\",\"fan thriller\",\"series addictive\",\"episode felt bit\",\"story ridiculous\",\"premise character\"]]"
   ]
  },
  {
   "cell_type": "code",
   "execution_count": 1,
   "metadata": {},
   "outputs": [],
   "source": [
    "import pandas as pd\n",
    "df = pd.read_csv('drama_final.csv')"
   ]
  },
  {
   "cell_type": "code",
   "execution_count": 2,
   "metadata": {},
   "outputs": [],
   "source": [
    "crime = df[df.genre=='crime']['review']"
   ]
  },
  {
   "cell_type": "code",
   "execution_count": 3,
   "metadata": {},
   "outputs": [
    {
     "data": {
      "text/plain": [
       "406    The Daesang for the th Baeksang goes to…\\r\\nSh...\n",
       "407    The Most Formidable Bromance of  that will bri...\n",
       "408    This review may contain spoilers\\r\\nDong Sik a...\n",
       "409    The Perfect Definition of 'Thriller'\\r\\nA dram...\n",
       "410    ABSOLUTELY MIND-BLOWING & MUST-WATCH!\\r\\nso i’...\n",
       "Name: review, dtype: object"
      ]
     },
     "execution_count": 3,
     "metadata": {},
     "output_type": "execute_result"
    }
   ],
   "source": [
    "crime.head()"
   ]
  },
  {
   "cell_type": "code",
   "execution_count": 4,
   "metadata": {},
   "outputs": [],
   "source": [
    "crime_cluster = [[\"actress bae\", \"wrong secretary kim\", \"hyuk's wife, best korean show\", \"seo favorite\", \"good actor actresses\", \"love female\", \"law school best\", \"chefs kiss\", \"great job show\"],\n",
    "[\"geun won's\", \"love itaewon\", \"yeo jingoo\", \"director yeon sing\", \"jin goo great\", \"hyun give outstanding\", \"korea want\", \"bum ryu\", \"best ost\", \"hwan play\"],\n",
    "[\"entertain drama\", \"wonder drama\", \"likeable character\", \"drama lee\", \"story worth\", \"hype drama\", \"thrill mystery\", \"drama highly recommend\", \"acting good plot\", \"important factor\"],\n",
    "[\"i'm gonna lie\", \"hate open ending\", \"city evil\", \"burn drama\", \"hell people\", \"hole drama\", \"drag story\", \"horror fantasy\", \"evil punish evil\", \"ground break\"],\n",
    "[\"make train busan\", \"everyone's cup tea\", \"lds hjw\", \"butcher shop\", \"instant coffee\", \"cat mouse game\", \"chefs kiss\", \"learn italian\", \"dad die\", \"late show\"],\n",
    "[\"guy ruthless\", \"lot blood\", \"expensive suit\", \"strong emotional\", \"unforgettable experience\", \"difficult watch\", \"watch high expectation\", \"incredibly handsome\", \"fear life\", \"next level brutality\"]]"
   ]
  },
  {
   "cell_type": "code",
   "execution_count": 11,
   "metadata": {},
   "outputs": [
    {
     "data": {
      "text/plain": [
       "911    This review may contain spoilers\\r\\nm a s t e ...\n",
       "Name: review, dtype: object"
      ]
     },
     "execution_count": 11,
     "metadata": {},
     "output_type": "execute_result"
    }
   ],
   "source": [
    "crime[crime.str.contains('actress') & crime.str.contains('bae')]"
   ]
  },
  {
   "cell_type": "code",
   "execution_count": 10,
   "metadata": {},
   "outputs": [],
   "source": [
    "def get_n(tokens, genre):\n",
    "    token = tokens.split()\n",
    "    if len(token) == 2:\n",
    "        intersection = genre[genre.str.contains(token[0]) & genre.str.contains(token[1])].head(2)\n",
    "    else:\n",
    "        intersection = genre[genre.str.contains(token[0]) & genre.str.contains(token[1]) & genre.str.contains(token[2])].head(2)\n",
    "    return intersection\n"
   ]
  },
  {
   "cell_type": "code",
   "execution_count": 13,
   "metadata": {},
   "outputs": [
    {
     "name": "stdout",
     "output_type": "stream",
     "text": [
      "911    This review may contain spoilers\\r\\nm a s t e ...\n",
      "Name: review, dtype: object\n",
      "1232    What a drama man. First time watched the weekl...\n",
      "Name: review, dtype: object\n",
      "Series([], Name: review, dtype: object)\n",
      "1020    It's been a wonderful year for dramas. Especia...\n",
      "1159    This review may contain spoilers\\r\\nA Mixed Ba...\n",
      "Name: review, dtype: object\n",
      "767    Despite the many good reviews on this drama, I...\n",
      "771    I hate this drama. There's barely anything wor...\n",
      "Name: review, dtype: object\n",
      "476    This review may contain spoilers\\r\\nAccidental...\n",
      "603    Could've been great\\r\\nI love law dramas. Law ...\n",
      "Name: review, dtype: object\n",
      "597    This review may contain spoilers\\r\\nIn the wor...\n",
      "659    Law School = one of 's best K-drama!\\r\\n:\\r\\nT...\n",
      "Name: review, dtype: object\n",
      "1233    Great and Good\\r\\nTo be honest, I watched this...\n",
      "1708    A / SHOW AFTER SO LONG!!!\\r\\nVINCENZO CASSANO ...\n",
      "Name: review, dtype: object\n",
      "408    This review may contain spoilers\\r\\nDong Sik a...\n",
      "409    The Perfect Definition of 'Thriller'\\r\\nA dram...\n",
      "Name: review, dtype: object\n",
      "Series([], Name: review, dtype: object)\n",
      "790     This review may contain spoilers\\r\\nComing int...\n",
      "1289    Amazing, I’m speechless\\r\\nI seriously didn’t ...\n",
      "Name: review, dtype: object\n",
      "Series([], Name: review, dtype: object)\n",
      "524     Is This A ‘Hellbound’ Experience?\\r\\n\\r\\n\\r\\nW...\n",
      "1608    This is a story about the lesser of two evils....\n",
      "Name: review, dtype: object\n",
      "410    ABSOLUTELY MIND-BLOWING & MUST-WATCH!\\r\\nso i’...\n",
      "436    This review may contain spoilers\\r\\nGame of su...\n",
      "Name: review, dtype: object\n",
      "1367    This review may contain spoilers\\r\\nDEEP AND M...\n",
      "Name: review, dtype: object\n",
      "768    Lately I got tired of the same old K-Drama doi...\n",
      "801    Craving for Season ~!\\r\\nMade an account here ...\n",
      "Name: review, dtype: object\n",
      "Series([], Name: review, dtype: object)\n",
      "406    The Daesang for the th Baeksang goes to…\\r\\nSh...\n",
      "407    The Most Formidable Bromance of  that will bri...\n",
      "Name: review, dtype: object\n",
      "508    This review may contain spoilers\\r\\nMixed feel...\n",
      "911    This review may contain spoilers\\r\\nm a s t e ...\n",
      "Name: review, dtype: object\n",
      "434    A tale of twisted characters.\\r\\nI am honestly...\n",
      "436    This review may contain spoilers\\r\\nGame of su...\n",
      "Name: review, dtype: object\n",
      "408    This review may contain spoilers\\r\\nDong Sik a...\n",
      "409    The Perfect Definition of 'Thriller'\\r\\nA dram...\n",
      "Name: review, dtype: object\n",
      "596    This review may contain spoilers\\r\\nA show whe...\n",
      "615    Sometimes average is just perfect\\r\\nThe first...\n",
      "Name: review, dtype: object\n",
      "406    The Daesang for the th Baeksang goes to…\\r\\nSh...\n",
      "410    ABSOLUTELY MIND-BLOWING & MUST-WATCH!\\r\\nso i’...\n",
      "Name: review, dtype: object\n",
      "406    The Daesang for the th Baeksang goes to…\\r\\nSh...\n",
      "408    This review may contain spoilers\\r\\nDong Sik a...\n",
      "Name: review, dtype: object\n",
      "411    This review may contain spoilers\\r\\nAn intrica...\n",
      "418    WHAT THE HECK!!! THIS IS PERFECT!!!\\r\\nLook, t...\n",
      "Name: review, dtype: object\n",
      "408    This review may contain spoilers\\r\\nDong Sik a...\n",
      "409    The Perfect Definition of 'Thriller'\\r\\nA dram...\n",
      "Name: review, dtype: object\n",
      "411    This review may contain spoilers\\r\\nAn intrica...\n",
      "428    A psychological crime thriller of many layers\\...\n",
      "Name: review, dtype: object\n",
      "406    The Daesang for the th Baeksang goes to…\\r\\nSh...\n",
      "408    This review may contain spoilers\\r\\nDong Sik a...\n",
      "Name: review, dtype: object\n",
      "521    The fear of death follows from the fear of lif...\n",
      "540    Hot Mess\\r\\nPS: it's my first time writing a r...\n",
      "Name: review, dtype: object\n",
      "Series([], Name: review, dtype: object)\n",
      "536    Everyone needs to stop talking crap about this...\n",
      "815    This review may contain spoilers\\r\\nNot your t...\n",
      "Name: review, dtype: object\n",
      "406    The Daesang for the th Baeksang goes to…\\r\\nSh...\n",
      "458    I have no words to say how this drama made me ...\n",
      "Name: review, dtype: object\n",
      "406    The Daesang for the th Baeksang goes to…\\r\\nSh...\n",
      "415    % Worth Watching, Truly Recommended\\r\\nMy revi...\n",
      "Name: review, dtype: object\n",
      "454    Beyond Masterpiece\\r\\nPlot is well-written. No...\n",
      "477    Decent\\r\\nThe st half was decently interesting...\n",
      "Name: review, dtype: object\n",
      "406    The Daesang for the th Baeksang goes to…\\r\\nSh...\n",
      "409    The Perfect Definition of 'Thriller'\\r\\nA dram...\n",
      "Name: review, dtype: object\n",
      "412    Not Perfect, But Still Above the Average of Mo...\n",
      "431    Amazing series! A must watch!\\r\\nThis series i...\n",
      "Name: review, dtype: object\n",
      "5472    Hellbound is a dragged-about-through-the-muck,...\n",
      "5556    Well, I can't seem to get those \"monsters\" out...\n",
      "Name: review, dtype: object\n",
      "590    It takes a village to raise a child…\\r\\nA tale...\n",
      "635    A Must Watch LAW Drama\\r\\nLaw school is the pe...\n",
      "Name: review, dtype: object\n",
      "406    The Daesang for the th Baeksang goes to…\\r\\nSh...\n",
      "434    A tale of twisted characters.\\r\\nI am honestly...\n",
      "Name: review, dtype: object\n",
      "5500    First of all the concept is really intriguing ...\n",
      "Name: review, dtype: object\n",
      "715    I've been of police/crime related drama for qu...\n",
      "948    For sure not everyone's cup of tea.\\r\\nThis is...\n",
      "Name: review, dtype: object\n",
      "Series([], Name: review, dtype: object)\n",
      "406    The Daesang for the th Baeksang goes to…\\r\\nSh...\n",
      "433    It was okay/-\\r\\nThe acting was really good an...\n",
      "Name: review, dtype: object\n",
      "1532    Perfect Score because it's Perfect for me.\\r\\n...\n",
      "1624    This review may contain spoilers\\r\\nUnexpected...\n",
      "Name: review, dtype: object\n",
      "942     Riveting is the word for this drama. You get a...\n",
      "1468    This review may contain spoilers\\r\\nDid I miss...\n",
      "Name: review, dtype: object\n",
      "1233    Great and Good\\r\\nTo be honest, I watched this...\n",
      "1708    A / SHOW AFTER SO LONG!!!\\r\\nVINCENZO CASSANO ...\n",
      "Name: review, dtype: object\n",
      "1515    This series is bonkers on so many levels, and ...\n",
      "Name: review, dtype: object\n",
      "551    Not As Good Or Captivating As Train To Busan &...\n",
      "865    This review may contain spoilers\\r\\nIt could h...\n",
      "Name: review, dtype: object\n",
      "410    ABSOLUTELY MIND-BLOWING & MUST-WATCH!\\r\\nso i’...\n",
      "420    This review may contain spoilers\\r\\nBeyond Exp...\n",
      "Name: review, dtype: object\n",
      "723     Different Crime Thriller\\r\\nShort: Based in th...\n",
      "1253    This review may contain spoilers\\r\\nPark Saeyo...\n",
      "Name: review, dtype: object\n",
      "407    The Most Formidable Bromance of  that will bri...\n",
      "495    The story itself does not focus only on \"who i...\n",
      "Name: review, dtype: object\n",
      "440    This review may contain spoilers\\r\\nThe drama ...\n",
      "853    This review may contain spoilers\\r\\nFrom the t...\n",
      "Name: review, dtype: object\n",
      "406    The Daesang for the th Baeksang goes to…\\r\\nSh...\n",
      "409    The Perfect Definition of 'Thriller'\\r\\nA dram...\n",
      "Name: review, dtype: object\n",
      "585    Unforgivably dark... just the way I like it\\r\\...\n",
      "951    Justice for Corruption\\r\\nSTRANGER. (Forest of...\n",
      "Name: review, dtype: object\n",
      "424    beyond evil? it's more like beyond standards.\\...\n",
      "440    This review may contain spoilers\\r\\nThe drama ...\n",
      "Name: review, dtype: object\n",
      "406    The Daesang for the th Baeksang goes to…\\r\\nSh...\n",
      "411    This review may contain spoilers\\r\\nAn intrica...\n",
      "Name: review, dtype: object\n",
      "1617    This review may contain spoilers\\r\\nAll Star C...\n",
      "1659    A TREAT TO WATCH <\\r\\nI have been watching so ...\n",
      "Name: review, dtype: object\n",
      "440    This review may contain spoilers\\r\\nThe drama ...\n",
      "449    This review may contain spoilers\\r\\nA rare mas...\n",
      "Name: review, dtype: object\n",
      "1617    This review may contain spoilers\\r\\nAll Star C...\n",
      "7738    8/10 is my rating. This is a 2021 South Korean...\n",
      "Name: review, dtype: object\n"
     ]
    }
   ],
   "source": [
    "for cluster in crime_cluster:\n",
    "    for word in cluster:\n",
    "        get_n(word,crime)"
   ]
  },
  {
   "cell_type": "code",
   "execution_count": null,
   "metadata": {},
   "outputs": [],
   "source": []
  }
 ],
 "metadata": {
  "interpreter": {
   "hash": "0cda97531fe4f90feb5400ce5a42dd75b477a35138cbbcd6ccbf95ef906c2915"
  },
  "kernelspec": {
   "display_name": "Python 3 (ipykernel)",
   "language": "python",
   "name": "python3"
  },
  "language_info": {
   "codemirror_mode": {
    "name": "ipython",
    "version": 3
   },
   "file_extension": ".py",
   "mimetype": "text/x-python",
   "name": "python",
   "nbconvert_exporter": "python",
   "pygments_lexer": "ipython3",
   "version": "3.9.7"
  }
 },
 "nbformat": 4,
 "nbformat_minor": 2
}
