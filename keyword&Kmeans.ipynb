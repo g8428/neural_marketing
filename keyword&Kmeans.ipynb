{
  "cells": [
    {
      "cell_type": "code",
      "execution_count": 1,
      "metadata": {
        "id": "06HDiFQ0cKkc"
      },
      "outputs": [],
      "source": [
        "import pandas as pd\n",
        "import numpy as np\n",
        "\n",
        "df = pd.read_csv(\"/content/drive/MyDrive/2022-1/국비지원교육/실습폴더/crawling_on_bare_ground/drama_final.csv\")"
      ]
    },
    {
      "cell_type": "code",
      "source": [
        "df.groupby('genre').count()"
      ],
      "metadata": {
        "colab": {
          "base_uri": "https://localhost:8080/",
          "height": 237
        },
        "id": "X_PKit713vdq",
        "outputId": "e5c6d2c8-d7af-4584-de20-be7b7f9d0968"
      },
      "execution_count": 2,
      "outputs": [
        {
          "output_type": "execute_result",
          "data": {
            "text/plain": [
              "           Unnamed: 0  review\n",
              "genre                        \n",
              "crime            4580    4580\n",
              "drama            1558    1558\n",
              "fantasySF        2136    2136\n",
              "roco             4606    4606\n",
              "thriller        10069   10069"
            ],
            "text/html": [
              "\n",
              "  <div id=\"df-a3daa947-9480-433d-b5c2-f65d939e9fc2\">\n",
              "    <div class=\"colab-df-container\">\n",
              "      <div>\n",
              "<style scoped>\n",
              "    .dataframe tbody tr th:only-of-type {\n",
              "        vertical-align: middle;\n",
              "    }\n",
              "\n",
              "    .dataframe tbody tr th {\n",
              "        vertical-align: top;\n",
              "    }\n",
              "\n",
              "    .dataframe thead th {\n",
              "        text-align: right;\n",
              "    }\n",
              "</style>\n",
              "<table border=\"1\" class=\"dataframe\">\n",
              "  <thead>\n",
              "    <tr style=\"text-align: right;\">\n",
              "      <th></th>\n",
              "      <th>Unnamed: 0</th>\n",
              "      <th>review</th>\n",
              "    </tr>\n",
              "    <tr>\n",
              "      <th>genre</th>\n",
              "      <th></th>\n",
              "      <th></th>\n",
              "    </tr>\n",
              "  </thead>\n",
              "  <tbody>\n",
              "    <tr>\n",
              "      <th>crime</th>\n",
              "      <td>4580</td>\n",
              "      <td>4580</td>\n",
              "    </tr>\n",
              "    <tr>\n",
              "      <th>drama</th>\n",
              "      <td>1558</td>\n",
              "      <td>1558</td>\n",
              "    </tr>\n",
              "    <tr>\n",
              "      <th>fantasySF</th>\n",
              "      <td>2136</td>\n",
              "      <td>2136</td>\n",
              "    </tr>\n",
              "    <tr>\n",
              "      <th>roco</th>\n",
              "      <td>4606</td>\n",
              "      <td>4606</td>\n",
              "    </tr>\n",
              "    <tr>\n",
              "      <th>thriller</th>\n",
              "      <td>10069</td>\n",
              "      <td>10069</td>\n",
              "    </tr>\n",
              "  </tbody>\n",
              "</table>\n",
              "</div>\n",
              "      <button class=\"colab-df-convert\" onclick=\"convertToInteractive('df-a3daa947-9480-433d-b5c2-f65d939e9fc2')\"\n",
              "              title=\"Convert this dataframe to an interactive table.\"\n",
              "              style=\"display:none;\">\n",
              "        \n",
              "  <svg xmlns=\"http://www.w3.org/2000/svg\" height=\"24px\"viewBox=\"0 0 24 24\"\n",
              "       width=\"24px\">\n",
              "    <path d=\"M0 0h24v24H0V0z\" fill=\"none\"/>\n",
              "    <path d=\"M18.56 5.44l.94 2.06.94-2.06 2.06-.94-2.06-.94-.94-2.06-.94 2.06-2.06.94zm-11 1L8.5 8.5l.94-2.06 2.06-.94-2.06-.94L8.5 2.5l-.94 2.06-2.06.94zm10 10l.94 2.06.94-2.06 2.06-.94-2.06-.94-.94-2.06-.94 2.06-2.06.94z\"/><path d=\"M17.41 7.96l-1.37-1.37c-.4-.4-.92-.59-1.43-.59-.52 0-1.04.2-1.43.59L10.3 9.45l-7.72 7.72c-.78.78-.78 2.05 0 2.83L4 21.41c.39.39.9.59 1.41.59.51 0 1.02-.2 1.41-.59l7.78-7.78 2.81-2.81c.8-.78.8-2.07 0-2.86zM5.41 20L4 18.59l7.72-7.72 1.47 1.35L5.41 20z\"/>\n",
              "  </svg>\n",
              "      </button>\n",
              "      \n",
              "  <style>\n",
              "    .colab-df-container {\n",
              "      display:flex;\n",
              "      flex-wrap:wrap;\n",
              "      gap: 12px;\n",
              "    }\n",
              "\n",
              "    .colab-df-convert {\n",
              "      background-color: #E8F0FE;\n",
              "      border: none;\n",
              "      border-radius: 50%;\n",
              "      cursor: pointer;\n",
              "      display: none;\n",
              "      fill: #1967D2;\n",
              "      height: 32px;\n",
              "      padding: 0 0 0 0;\n",
              "      width: 32px;\n",
              "    }\n",
              "\n",
              "    .colab-df-convert:hover {\n",
              "      background-color: #E2EBFA;\n",
              "      box-shadow: 0px 1px 2px rgba(60, 64, 67, 0.3), 0px 1px 3px 1px rgba(60, 64, 67, 0.15);\n",
              "      fill: #174EA6;\n",
              "    }\n",
              "\n",
              "    [theme=dark] .colab-df-convert {\n",
              "      background-color: #3B4455;\n",
              "      fill: #D2E3FC;\n",
              "    }\n",
              "\n",
              "    [theme=dark] .colab-df-convert:hover {\n",
              "      background-color: #434B5C;\n",
              "      box-shadow: 0px 1px 3px 1px rgba(0, 0, 0, 0.15);\n",
              "      filter: drop-shadow(0px 1px 2px rgba(0, 0, 0, 0.3));\n",
              "      fill: #FFFFFF;\n",
              "    }\n",
              "  </style>\n",
              "\n",
              "      <script>\n",
              "        const buttonEl =\n",
              "          document.querySelector('#df-a3daa947-9480-433d-b5c2-f65d939e9fc2 button.colab-df-convert');\n",
              "        buttonEl.style.display =\n",
              "          google.colab.kernel.accessAllowed ? 'block' : 'none';\n",
              "\n",
              "        async function convertToInteractive(key) {\n",
              "          const element = document.querySelector('#df-a3daa947-9480-433d-b5c2-f65d939e9fc2');\n",
              "          const dataTable =\n",
              "            await google.colab.kernel.invokeFunction('convertToInteractive',\n",
              "                                                     [key], {});\n",
              "          if (!dataTable) return;\n",
              "\n",
              "          const docLinkHtml = 'Like what you see? Visit the ' +\n",
              "            '<a target=\"_blank\" href=https://colab.research.google.com/notebooks/data_table.ipynb>data table notebook</a>'\n",
              "            + ' to learn more about interactive tables.';\n",
              "          element.innerHTML = '';\n",
              "          dataTable['output_type'] = 'display_data';\n",
              "          await google.colab.output.renderOutput(dataTable, element);\n",
              "          const docLink = document.createElement('div');\n",
              "          docLink.innerHTML = docLinkHtml;\n",
              "          element.appendChild(docLink);\n",
              "        }\n",
              "      </script>\n",
              "    </div>\n",
              "  </div>\n",
              "  "
            ]
          },
          "metadata": {},
          "execution_count": 2
        }
      ]
    },
    {
      "cell_type": "code",
      "source": [
        "sf = df[df['genre']=='fantasySF'].review.to_list()\n",
        "sentence = \",\".join(sf)"
      ],
      "metadata": {
        "id": "7BPRLR5l3tJ6"
      },
      "execution_count": 3,
      "outputs": []
    },
    {
      "cell_type": "markdown",
      "metadata": {
        "id": "eAvj4QvycKkg"
      },
      "source": [
        "# 필요 함수들"
      ]
    },
    {
      "cell_type": "code",
      "source": [
        "pip install contextualized_topic_models"
      ],
      "metadata": {
        "id": "XqAn9_AudeEC"
      },
      "execution_count": null,
      "outputs": []
    },
    {
      "cell_type": "code",
      "execution_count": 4,
      "metadata": {
        "id": "Uzcta1LzcKki"
      },
      "outputs": [],
      "source": [
        "import re\n",
        "import pandas as pd\n",
        "import numpy as np\n",
        "import string\n",
        "from tensorflow.keras.preprocessing.text import text_to_word_sequence\n",
        "import nltk\n",
        "from nltk.tokenize import word_tokenize\n",
        "from nltk.stem import WordNetLemmatizer\n",
        "from collections import Counter\n",
        "# from contextualized_topic_models.models.ctm import CombinedTM\n",
        "# from contextualized_topic_models.utils.data_preparation import TopicModelDataPreparation, bert_embeddings_from_list\n",
        "from contextualized_topic_models.utils.preprocessing import WhiteSpacePreprocessing\n",
        "from sklearn.feature_extraction.text import CountVectorizer, TfidfVectorizer\n",
        "# from konlpy.tag import Okt\n",
        "from tqdm import tqdm"
      ]
    },
    {
      "cell_type": "code",
      "execution_count": 6,
      "metadata": {
        "id": "FFx6w8wQcKkj"
      },
      "outputs": [],
      "source": [
        "def get_wordnet_pos(pos_tag):\n",
        "    if pos_tag.startswith('V'):\n",
        "        return 'v'\n",
        "    elif pos_tag.startswith('N'):\n",
        "        return 'n'\n",
        "    elif pos_tag.startswith('J'):\n",
        "        return 'a'\n",
        "    elif pos_tag.startswith('R'):\n",
        "        return 'r'\n",
        "    else:\n",
        "        return None"
      ]
    },
    {
      "cell_type": "code",
      "execution_count": null,
      "metadata": {
        "id": "Za3iZ_T5cKkj"
      },
      "outputs": [],
      "source": [
        "from nltk.corpus import stopwords\n",
        "import nltk\n",
        "nltk.download('averaged_perceptron_tagger')\n",
        "nltk.download('stopwords')\n",
        "nltk.download('wordnet')\n",
        "nltk.download('omw-1.4')\n",
        "stop_words = set(stopwords.words('english'))\n",
        "stop_words.update(('\\r', '\\n', '\\r\\n', '\\n\\r'))"
      ]
    },
    {
      "cell_type": "code",
      "execution_count": 9,
      "metadata": {
        "id": "Q6PzBOOfcKkk"
      },
      "outputs": [],
      "source": [
        "class CustomTokenizer:\n",
        "    def __init__(self, tagger):\n",
        "        self.tagger = tagger\n",
        "    def __call__(self, a):\n",
        "        a = ''.join(a)\n",
        "        word_tokens = self.tagger(a)\n",
        "        \n",
        "        words = []\n",
        "\n",
        "        for i in word_tokens:\n",
        "            text = re.sub('[^a-zA-Z0-9\\']','',i).strip()\n",
        "            text = re.sub('[-=+,#/\\?:^$.@*\\\"※~&%ㆍ!』\\\\‘|\\(\\)\\[\\]\\<\\>`…》]','', text)\n",
        "            if(text != ''):\n",
        "                words.append(text)\n",
        "        \n",
        "        tag_words = nltk.pos_tag(words)\n",
        "        pos_words = [word for word in tag_words if word[1][0] in {'V','N','J','R'}]\n",
        "\n",
        "        temp_list = []\n",
        "        for token, pos_tag in pos_words:\n",
        "            tag = get_wordnet_pos(pos_tag)\n",
        "            if tag != None:\n",
        "                temp_list.append((token, get_wordnet_pos(pos_tag)))\n",
        "        lemma = WordNetLemmatizer()\n",
        "        token_final = [lemma.lemmatize(token, pos=tag) for token, tag in temp_list]\n",
        "        long_words = [i for i in token_final if len(i) > 2]\n",
        "        results = [w for w in long_words if w not in stop_words]\n",
        "        return results"
      ]
    },
    {
      "cell_type": "markdown",
      "metadata": {
        "id": "VUITwIWzcKkl"
      },
      "source": [
        "# 작업"
      ]
    },
    {
      "cell_type": "code",
      "execution_count": 10,
      "metadata": {
        "colab": {
          "base_uri": "https://localhost:8080/"
        },
        "id": "WUf7tKGGcKkl",
        "outputId": "7916a4e6-62cf-4545-8f50-57a2d8fa8732"
      },
      "outputs": [
        {
          "output_type": "stream",
          "name": "stderr",
          "text": [
            "/usr/local/lib/python3.7/dist-packages/sklearn/feature_extraction/text.py:517: UserWarning: The parameter 'token_pattern' will not be used since 'tokenizer' is not None'\n",
            "  \"The parameter 'token_pattern' will not be used\"\n",
            "/usr/local/lib/python3.7/dist-packages/sklearn/feature_extraction/text.py:401: UserWarning: Your stop_words may be inconsistent with your preprocessing. Tokenizing the stop words generated tokens ['far'] not in stop_words.\n",
            "  % sorted(inconsistent)\n",
            "/usr/local/lib/python3.7/dist-packages/sklearn/utils/deprecation.py:87: FutureWarning: Function get_feature_names is deprecated; get_feature_names is deprecated in 1.0 and will be removed in 1.2. Please use get_feature_names_out instead.\n",
            "  warnings.warn(msg, category=FutureWarning)\n"
          ]
        }
      ],
      "source": [
        "ngram_range = (2,3)\n",
        "stop_words = set(stopwords.words('english'))\n",
        "stop_words.update(('\\r', '\\n', '\\r\\n', '\\n\\r'))\n",
        "\n",
        "custom_tokenizer = CustomTokenizer(text_to_word_sequence)\n",
        "custom_tokenizer(sentence)\n",
        "\n",
        "tfidf = TfidfVectorizer(tokenizer=custom_tokenizer,ngram_range = ngram_range, stop_words=stop_words,\n",
        "                        max_df=10, min_df=2).fit(sf)\n",
        "candidates = tfidf.get_feature_names()"
      ]
    },
    {
      "cell_type": "code",
      "source": [
        "len(candidates)"
      ],
      "metadata": {
        "colab": {
          "base_uri": "https://localhost:8080/"
        },
        "id": "kLrye5Ko8fml",
        "outputId": "50a973c0-475a-487a-8fba-f64cf31acde4"
      },
      "execution_count": null,
      "outputs": [
        {
          "output_type": "execute_result",
          "data": {
            "text/plain": [
              "22199"
            ]
          },
          "metadata": {},
          "execution_count": 26
        }
      ]
    },
    {
      "cell_type": "markdown",
      "metadata": {
        "id": "EcJtDtpicKkm"
      },
      "source": [
        "# 임베딩"
      ]
    },
    {
      "cell_type": "code",
      "execution_count": 11,
      "metadata": {
        "id": "AGKQ1FmHcKkm"
      },
      "outputs": [],
      "source": [
        "from sentence_transformers import SentenceTransformer\n",
        "\n",
        "model = SentenceTransformer('distilbert-base-nli-stsb-mean-tokens')\n",
        "doc_embedding = model.encode([sentence])\n",
        "candidate_embeddings = model.encode(candidates)"
      ]
    },
    {
      "cell_type": "code",
      "execution_count": null,
      "metadata": {
        "id": "-o5zGKSdcKkn",
        "outputId": "9dafb8bb-31c3-4165-cbb7-5bdf3edb624e"
      },
      "outputs": [
        {
          "data": {
            "text/plain": [
              "(24356, 768)"
            ]
          },
          "execution_count": 8,
          "metadata": {},
          "output_type": "execute_result"
        }
      ],
      "source": [
        "candidate_embeddings.shape"
      ]
    },
    {
      "cell_type": "markdown",
      "metadata": {
        "id": "FJI_C1zmcKkn"
      },
      "source": [
        "# 코사인 유사도 연구(건너뛰어도 됨)"
      ]
    },
    {
      "cell_type": "code",
      "execution_count": 80,
      "metadata": {
        "id": "Usd0I7pgcKkn"
      },
      "outputs": [],
      "source": [
        "from sklearn.metrics.pairwise import cosine_similarity\n",
        "\n",
        "top_n = len(candidates)\n",
        "\n",
        "# 문서와 키워드간 유사도\n",
        "distances = cosine_similarity(doc_embedding, candidate_embeddings)\n",
        "\n",
        "# 키워드와 키워드간 유사도\n",
        "distances_candidates = cosine_similarity(candidate_embeddings)"
      ]
    },
    {
      "cell_type": "code",
      "execution_count": 81,
      "metadata": {
        "colab": {
          "base_uri": "https://localhost:8080/"
        },
        "id": "IZICQH_CcKko",
        "outputId": "f306abed-3fd3-4f32-8e7c-d128380fa1e9"
      },
      "outputs": [
        {
          "output_type": "execute_result",
          "data": {
            "text/plain": [
              "((1, 22199), (22199, 22199), 6)"
            ]
          },
          "metadata": {},
          "execution_count": 81
        }
      ],
      "source": [
        "distances.shape, distances_candidates.shape, len(keywords) # candidates[index]"
      ]
    },
    {
      "cell_type": "code",
      "source": [
        "word_doc_distances = cosine_similarity(candidate_embeddings,doc_embedding)\n",
        "word_distances = cosine_similarity(candidate_embeddings)"
      ],
      "metadata": {
        "id": "fzCaIljSkkGb"
      },
      "execution_count": 82,
      "outputs": []
    },
    {
      "cell_type": "code",
      "source": [
        "keywords_idx = [7,87,92]\n",
        "candidates_idx = [1,2,13,734,25,6]\n",
        "candidate_similarities = word_doc_distances[candidates_idx, :]\n",
        "candidate_similarities, candidate_similarities.shape # 후보키워드의 문서간유사도 벡터"
      ],
      "metadata": {
        "colab": {
          "base_uri": "https://localhost:8080/"
        },
        "id": "dyLW10Metdvf",
        "outputId": "479fe3fc-cf48-4bc1-eb78-6aa497de4e0a"
      },
      "execution_count": 133,
      "outputs": [
        {
          "output_type": "execute_result",
          "data": {
            "text/plain": [
              "(array([[-0.00580319],\n",
              "        [-0.19800502],\n",
              "        [-0.01558762],\n",
              "        [-0.04957973],\n",
              "        [ 0.0070086 ],\n",
              "        [-0.16266811]], dtype=float32),\n",
              " (6, 1))"
            ]
          },
          "metadata": {},
          "execution_count": 133
        }
      ]
    },
    {
      "cell_type": "code",
      "source": [
        "word_distances[candidates_idx][:,keywords_idx] # 후보키워드와 추출키워드의 유사도 벡터"
      ],
      "metadata": {
        "colab": {
          "base_uri": "https://localhost:8080/"
        },
        "id": "5h7lAnvKuv-7",
        "outputId": "31241e12-81a7-4a75-c7c0-8a3de5606127"
      },
      "execution_count": 84,
      "outputs": [
        {
          "output_type": "execute_result",
          "data": {
            "text/plain": [
              "array([[ 3.2524187e-02,  5.1560111e-02,  2.2039059e-01,  1.3396120e-01,\n",
              "        -1.4120573e-04],\n",
              "       [ 1.7449439e-01,  2.5826111e-01,  7.1534671e-02,  4.0343547e-01,\n",
              "         3.3822396e-01],\n",
              "       [ 1.4734800e-01,  1.9027355e-01,  2.1794148e-02,  3.4675038e-01,\n",
              "         3.8210323e-01],\n",
              "       [ 8.3954439e-02,  1.4057627e-01,  9.0675689e-02,  2.7277958e-01,\n",
              "         3.1519559e-01]], dtype=float32)"
            ]
          },
          "metadata": {},
          "execution_count": 84
        }
      ]
    },
    {
      "cell_type": "code",
      "source": [
        " target_similarities = np.max(word_distances[candidates_idx][:,keywords_idx], axis=1)\n",
        " target_similarities, target_similarities.shape # 후보키워드와 가장 유사한 추출 키워드 벡터"
      ],
      "metadata": {
        "colab": {
          "base_uri": "https://localhost:8080/"
        },
        "id": "aBR8ItfvtdnD",
        "outputId": "b8358af3-546d-4c33-df5e-723a0e77d8e9"
      },
      "execution_count": null,
      "outputs": [
        {
          "output_type": "execute_result",
          "data": {
            "text/plain": [
              "(array([0.30213898, 0.0680101 , 0.21618617], dtype=float32), (3,))"
            ]
          },
          "metadata": {},
          "execution_count": 70
        }
      ]
    },
    {
      "cell_type": "code",
      "source": [
        "mmr = (1-diversity) * candidate_similarities - diversity * target_similarities.reshape(-1,1)\n",
        "mmr,mmr.shape # mmr 계산을 통해 후보키워드에서 추출할 키워드 선정"
      ],
      "metadata": {
        "colab": {
          "base_uri": "https://localhost:8080/"
        },
        "id": "evVOzY1WvZkp",
        "outputId": "12548195-36e1-466a-b7c7-625fa1028294"
      },
      "execution_count": null,
      "outputs": [
        {
          "output_type": "execute_result",
          "data": {
            "text/plain": [
              "(array([[-0.23494704],\n",
              "        [-0.00761976],\n",
              "        [-0.15552332]], dtype=float32), (3, 1))"
            ]
          },
          "metadata": {},
          "execution_count": 73
        }
      ]
    },
    {
      "cell_type": "code",
      "source": [
        "for i in np.argsort(word_distances[candidates_idx][:,7])[:4]:\n",
        "    print(candidates[i])"
      ],
      "metadata": {
        "colab": {
          "base_uri": "https://localhost:8080/"
        },
        "id": "v_LERbJuUpI2",
        "outputId": "ddb674a8-b10a-4361-ff77-64fd3e727450"
      },
      "execution_count": 149,
      "outputs": [
        {
          "output_type": "stream",
          "name": "stdout",
          "text": [
            "'lunar\n",
            "'letting\n",
            "'hotel\n",
            "'letting go' 'unselfish\n"
          ]
        }
      ]
    },
    {
      "cell_type": "code",
      "source": [
        "similar_keys = []\n",
        "for i in keywords_idx:\n",
        "    temp = []\n",
        "    for j in np.argsort(word_distances[candidates_idx][:,i])[:4]:\n",
        "        temp.append(candidates[j])\n",
        "    similar_keys.append(temp)"
      ],
      "metadata": {
        "id": "GAcnpVEkXM8P"
      },
      "execution_count": 150,
      "outputs": []
    },
    {
      "cell_type": "code",
      "source": [
        "similar_keys = []\n",
        "for i in keywords_idx:\n",
        "    temp = []\n",
        "    for j in np.argsort(word_distances[candidates_idx][:,i])[:4]:\n",
        "        temp.append(candidates[j])\n",
        "    similar_keys.append(temp)\n",
        "for i, keys in enumerate(keywords_idx):\n",
        "    print(f'{candidates[keys]} : {similar_keys[i]}')\n"
      ],
      "metadata": {
        "colab": {
          "base_uri": "https://localhost:8080/"
        },
        "id": "3l-e4C1xappy",
        "outputId": "eea3d52d-53c0-42f9-c155-0bf40df529e6"
      },
      "execution_count": 151,
      "outputs": [
        {
          "output_type": "stream",
          "name": "stdout",
          "text": [
            "'lunar : [\"'counters'\", \"'letting\", \"'letting go'\", \"'hotel\"]\n",
            "'lunar water' : [\"'counters'\", \"'letting\", \"'letting go' 'unselfish\", \"'letting go'\"]\n",
            "'magical : [\"'lunar\", \"'letting\", \"'hotel\", \"'letting go' 'unselfish\"]\n"
          ]
        }
      ]
    },
    {
      "cell_type": "code",
      "source": [
        "keywords_idx = [5,6,7]\n",
        "word_distances[candidates_idx][:,keywords_idx]\n",
        "np.sort(word_distances[candidates_idx][:,keywords_idx],axis=1)[:][:2]"
      ],
      "metadata": {
        "colab": {
          "base_uri": "https://localhost:8080/"
        },
        "id": "tOV_jYRWQ8Dj",
        "outputId": "72d34f2e-4184-4058-e888-78700f27668c"
      },
      "execution_count": 146,
      "outputs": [
        {
          "output_type": "execute_result",
          "data": {
            "text/plain": [
              "array([[ 0.03252419,  0.05156011,  0.22039059],\n",
              "       [ 0.17449439,  0.2582611 ,  0.07153467],\n",
              "       [ 0.03501092,  0.09409308, -0.03085524],\n",
              "       [ 0.11034438,  0.10579221,  0.29284918],\n",
              "       [ 0.21789196,  0.09518174,  0.07269609],\n",
              "       [ 0.79727995,  0.9999997 , -0.0317032 ]], dtype=float32)"
            ]
          },
          "metadata": {},
          "execution_count": 146
        }
      ]
    },
    {
      "cell_type": "code",
      "source": [
        "candidates[7]"
      ],
      "metadata": {
        "colab": {
          "base_uri": "https://localhost:8080/",
          "height": 35
        },
        "id": "rFk-bRiIQ-Dr",
        "outputId": "fb8ed22b-bd57-4a2d-8f1c-9bc60e0e0b11"
      },
      "execution_count": 105,
      "outputs": [
        {
          "output_type": "execute_result",
          "data": {
            "text/plain": [
              "\"'magical\""
            ],
            "application/vnd.google.colaboratory.intrinsic+json": {
              "type": "string"
            }
          },
          "metadata": {},
          "execution_count": 105
        }
      ]
    },
    {
      "cell_type": "markdown",
      "source": [
        "# 유사키워드 포함 추출하기"
      ],
      "metadata": {
        "id": "76jk69hSc_ug"
      }
    },
    {
      "cell_type": "code",
      "source": [
        "from sklearn.metrics.pairwise import cosine_similarity\n",
        "def mmrs(doc_embedding, candidate_embeddings, words, top_n, diversity):\n",
        "    word_doc_distances = cosine_similarity(candidate_embeddings,doc_embedding)\n",
        "    word_distances = cosine_similarity(candidate_embeddings) \n",
        "\n",
        "    keywords_idx = [np.argmax(word_doc_distances)]\n",
        "    candidates_idx = [i for i in range(len(candidates)) if i != keywords_idx[0]]\n",
        "\n",
        "    for _ in range(top_n-1):\n",
        "        # 후보 키워드들의 문서유사도 값\n",
        "        candidate_similarities = word_doc_distances[candidates_idx, :]\n",
        "        # 후보 키워드와 가장 유사한 키워드\n",
        "        target_similarities = np.max(word_distances[candidates_idx][:,keywords_idx], axis=1) \n",
        "\n",
        "        mmr = (1-diversity) * candidate_similarities - diversity * target_similarities.reshape(-1,1)\n",
        "        mmr_idx = candidates_idx[np.argmax(mmr)]\n",
        "\n",
        "        keywords_idx.append(mmr_idx)\n",
        "        candidates_idx.remove(mmr_idx)\n",
        "        \n",
        "        # 추출키워드와 유사한 키워드 추가\n",
        "    similar_keys = []\n",
        "    for i in keywords_idx:\n",
        "        temp = []\n",
        "        for j in np.argsort(word_distances[candidates_idx][:,i])[:top_n]:\n",
        "            temp.append(words[j])\n",
        "        similar_keys.append(temp)\n",
        "\n",
        "    # 본 단어 임베딩벡터에서 추출키워드에 해당하는 벡터만\n",
        "\n",
        "    keywords = [words[idx] for idx in keywords_idx]\n",
        "    \n",
        "    return keywords, similar_keys"
      ],
      "metadata": {
        "id": "vh5BIz-JNYpI"
      },
      "execution_count": 12,
      "outputs": []
    },
    {
      "cell_type": "code",
      "source": [
        "keywords, similar_keys = mmrs(doc_embedding,candidate_embeddings,candidates,top_n=6,diversity=0.7)"
      ],
      "metadata": {
        "id": "pCUX7QfBNe_G"
      },
      "execution_count": 13,
      "outputs": []
    },
    {
      "cell_type": "code",
      "source": [
        "print('Keywords and similar keys by cosine similarity')\n",
        "for i in range(len(keywords)):\n",
        "    print(f'{keywords[i]} : {similar_keys[i]}')"
      ],
      "metadata": {
        "colab": {
          "base_uri": "https://localhost:8080/"
        },
        "id": "TVvdhGtgVxHG",
        "outputId": "5ccdf882-144d-4886-c211-20e3b2c07a84"
      },
      "execution_count": 14,
      "outputs": [
        {
          "output_type": "stream",
          "name": "stdout",
          "text": [
            "Keywords and similar keys by cosine similarity\n",
            "excitement never stop : ['korean drama uncanny', 'wait see happen', 'korean drama silent', 'choose sacrificial lamb', 'etc set', 'rushed unfinished']\n",
            "english teacher : ['never fully', 'action adventure', 'rest time', 'whole watch', 'fight evil spirit', 'edge seat episode']\n",
            "sort buffy vampire : ['course main', 'cuz want', 'dad child', 'mean make', 'mean damn', \"i'm say drama\"]\n",
            "noodle catch evil : ['man prove powerful', 'look however', 'time pick', 'couple main sideline', 'return season', 'inhabitant realm exist']\n",
            "comatose teenager mun : ['sweet see', 'sweet romance', 'game spain actually', 'sweet home', 'sweet time', 'fictional city jungin']\n",
            "drama disappoint : ['future character', 'koo walk ethic', 'jump jang', 'future exchange', 'young hong pyo', 'somewhat similar']\n"
          ]
        }
      ]
    },
    {
      "cell_type": "markdown",
      "source": [
        "# 코사인 유사도 함수"
      ],
      "metadata": {
        "id": "rsW6mgMi4N71"
      }
    },
    {
      "cell_type": "code",
      "source": [
        "from sklearn.metrics.pairwise import cosine_similarity\n",
        "top_n = 1000\n",
        "diversity = 0.7\n",
        "\n",
        "def mmr(doc_embedding, candidate_embeddings, words, top_n, diversity):\n",
        "    word_doc_distances = cosine_similarity(candidate_embeddings,doc_embedding)\n",
        "    word_distances = cosine_similarity(candidate_embeddings) \n",
        "\n",
        "    keywords_idx = [np.argmax(word_doc_distances)]\n",
        "    candidates_idx = [i for i in range(len(candidates)) if i != keywords_idx[0]]\n",
        "\n",
        "    for _ in range(top_n-1):\n",
        "        # 후보 키워드들의 문서유사도 값\n",
        "        candidate_similarities = word_doc_distances[candidates_idx, :]\n",
        "        # 후보 키워드와 가장 유사한 키워드\n",
        "        target_similarities = np.max(word_distances[candidates_idx][:,keywords_idx], axis=1) \n",
        "\n",
        "        mmr = (1-diversity) * candidate_similarities - diversity * target_similarities.reshape(-1,1)\n",
        "        mmr_idx = candidates_idx[np.argmax(mmr)]\n",
        "\n",
        "        keywords_idx.append(mmr_idx)\n",
        "        candidates_idx.remove(mmr_idx)\n",
        "    # 본 단어 임베딩벡터에서 추출키워드에 해당하는 벡터만\n",
        "    keywords_vector = word_embeddings[keywords_idx][:] \n",
        "    keywords = [words[idx] for idx in keywords_idx]\n",
        "    \n",
        "    return keywords_vector, keywords\n"
      ],
      "metadata": {
        "id": "wIJ9WZpmlqlu"
      },
      "execution_count": null,
      "outputs": []
    },
    {
      "cell_type": "code",
      "source": [
        "keywords_vector, keywords = mmr(doc_embedding,candidate_embeddings,candidates,top_n=500,diversity=0.6)"
      ],
      "metadata": {
        "id": "zrZeLhwA0Kmx"
      },
      "execution_count": null,
      "outputs": []
    },
    {
      "cell_type": "code",
      "source": [
        "keywords_vector.shape"
      ],
      "metadata": {
        "colab": {
          "base_uri": "https://localhost:8080/"
        },
        "id": "hHYkd2i803dm",
        "outputId": "5414c49a-9476-4b02-b487-11778f36a142"
      },
      "execution_count": null,
      "outputs": [
        {
          "output_type": "execute_result",
          "data": {
            "text/plain": [
              "(500, 768)"
            ]
          },
          "metadata": {},
          "execution_count": 43
        }
      ]
    },
    {
      "cell_type": "code",
      "execution_count": 72,
      "metadata": {
        "colab": {
          "base_uri": "https://localhost:8080/"
        },
        "id": "EkI_LLo9cKko",
        "outputId": "146fd432-4eaa-416f-9f19-35cd06f3f5a0"
      },
      "outputs": [
        {
          "output_type": "execute_result",
          "data": {
            "text/plain": [
              "KMeans(max_iter=100, n_clusters=6, n_init=1)"
            ]
          },
          "metadata": {},
          "execution_count": 72
        }
      ],
      "source": [
        "from sklearn.cluster import KMeans\n",
        "from sklearn.metrics import adjusted_rand_score\n",
        "\n",
        "X = keywords_vector\n",
        "\n",
        "true_k = 6\n",
        "model = KMeans(n_clusters=true_k, init='k-means++', max_iter=100, n_init=1)\n",
        "model.fit(X.T)\n",
        "\n"
      ]
    },
    {
      "cell_type": "code",
      "execution_count": 73,
      "metadata": {
        "colab": {
          "base_uri": "https://localhost:8080/"
        },
        "id": "zEJOElyYcKkp",
        "outputId": "65463ad8-815d-42e9-e894-7c1861ca34da"
      },
      "outputs": [
        {
          "output_type": "stream",
          "name": "stdout",
          "text": [
            "Top terms per cluster:\n",
            "Cluster 0:\n",
            " entertain enough spice, jump protect friend, customer satisfaction make, love fashion, beautiful single seeing, chemistry fell love, cast love gong, hye finally, good reincarnation, jmw's immortality many,\n",
            "\n",
            "Cluster 1:\n",
            " train busan, nurse fight jelly, luna walk, sacrificial lamb, school build pond, global drought, injured man walk, tea however, box kleenex, chicken,\n",
            "\n",
            "Cluster 2:\n",
            " cannot explain plot, interest half way, twisted yet treat, sever finally flashback, skeptical worried horror, restless soul unable, suspenseful sci, afraid allow character, die circumstance surround, fake overact rest,\n",
            "\n",
            "Cluster 3:\n",
            " injured man walk, lazy korea, run away job, train busan, abandon space station, sacrificial lamb, put blinder dad, comatose teenager, underestimate young actor, manhwa,\n",
            "\n",
            "Cluster 4:\n",
            " armageddon, unnecessarily long scene, game hellbound, many hollywood, busy demon, emotional rollercoaster, insanity, excitement never stop, fancy horror, thing worry everyone,\n",
            "\n",
            "Cluster 5:\n",
            " thrilling ride watch, really enjoy plot, lot time dedicate, drama fast pace, event fit drama, refresh watch drama, addict drama, excitement never stop, suspense thriller factor, entertain enough spice,\n",
            "\n"
          ]
        }
      ],
      "source": [
        "print(\"Top terms per cluster:\")\n",
        "order_centroids = model.cluster_centers_.argsort()[:, ::-1]\n",
        "terms = keywords # = candidates\n",
        "for i in range(true_k):\n",
        "    print(\"Cluster %d:\" % i),\n",
        "    for ind in order_centroids[i, :10]:\n",
        "        print(' %s,' % terms[ind],end = '')\n",
        "    print(\"\\n\")\n"
      ]
    },
    {
      "cell_type": "code",
      "source": [
        "x = list(range(1,11))\n",
        "y = []\n",
        "for i in x:\n",
        "    model = KMeans(n_clusters=i, init='k-means++', max_iter=100, n_init=1)\n",
        "    model.fit(X.T)\n",
        "    y.append(model.inertia_)\n",
        "\n",
        "import matplotlib.pyplot as plt\n",
        "\n",
        "plt.plot(x,y,label='linear')\n",
        "plt.show();"
      ],
      "metadata": {
        "colab": {
          "base_uri": "https://localhost:8080/",
          "height": 347
        },
        "id": "Hcp43g99G8uQ",
        "outputId": "c6909ead-a4ce-4b14-9c95-a35121a3178f"
      },
      "execution_count": 71,
      "outputs": [
        {
          "output_type": "display_data",
          "data": {
            "text/plain": [
              "<Figure size 576x396 with 1 Axes>"
            ],
            "image/png": "[encoded data removed]"
          },
          "metadata": {}
        }
      ]
    },
    {
      "cell_type": "code",
      "source": [
        ""
      ],
      "metadata": {
        "id": "_489sUqS-4Ls"
      },
      "execution_count": 70,
      "outputs": []
    }
  ],
  "metadata": {
    "interpreter": {
      "hash": "5d1185015da4ffa7ac966b843cf1b2aa0b72f05a29a69f5fe9173c667b919a88"
    },
    "kernelspec": {
      "display_name": "Python 3.7.11 ('jaeyeong')",
      "language": "python",
      "name": "python3"
    },
    "language_info": {
      "codemirror_mode": {
        "name": "ipython",
        "version": 3
      },
      "file_extension": ".py",
      "mimetype": "text/x-python",
      "name": "python",
      "nbconvert_exporter": "python",
      "pygments_lexer": "ipython3",
      "version": "3.7.11"
    },
    "orig_nbformat": 4,
    "colab": {
      "name": "keyword&Kmeans.ipynb",
      "provenance": [],
      "collapsed_sections": [
        "FJI_C1zmcKkn"
      ]
    },
    "accelerator": "GPU"
  },
  "nbformat": 4,
  "nbformat_minor": 0
}