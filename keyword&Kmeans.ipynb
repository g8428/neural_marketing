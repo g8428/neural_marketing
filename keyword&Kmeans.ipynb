{
  "cells": [
    {
      "cell_type": "code",
      "execution_count": 1,
      "metadata": {
        "id": "06HDiFQ0cKkc"
      },
      "outputs": [],
      "source": [
        "import pandas as pd\n",
        "import numpy as np\n",
        "\n",
        "df = pd.read_csv(\"drama_final.csv\")"
      ]
    },
    {
      "cell_type": "code",
      "execution_count": 2,
      "metadata": {
        "colab": {
          "base_uri": "https://localhost:8080/",
          "height": 237
        },
        "id": "X_PKit713vdq",
        "outputId": "e5c6d2c8-d7af-4584-de20-be7b7f9d0968"
      },
      "outputs": [
        {
          "data": {
            "text/html": [
              "<div>\n",
              "<style scoped>\n",
              "    .dataframe tbody tr th:only-of-type {\n",
              "        vertical-align: middle;\n",
              "    }\n",
              "\n",
              "    .dataframe tbody tr th {\n",
              "        vertical-align: top;\n",
              "    }\n",
              "\n",
              "    .dataframe thead th {\n",
              "        text-align: right;\n",
              "    }\n",
              "</style>\n",
              "<table border=\"1\" class=\"dataframe\">\n",
              "  <thead>\n",
              "    <tr style=\"text-align: right;\">\n",
              "      <th></th>\n",
              "      <th>Unnamed: 0</th>\n",
              "      <th>review</th>\n",
              "    </tr>\n",
              "    <tr>\n",
              "      <th>genre</th>\n",
              "      <th></th>\n",
              "      <th></th>\n",
              "    </tr>\n",
              "  </thead>\n",
              "  <tbody>\n",
              "    <tr>\n",
              "      <th>crime</th>\n",
              "      <td>4580</td>\n",
              "      <td>4580</td>\n",
              "    </tr>\n",
              "    <tr>\n",
              "      <th>drama</th>\n",
              "      <td>1558</td>\n",
              "      <td>1558</td>\n",
              "    </tr>\n",
              "    <tr>\n",
              "      <th>fantasySF</th>\n",
              "      <td>2136</td>\n",
              "      <td>2136</td>\n",
              "    </tr>\n",
              "    <tr>\n",
              "      <th>roco</th>\n",
              "      <td>4606</td>\n",
              "      <td>4606</td>\n",
              "    </tr>\n",
              "    <tr>\n",
              "      <th>thriller</th>\n",
              "      <td>10069</td>\n",
              "      <td>10069</td>\n",
              "    </tr>\n",
              "  </tbody>\n",
              "</table>\n",
              "</div>"
            ],
            "text/plain": [
              "           Unnamed: 0  review\n",
              "genre                        \n",
              "crime            4580    4580\n",
              "drama            1558    1558\n",
              "fantasySF        2136    2136\n",
              "roco             4606    4606\n",
              "thriller        10069   10069"
            ]
          },
          "execution_count": 2,
          "metadata": {},
          "output_type": "execute_result"
        }
      ],
      "source": [
        "df.groupby('genre').count()"
      ]
    },
    {
      "cell_type": "code",
      "execution_count": 3,
      "metadata": {
        "id": "7BPRLR5l3tJ6"
      },
      "outputs": [],
      "source": [
        "thriller = df[df['genre']=='thriller'].review.to_list()\n",
        "sentence = \",\".join(thriller)"
      ]
    },
    {
      "cell_type": "code",
      "execution_count": null,
      "metadata": {},
      "outputs": [],
      "source": []
    },
    {
      "cell_type": "markdown",
      "metadata": {
        "id": "eAvj4QvycKkg"
      },
      "source": [
        "# 필요 함수들"
      ]
    },
    {
      "cell_type": "code",
      "execution_count": null,
      "metadata": {
        "id": "XqAn9_AudeEC"
      },
      "outputs": [],
      "source": [
        "pip install contextualized_topic_models"
      ]
    },
    {
      "cell_type": "code",
      "execution_count": 4,
      "metadata": {
        "id": "Uzcta1LzcKki"
      },
      "outputs": [],
      "source": [
        "import re\n",
        "import pandas as pd\n",
        "import numpy as np\n",
        "import string\n",
        "from tensorflow.keras.preprocessing.text import text_to_word_sequence\n",
        "import nltk\n",
        "from nltk.tokenize import word_tokenize\n",
        "from nltk.stem import WordNetLemmatizer\n",
        "from collections import Counter\n",
        "# from contextualized_topic_models.models.ctm import CombinedTM\n",
        "# from contextualized_topic_models.utils.data_preparation import TopicModelDataPreparation, bert_embeddings_from_list\n",
        "from contextualized_topic_models.utils.preprocessing import WhiteSpacePreprocessing\n",
        "from sklearn.feature_extraction.text import CountVectorizer, TfidfVectorizer\n",
        "# from konlpy.tag import Okt\n",
        "from tqdm import tqdm"
      ]
    },
    {
      "cell_type": "code",
      "execution_count": 5,
      "metadata": {
        "id": "FFx6w8wQcKkj"
      },
      "outputs": [],
      "source": [
        "def get_wordnet_pos(pos_tag):\n",
        "    if pos_tag.startswith('V'):\n",
        "        return 'v'\n",
        "    elif pos_tag.startswith('N'):\n",
        "        return 'n'\n",
        "    elif pos_tag.startswith('J'):\n",
        "        return 'a'\n",
        "    elif pos_tag.startswith('R'):\n",
        "        return 'r'\n",
        "    else:\n",
        "        return None"
      ]
    },
    {
      "cell_type": "code",
      "execution_count": 6,
      "metadata": {
        "id": "Za3iZ_T5cKkj"
      },
      "outputs": [
        {
          "name": "stderr",
          "output_type": "stream",
          "text": [
            "[nltk_data] Downloading package averaged_perceptron_tagger to\n",
            "[nltk_data]     C:\\Users\\g8428\\AppData\\Roaming\\nltk_data...\n",
            "[nltk_data]   Package averaged_perceptron_tagger is already up-to-\n",
            "[nltk_data]       date!\n",
            "[nltk_data] Downloading package stopwords to\n",
            "[nltk_data]     C:\\Users\\g8428\\AppData\\Roaming\\nltk_data...\n",
            "[nltk_data]   Package stopwords is already up-to-date!\n",
            "[nltk_data] Downloading package wordnet to\n",
            "[nltk_data]     C:\\Users\\g8428\\AppData\\Roaming\\nltk_data...\n",
            "[nltk_data]   Package wordnet is already up-to-date!\n",
            "[nltk_data] Downloading package omw-1.4 to\n",
            "[nltk_data]     C:\\Users\\g8428\\AppData\\Roaming\\nltk_data...\n",
            "[nltk_data]   Package omw-1.4 is already up-to-date!\n"
          ]
        }
      ],
      "source": [
        "from nltk.corpus import stopwords\n",
        "import nltk\n",
        "nltk.download('averaged_perceptron_tagger')\n",
        "nltk.download('stopwords')\n",
        "nltk.download('wordnet')\n",
        "nltk.download('omw-1.4')\n",
        "stop_words = set(stopwords.words('english'))\n",
        "stop_words.update(('\\r', '\\n', '\\r\\n', '\\n\\r'))"
      ]
    },
    {
      "cell_type": "code",
      "execution_count": 7,
      "metadata": {
        "id": "Q6PzBOOfcKkk"
      },
      "outputs": [],
      "source": [
        "class CustomTokenizer:\n",
        "    def __init__(self, tagger):\n",
        "        self.tagger = tagger\n",
        "    def __call__(self, a):\n",
        "        a = ''.join(a)\n",
        "        word_tokens = self.tagger(a)\n",
        "        \n",
        "        words = []\n",
        "\n",
        "        for i in word_tokens:\n",
        "            text = re.sub('[^a-zA-Z0-9\\']','',i).strip()\n",
        "            text = re.sub('[-=+,#/\\?:^$.@*\\\"※~&%ㆍ!』\\\\‘|\\(\\)\\[\\]\\<\\>`…》]','', text)\n",
        "            if(text != ''):\n",
        "                words.append(text)\n",
        "        \n",
        "        tag_words = nltk.pos_tag(words)\n",
        "        pos_words = [word for word in tag_words if word[1][0] in {'V','N','J','R'}]\n",
        "\n",
        "        temp_list = []\n",
        "        for token, pos_tag in pos_words:\n",
        "            tag = get_wordnet_pos(pos_tag)\n",
        "            if tag != None:\n",
        "                temp_list.append((token, get_wordnet_pos(pos_tag)))\n",
        "        lemma = WordNetLemmatizer()\n",
        "        token_final = [lemma.lemmatize(token, pos=tag) for token, tag in temp_list]\n",
        "        long_words = [i for i in token_final if len(i) > 2]\n",
        "        results = [w for w in long_words if w not in stop_words]\n",
        "        return results"
      ]
    },
    {
      "cell_type": "markdown",
      "metadata": {
        "id": "VUITwIWzcKkl"
      },
      "source": [
        "# 작업"
      ]
    },
    {
      "cell_type": "code",
      "execution_count": 8,
      "metadata": {
        "colab": {
          "base_uri": "https://localhost:8080/"
        },
        "id": "WUf7tKGGcKkl",
        "outputId": "7916a4e6-62cf-4545-8f50-57a2d8fa8732"
      },
      "outputs": [
        {
          "name": "stderr",
          "output_type": "stream",
          "text": [
            "C:\\Users\\g8428\\anaconda3\\envs\\nlp\\lib\\site-packages\\sklearn\\feature_extraction\\text.py:517: UserWarning: The parameter 'token_pattern' will not be used since 'tokenizer' is not None'\n",
            "  \"The parameter 'token_pattern' will not be used\"\n",
            "C:\\Users\\g8428\\anaconda3\\envs\\nlp\\lib\\site-packages\\sklearn\\feature_extraction\\text.py:401: UserWarning: Your stop_words may be inconsistent with your preprocessing. Tokenizing the stop words generated tokens ['far'] not in stop_words.\n",
            "  % sorted(inconsistent)\n",
            "C:\\Users\\g8428\\anaconda3\\envs\\nlp\\lib\\site-packages\\sklearn\\utils\\deprecation.py:87: FutureWarning: Function get_feature_names is deprecated; get_feature_names is deprecated in 1.0 and will be removed in 1.2. Please use get_feature_names_out instead.\n",
            "  warnings.warn(msg, category=FutureWarning)\n"
          ]
        }
      ],
      "source": [
        "ngram_range = (2,3)\n",
        "stop_words = set(stopwords.words('english'))\n",
        "stop_words.update(('\\r', '\\n', '\\r\\n', '\\n\\r'))\n",
        "\n",
        "custom_tokenizer = CustomTokenizer(text_to_word_sequence)\n",
        "custom_tokenizer(sentence)\n",
        "\n",
        "tfidf = TfidfVectorizer(tokenizer=custom_tokenizer,ngram_range = ngram_range, stop_words=stop_words,\n",
        "                        max_df=10, min_df=2,max_features=10000).fit(thriller)\n",
        "candidates = tfidf.get_feature_names()"
      ]
    },
    {
      "cell_type": "code",
      "execution_count": 58,
      "metadata": {
        "colab": {
          "base_uri": "https://localhost:8080/"
        },
        "id": "kLrye5Ko8fml",
        "outputId": "50a973c0-475a-487a-8fba-f64cf31acde4"
      },
      "outputs": [
        {
          "data": {
            "text/plain": [
              "10000"
            ]
          },
          "execution_count": 58,
          "metadata": {},
          "output_type": "execute_result"
        }
      ],
      "source": [
        "len(candidates)"
      ]
    },
    {
      "cell_type": "markdown",
      "metadata": {
        "id": "EcJtDtpicKkm"
      },
      "source": [
        "# 임베딩"
      ]
    },
    {
      "cell_type": "code",
      "execution_count": 25,
      "metadata": {
        "id": "AGKQ1FmHcKkm"
      },
      "outputs": [],
      "source": [
        "from sentence_transformers import SentenceTransformer\n",
        "\n",
        "model = SentenceTransformer('distilbert-base-nli-stsb-mean-tokens')\n",
        "# doc_embedding = model.encode([sentence])\n",
        "doc_embedding = model.encode(thriller)\n",
        "candidate_embeddings = model.encode(candidates)"
      ]
    },
    {
      "cell_type": "code",
      "execution_count": 27,
      "metadata": {
        "id": "-o5zGKSdcKkn",
        "outputId": "9dafb8bb-31c3-4165-cbb7-5bdf3edb624e"
      },
      "outputs": [
        {
          "data": {
            "text/plain": [
              "((10000, 768), (10069, 768))"
            ]
          },
          "execution_count": 27,
          "metadata": {},
          "output_type": "execute_result"
        }
      ],
      "source": [
        "candidate_embeddings.shape, doc_embedding.shape"
      ]
    },
    {
      "cell_type": "markdown",
      "metadata": {
        "id": "FJI_C1zmcKkn"
      },
      "source": [
        "# 코사인 유사도 연구(건너뛰어도 됨)"
      ]
    },
    {
      "cell_type": "code",
      "execution_count": 30,
      "metadata": {
        "id": "Usd0I7pgcKkn"
      },
      "outputs": [],
      "source": [
        "from sklearn.metrics.pairwise import cosine_similarity\n",
        "\n",
        "top_n = len(candidates)\n",
        "\n",
        "# 문서와 키워드간 유사도\n",
        "distances = cosine_similarity(candidate_embeddings,doc_embedding)\n",
        "\n",
        "# 키워드와 키워드간 유사도\n",
        "distances_candidates = cosine_similarity(candidate_embeddings)"
      ]
    },
    {
      "cell_type": "code",
      "execution_count": 31,
      "metadata": {
        "colab": {
          "base_uri": "https://localhost:8080/"
        },
        "id": "IZICQH_CcKko",
        "outputId": "f306abed-3fd3-4f32-8e7c-d128380fa1e9"
      },
      "outputs": [
        {
          "data": {
            "text/plain": [
              "((10000, 10069), (10000, 10000), 10000)"
            ]
          },
          "execution_count": 31,
          "metadata": {},
          "output_type": "execute_result"
        }
      ],
      "source": [
        "distances.shape, distances_candidates.shape, len(candidates) # candidates[index]"
      ]
    },
    {
      "cell_type": "code",
      "execution_count": 32,
      "metadata": {
        "id": "fzCaIljSkkGb"
      },
      "outputs": [],
      "source": [
        "word_doc_distances = cosine_similarity(candidate_embeddings,doc_embedding)\n",
        "word_distances = cosine_similarity(candidate_embeddings)"
      ]
    },
    {
      "cell_type": "code",
      "execution_count": null,
      "metadata": {},
      "outputs": [],
      "source": [
        "from sklearn.metrics.pairwise import cosine_similarity\n",
        "top_n = 1000\n",
        "diversity = 0.7\n",
        "\n",
        "def nonmmr(doc_embedding, candidate_embeddings, words, top_n, diversity):\n",
        "    word_doc_distances = cosine_similarity(candidate_embeddings,doc_embedding)\n",
        "    word_distances = cosine_similarity(candidate_embeddings) \n",
        "\n",
        "    keywords_idx = [np.argmax(word_doc_distances)]\n",
        "    candidates_idx = [i for i in range(len(candidates)) if i != keywords_idx[0]]\n",
        "\n",
        "    for _ in range(top_n-1):\n",
        "        # 후보 키워드들의 문서유사도 값\n",
        "        candidate_similarities = word_doc_distances[candidates_idx, :]\n",
        "        # 후보 키워드와 가장 유사한 키워드\n",
        "        target_similarities = np.max(word_distances[candidates_idx][:,keywords_idx], axis=1) \n",
        "\n",
        "        mmr = (1-diversity) * candidate_similarities - diversity * target_similarities.reshape(-1,1)\n",
        "        mmr_idx = candidates_idx[np.argmax(mmr)]\n",
        "\n",
        "        keywords_idx.append(mmr_idx)\n",
        "        candidates_idx.remove(mmr_idx)\n",
        "    # 본 단어 임베딩벡터에서 추출키워드에 해당하는 벡터만\n",
        "    keywords_vector = candidate_embeddings[keywords_idx][:] \n",
        "    keywords = [words[idx] for idx in keywords_idx]\n",
        "    \n",
        "    return keywords_vector, keywords"
      ]
    },
    {
      "cell_type": "code",
      "execution_count": 133,
      "metadata": {
        "colab": {
          "base_uri": "https://localhost:8080/"
        },
        "id": "dyLW10Metdvf",
        "outputId": "479fe3fc-cf48-4bc1-eb78-6aa497de4e0a"
      },
      "outputs": [
        {
          "data": {
            "text/plain": [
              "(array([[-0.00580319],\n",
              "        [-0.19800502],\n",
              "        [-0.01558762],\n",
              "        [-0.04957973],\n",
              "        [ 0.0070086 ],\n",
              "        [-0.16266811]], dtype=float32),\n",
              " (6, 1))"
            ]
          },
          "execution_count": 133,
          "metadata": {},
          "output_type": "execute_result"
        }
      ],
      "source": [
        "keywords_idx = [7,87,92]\n",
        "candidates_idx = [1,2,13,734,25,6]\n",
        "candidate_similarities = word_doc_distances[candidates_idx, :]\n",
        "candidate_similarities, candidate_similarities.shape # 후보키워드의 문서간유사도 벡터"
      ]
    },
    {
      "cell_type": "code",
      "execution_count": 84,
      "metadata": {
        "colab": {
          "base_uri": "https://localhost:8080/"
        },
        "id": "5h7lAnvKuv-7",
        "outputId": "31241e12-81a7-4a75-c7c0-8a3de5606127"
      },
      "outputs": [
        {
          "data": {
            "text/plain": [
              "array([[ 3.2524187e-02,  5.1560111e-02,  2.2039059e-01,  1.3396120e-01,\n",
              "        -1.4120573e-04],\n",
              "       [ 1.7449439e-01,  2.5826111e-01,  7.1534671e-02,  4.0343547e-01,\n",
              "         3.3822396e-01],\n",
              "       [ 1.4734800e-01,  1.9027355e-01,  2.1794148e-02,  3.4675038e-01,\n",
              "         3.8210323e-01],\n",
              "       [ 8.3954439e-02,  1.4057627e-01,  9.0675689e-02,  2.7277958e-01,\n",
              "         3.1519559e-01]], dtype=float32)"
            ]
          },
          "execution_count": 84,
          "metadata": {},
          "output_type": "execute_result"
        }
      ],
      "source": [
        "word_distances[candidates_idx][:,keywords_idx] # 후보키워드와 추출키워드의 유사도 벡터"
      ]
    },
    {
      "cell_type": "code",
      "execution_count": null,
      "metadata": {
        "colab": {
          "base_uri": "https://localhost:8080/"
        },
        "id": "aBR8ItfvtdnD",
        "outputId": "b8358af3-546d-4c33-df5e-723a0e77d8e9"
      },
      "outputs": [
        {
          "data": {
            "text/plain": [
              "(array([0.30213898, 0.0680101 , 0.21618617], dtype=float32), (3,))"
            ]
          },
          "execution_count": 70,
          "metadata": {},
          "output_type": "execute_result"
        }
      ],
      "source": [
        " target_similarities = np.max(word_distances[candidates_idx][:,keywords_idx], axis=1)\n",
        " target_similarities, target_similarities.shape # 후보키워드와 가장 유사한 추출 키워드 벡터"
      ]
    },
    {
      "cell_type": "code",
      "execution_count": null,
      "metadata": {
        "colab": {
          "base_uri": "https://localhost:8080/"
        },
        "id": "evVOzY1WvZkp",
        "outputId": "12548195-36e1-466a-b7c7-625fa1028294"
      },
      "outputs": [
        {
          "data": {
            "text/plain": [
              "(array([[-0.23494704],\n",
              "        [-0.00761976],\n",
              "        [-0.15552332]], dtype=float32), (3, 1))"
            ]
          },
          "execution_count": 73,
          "metadata": {},
          "output_type": "execute_result"
        }
      ],
      "source": [
        "mmr = (1-diversity) * candidate_similarities - diversity * target_similarities.reshape(-1,1)\n",
        "mmr,mmr.shape # mmr 계산을 통해 후보키워드에서 추출할 키워드 선정"
      ]
    },
    {
      "cell_type": "code",
      "execution_count": 149,
      "metadata": {
        "colab": {
          "base_uri": "https://localhost:8080/"
        },
        "id": "v_LERbJuUpI2",
        "outputId": "ddb674a8-b10a-4361-ff77-64fd3e727450"
      },
      "outputs": [
        {
          "name": "stdout",
          "output_type": "stream",
          "text": [
            "'lunar\n",
            "'letting\n",
            "'hotel\n",
            "'letting go' 'unselfish\n"
          ]
        }
      ],
      "source": [
        "for i in np.argsort(word_distances[candidates_idx][:,7])[:4]:\n",
        "    print(candidates[i])"
      ]
    },
    {
      "cell_type": "code",
      "execution_count": 150,
      "metadata": {
        "id": "GAcnpVEkXM8P"
      },
      "outputs": [],
      "source": [
        "similar_keys = []\n",
        "for i in keywords_idx:\n",
        "    temp = []\n",
        "    for j in np.argsort(word_distances[candidates_idx][:,i])[:4]:\n",
        "        temp.append(candidates[j])\n",
        "    similar_keys.append(temp)"
      ]
    },
    {
      "cell_type": "code",
      "execution_count": 151,
      "metadata": {
        "colab": {
          "base_uri": "https://localhost:8080/"
        },
        "id": "3l-e4C1xappy",
        "outputId": "eea3d52d-53c0-42f9-c155-0bf40df529e6"
      },
      "outputs": [
        {
          "name": "stdout",
          "output_type": "stream",
          "text": [
            "'lunar : [\"'counters'\", \"'letting\", \"'letting go'\", \"'hotel\"]\n",
            "'lunar water' : [\"'counters'\", \"'letting\", \"'letting go' 'unselfish\", \"'letting go'\"]\n",
            "'magical : [\"'lunar\", \"'letting\", \"'hotel\", \"'letting go' 'unselfish\"]\n"
          ]
        }
      ],
      "source": [
        "similar_keys = []\n",
        "for i in keywords_idx:\n",
        "    temp = []\n",
        "    for j in np.argsort(word_distances[candidates_idx][:,i])[:4]:\n",
        "        temp.append(candidates[j])\n",
        "    similar_keys.append(temp)\n",
        "for i, keys in enumerate(keywords_idx):\n",
        "    print(f'{candidates[keys]} : {similar_keys[i]}')\n"
      ]
    },
    {
      "cell_type": "code",
      "execution_count": 146,
      "metadata": {
        "colab": {
          "base_uri": "https://localhost:8080/"
        },
        "id": "tOV_jYRWQ8Dj",
        "outputId": "72d34f2e-4184-4058-e888-78700f27668c"
      },
      "outputs": [
        {
          "data": {
            "text/plain": [
              "array([[ 0.03252419,  0.05156011,  0.22039059],\n",
              "       [ 0.17449439,  0.2582611 ,  0.07153467],\n",
              "       [ 0.03501092,  0.09409308, -0.03085524],\n",
              "       [ 0.11034438,  0.10579221,  0.29284918],\n",
              "       [ 0.21789196,  0.09518174,  0.07269609],\n",
              "       [ 0.79727995,  0.9999997 , -0.0317032 ]], dtype=float32)"
            ]
          },
          "execution_count": 146,
          "metadata": {},
          "output_type": "execute_result"
        }
      ],
      "source": [
        "keywords_idx = [5,6,7]\n",
        "word_distances[candidates_idx][:,keywords_idx]\n",
        "np.sort(word_distances[candidates_idx][:,keywords_idx],axis=1)[:][:2]"
      ]
    },
    {
      "cell_type": "code",
      "execution_count": 105,
      "metadata": {
        "colab": {
          "base_uri": "https://localhost:8080/",
          "height": 35
        },
        "id": "rFk-bRiIQ-Dr",
        "outputId": "fb8ed22b-bd57-4a2d-8f1c-9bc60e0e0b11"
      },
      "outputs": [
        {
          "data": {
            "application/vnd.google.colaboratory.intrinsic+json": {
              "type": "string"
            },
            "text/plain": [
              "\"'magical\""
            ]
          },
          "execution_count": 105,
          "metadata": {},
          "output_type": "execute_result"
        }
      ],
      "source": [
        "candidates[7]"
      ]
    },
    {
      "cell_type": "markdown",
      "metadata": {
        "id": "76jk69hSc_ug"
      },
      "source": [
        "# 유사키워드 포함 추출하기"
      ]
    },
    {
      "cell_type": "code",
      "execution_count": 12,
      "metadata": {
        "id": "vh5BIz-JNYpI"
      },
      "outputs": [],
      "source": [
        "from sklearn.metrics.pairwise import cosine_similarity\n",
        "def mmrs(doc_embedding, candidate_embeddings, words, top_n, diversity):\n",
        "    word_doc_distances = cosine_similarity(candidate_embeddings,doc_embedding)\n",
        "    word_distances = cosine_similarity(candidate_embeddings) \n",
        "\n",
        "    keywords_idx = [np.argmax(word_doc_distances)]\n",
        "    candidates_idx = [i for i in range(len(candidates)) if i != keywords_idx[0]]\n",
        "\n",
        "    for _ in range(top_n-1):\n",
        "        # 후보 키워드들의 문서유사도 값\n",
        "        candidate_similarities = word_doc_distances[candidates_idx, :]\n",
        "        # 후보 키워드와 가장 유사한 키워드\n",
        "        target_similarities = np.max(word_distances[candidates_idx][:,keywords_idx], axis=1) \n",
        "\n",
        "        mmr = (1-diversity) * candidate_similarities - diversity * target_similarities.reshape(-1,1)\n",
        "        mmr_idx = candidates_idx[np.argmax(mmr)]\n",
        "\n",
        "        keywords_idx.append(mmr_idx)\n",
        "        candidates_idx.remove(mmr_idx)\n",
        "        \n",
        "        # 추출키워드와 유사한 키워드 추가\n",
        "    similar_keys = []\n",
        "    for i in keywords_idx:\n",
        "        temp = []\n",
        "        for j in np.argsort(word_distances[candidates_idx][:,i])[:top_n]:\n",
        "            temp.append(words[j])\n",
        "        similar_keys.append(temp)\n",
        "\n",
        "    # 본 단어 임베딩벡터에서 추출키워드에 해당하는 벡터만\n",
        "\n",
        "    keywords = [words[idx] for idx in keywords_idx]\n",
        "    \n",
        "    return keywords, similar_keys"
      ]
    },
    {
      "cell_type": "code",
      "execution_count": 13,
      "metadata": {
        "id": "pCUX7QfBNe_G"
      },
      "outputs": [],
      "source": [
        "keywords, similar_keys = mmrs(doc_embedding,candidate_embeddings,candidates,top_n=6,diversity=0.7)"
      ]
    },
    {
      "cell_type": "code",
      "execution_count": 14,
      "metadata": {
        "colab": {
          "base_uri": "https://localhost:8080/"
        },
        "id": "TVvdhGtgVxHG",
        "outputId": "5ccdf882-144d-4886-c211-20e3b2c07a84"
      },
      "outputs": [
        {
          "name": "stdout",
          "output_type": "stream",
          "text": [
            "Keywords and similar keys by cosine similarity\n",
            "excitement never stop : ['korean drama uncanny', 'wait see happen', 'korean drama silent', 'choose sacrificial lamb', 'etc set', 'rushed unfinished']\n",
            "english teacher : ['never fully', 'action adventure', 'rest time', 'whole watch', 'fight evil spirit', 'edge seat episode']\n",
            "sort buffy vampire : ['course main', 'cuz want', 'dad child', 'mean make', 'mean damn', \"i'm say drama\"]\n",
            "noodle catch evil : ['man prove powerful', 'look however', 'time pick', 'couple main sideline', 'return season', 'inhabitant realm exist']\n",
            "comatose teenager mun : ['sweet see', 'sweet romance', 'game spain actually', 'sweet home', 'sweet time', 'fictional city jungin']\n",
            "drama disappoint : ['future character', 'koo walk ethic', 'jump jang', 'future exchange', 'young hong pyo', 'somewhat similar']\n"
          ]
        }
      ],
      "source": [
        "print('Keywords and similar keys by cosine similarity')\n",
        "for i in range(len(keywords)):\n",
        "    print(f'{keywords[i]} : {similar_keys[i]}')"
      ]
    },
    {
      "cell_type": "markdown",
      "metadata": {
        "id": "rsW6mgMi4N71"
      },
      "source": [
        "# 코사인 유사도 함수"
      ]
    },
    {
      "cell_type": "code",
      "execution_count": 10,
      "metadata": {
        "id": "wIJ9WZpmlqlu"
      },
      "outputs": [],
      "source": [
        "from sklearn.metrics.pairwise import cosine_similarity\n",
        "top_n = 1000\n",
        "diversity = 0.7\n",
        "\n",
        "def mmr(doc_embedding, candidate_embeddings, words, top_n, diversity):\n",
        "    word_doc_distances = cosine_similarity(candidate_embeddings,doc_embedding)\n",
        "    word_distances = cosine_similarity(candidate_embeddings) \n",
        "\n",
        "    keywords_idx = [np.argmax(word_doc_distances)]\n",
        "    candidates_idx = [i for i in range(len(candidates)) if i != keywords_idx[0]]\n",
        "\n",
        "    for _ in range(top_n-1):\n",
        "        # 후보 키워드들의 문서유사도 값\n",
        "        candidate_similarities = word_doc_distances[candidates_idx, :]\n",
        "        # 후보 키워드와 가장 유사한 키워드\n",
        "        target_similarities = np.max(word_distances[candidates_idx][:,keywords_idx], axis=1) \n",
        "\n",
        "        mmr = (1-diversity) * candidate_similarities - diversity * target_similarities.reshape(-1,1)\n",
        "        mmr_idx = candidates_idx[np.argmax(mmr)]\n",
        "\n",
        "        keywords_idx.append(mmr_idx)\n",
        "        candidates_idx.remove(mmr_idx)\n",
        "    # 본 단어 임베딩벡터에서 추출키워드에 해당하는 벡터만\n",
        "    keywords_vector = candidate_embeddings[keywords_idx][:] \n",
        "    keywords = [words[idx] for idx in keywords_idx]\n",
        "    \n",
        "    return keywords_vector, keywords\n"
      ]
    },
    {
      "cell_type": "code",
      "execution_count": 26,
      "metadata": {
        "id": "zrZeLhwA0Kmx"
      },
      "outputs": [
        {
          "ename": "IndexError",
          "evalue": "index 220037 is out of bounds for axis 1 with size 10000",
          "output_type": "error",
          "traceback": [
            "\u001b[1;31m---------------------------------------------------------------------------\u001b[0m",
            "\u001b[1;31mIndexError\u001b[0m                                Traceback (most recent call last)",
            "\u001b[1;32m<ipython-input-26-ae2052eb29d1>\u001b[0m in \u001b[0;36m<module>\u001b[1;34m\u001b[0m\n\u001b[1;32m----> 1\u001b[1;33m \u001b[0mkeywords_vector\u001b[0m\u001b[1;33m,\u001b[0m \u001b[0mkeywords\u001b[0m \u001b[1;33m=\u001b[0m \u001b[0mmmr\u001b[0m\u001b[1;33m(\u001b[0m\u001b[0mdoc_embedding\u001b[0m\u001b[1;33m,\u001b[0m\u001b[0mcandidate_embeddings\u001b[0m\u001b[1;33m,\u001b[0m\u001b[0mcandidates\u001b[0m\u001b[1;33m,\u001b[0m\u001b[0mtop_n\u001b[0m\u001b[1;33m=\u001b[0m\u001b[1;36m500\u001b[0m\u001b[1;33m,\u001b[0m\u001b[0mdiversity\u001b[0m\u001b[1;33m=\u001b[0m\u001b[1;36m0.6\u001b[0m\u001b[1;33m)\u001b[0m\u001b[1;33m\u001b[0m\u001b[1;33m\u001b[0m\u001b[0m\n\u001b[0m",
            "\u001b[1;32m<ipython-input-10-4f8f91d77dee>\u001b[0m in \u001b[0;36mmmr\u001b[1;34m(doc_embedding, candidate_embeddings, words, top_n, diversity)\u001b[0m\n\u001b[0;32m     14\u001b[0m         \u001b[0mcandidate_similarities\u001b[0m \u001b[1;33m=\u001b[0m \u001b[0mword_doc_distances\u001b[0m\u001b[1;33m[\u001b[0m\u001b[0mcandidates_idx\u001b[0m\u001b[1;33m,\u001b[0m \u001b[1;33m:\u001b[0m\u001b[1;33m]\u001b[0m\u001b[1;33m\u001b[0m\u001b[1;33m\u001b[0m\u001b[0m\n\u001b[0;32m     15\u001b[0m         \u001b[1;31m# 후보 키워드와 가장 유사한 키워드\u001b[0m\u001b[1;33m\u001b[0m\u001b[1;33m\u001b[0m\u001b[1;33m\u001b[0m\u001b[0m\n\u001b[1;32m---> 16\u001b[1;33m         \u001b[0mtarget_similarities\u001b[0m \u001b[1;33m=\u001b[0m \u001b[0mnp\u001b[0m\u001b[1;33m.\u001b[0m\u001b[0mmax\u001b[0m\u001b[1;33m(\u001b[0m\u001b[0mword_distances\u001b[0m\u001b[1;33m[\u001b[0m\u001b[0mcandidates_idx\u001b[0m\u001b[1;33m]\u001b[0m\u001b[1;33m[\u001b[0m\u001b[1;33m:\u001b[0m\u001b[1;33m,\u001b[0m\u001b[0mkeywords_idx\u001b[0m\u001b[1;33m]\u001b[0m\u001b[1;33m,\u001b[0m \u001b[0maxis\u001b[0m\u001b[1;33m=\u001b[0m\u001b[1;36m1\u001b[0m\u001b[1;33m)\u001b[0m\u001b[1;33m\u001b[0m\u001b[1;33m\u001b[0m\u001b[0m\n\u001b[0m\u001b[0;32m     17\u001b[0m \u001b[1;33m\u001b[0m\u001b[0m\n\u001b[0;32m     18\u001b[0m         \u001b[0mmmr\u001b[0m \u001b[1;33m=\u001b[0m \u001b[1;33m(\u001b[0m\u001b[1;36m1\u001b[0m\u001b[1;33m-\u001b[0m\u001b[0mdiversity\u001b[0m\u001b[1;33m)\u001b[0m \u001b[1;33m*\u001b[0m \u001b[0mcandidate_similarities\u001b[0m \u001b[1;33m-\u001b[0m \u001b[0mdiversity\u001b[0m \u001b[1;33m*\u001b[0m \u001b[0mtarget_similarities\u001b[0m\u001b[1;33m.\u001b[0m\u001b[0mreshape\u001b[0m\u001b[1;33m(\u001b[0m\u001b[1;33m-\u001b[0m\u001b[1;36m1\u001b[0m\u001b[1;33m,\u001b[0m\u001b[1;36m1\u001b[0m\u001b[1;33m)\u001b[0m\u001b[1;33m\u001b[0m\u001b[1;33m\u001b[0m\u001b[0m\n",
            "\u001b[1;31mIndexError\u001b[0m: index 220037 is out of bounds for axis 1 with size 10000"
          ]
        }
      ],
      "source": [
        "keywords_vector, keywords = mmr(doc_embedding,candidate_embeddings,candidates,top_n=500,diversity=0.6)"
      ]
    },
    {
      "cell_type": "code",
      "execution_count": 16,
      "metadata": {
        "colab": {
          "base_uri": "https://localhost:8080/"
        },
        "id": "hHYkd2i803dm",
        "outputId": "5414c49a-9476-4b02-b487-11778f36a142"
      },
      "outputs": [
        {
          "data": {
            "text/plain": [
              "(500, 768)"
            ]
          },
          "execution_count": 16,
          "metadata": {},
          "output_type": "execute_result"
        }
      ],
      "source": [
        "keywords_vector.shape"
      ]
    },
    {
      "cell_type": "code",
      "execution_count": 119,
      "metadata": {},
      "outputs": [
        {
          "data": {
            "text/plain": [
              "['seo favorite',\n",
              " 'fight scene make',\n",
              " 'kdrama ive watch',\n",
              " 'supernatural phenomenon',\n",
              " 'disappoint drama',\n",
              " 'father also',\n",
              " 'power money',\n",
              " 'prison playbook',\n",
              " 'korean film making',\n",
              " 'teach lot']"
            ]
          },
          "execution_count": 119,
          "metadata": {},
          "output_type": "execute_result"
        }
      ],
      "source": [
        "keywords[:10]"
      ]
    },
    {
      "cell_type": "code",
      "execution_count": 24,
      "metadata": {
        "colab": {
          "base_uri": "https://localhost:8080/"
        },
        "id": "EkI_LLo9cKko",
        "outputId": "146fd432-4eaa-416f-9f19-35cd06f3f5a0"
      },
      "outputs": [
        {
          "name": "stdout",
          "output_type": "stream",
          "text": [
            "Top terms per cluster:\n",
            "[\n",
            "\"move building\",\"else show\",\"game organizer\",\"cast think\",\"craft show\",\"office late night\",\"plot character development\",\"dimensional character\",\"live action adaptation\",\"multiple episode\",\"episode hour long\",\"pacing show\",\"ensemble cast\",\"cast everything\",\"engage show\",\"development even\",\"agent station morocco\",\"impact story\",\"throw window\",\"social message\",],\n",
            "\n",
            "[\n",
            "\"apocalyptic show\",\"game parasite\",\"kill poor\",\"lady vengeance\",\"brutality game\",\"pure evil\",\"mutate monster\",\"never read webtoon\",\"lot people die\",\"lose entire family\",\"bad netflix\",\"away horror\",\"waste hour life\",\"anti capitalist\",\"monster roam\",\"protein monster\",\"others kill\",\"murder torture\",\"school violence\",\"boring game\",],\n",
            "\n",
            "[\n",
            "\"everyone love\",\"play huge\",\"kind game\",\"game live\",\"anyone read\",\"beautiful set\",\"easy kill\",\"cast everything\",\"battle survival\",\"development even\",\"game really think\",\"highly recommend show\",\"fit scene\",\"real people\",\"good fight\",\"plot make sense\",\"role perfectly\",\"money willing\",\"binge watch whole\",\"solid soundtrack\",],\n",
            "\n",
            "[\n",
            "\"drama however\",\"thriller end\",\"good horror drama\",\"suspense action\",\"drama mixed\",\"really enjoy drama\",\"script horrible\",\"story ridiculous\",\"overrate drama\",\"game deadly twist\",\"series disappoint\",\"drama deserve\",\"gratuitous violence\",\"fantasy horror\",\"drama perfect\",\"creepy smile\",\"emotionally drain\",\"sense dread\",\"storyline also\",\"thrilling emotional\",],\n",
            "\n",
            "[\n",
            "\"brother run\",\"nature show\",\"japanese game\",\"tug war game\",\"chef's kiss\",\"battle royale alice\",\"blue danube\",\"korean hunger\",\"cup tea\",\"archer girl\",\"renew second season\",\"classical music\",\"alice borderland hunger\",\"find food water\",\"hunger game maze\",\"train busan zombie\",\"korean drama always\",\"organ harvest\",\"sewol ferry\",\"piggy bank\",],\n",
            "\n",
            "[\n",
            "\"genre find\",\"scene light\",\"eye candy\",\"shi wan\",\"wonder show\",\"character cha\",\"find answer\",\"flesh character\",\"idea people\",\"even remotely\",\"get invest character\",\"aesthetic show\",\"personal preference\",\"think music\",\"edge seat show\",\"dimensional character\",\"faith humanity\",\"enjoy hope\",\"character flashback\",\"5th game\",],\n",
            "\n",
            "[\n",
            "\"really enjoy drama\",\"character enjoy\",\"interest story\",\"hype drama\",\"cast wonderful\",\"many annoy\",\"thrilling emotional\",\"even funny\",\"special effect story\",\"favorite scene\",\"drama deserve\",\"character mostly\",\"series addictive\",\"hearted people\",\"fan thriller\",\"story great acting\",\"good script\",\"dynamic character\",\"make care character\",\"drama unique\",],\n",
            "\n",
            "[\n",
            "\"sang wook\",\"drama friendship\",\"drama sweet home\",\"sweet home south\",\"sewol ferry\",\"love asian\",\"writer director hwang\",\"love actor\",\"soap opera\",\"copy cat\",\"poor actor\",\"scaredy cat\",\"massive fan korean\",\"high school drama\",\"korean hunger\",\"comedic relief\",\"korean series netflix\",\"song warrior\",\"taxi driver\",\"faith humanity\",],\n",
            "\n"
          ]
        }
      ],
      "source": [
        "from sklearn.cluster import KMeans\n",
        "from sklearn.metrics import adjusted_rand_score\n",
        "\n",
        "X = keywords_vector\n",
        "\n",
        "true_k = 8\n",
        "model = KMeans(n_clusters=true_k, init='k-means++', max_iter=100, n_init=1)\n",
        "model.fit(X.T)\n",
        "\n",
        "print(\"Top terms per cluster:\")\n",
        "order_centroids = model.cluster_centers_.argsort()[:, ::-1]\n",
        "terms = keywords # = candidates\n",
        "for i in range(true_k):\n",
        "    print(\"[\"),\n",
        "    for ind in order_centroids[i, :20]:\n",
        "        print(f'\"{terms[ind]}\"', end=\",\")\n",
        "    print(\"],\\n\")"
      ]
    },
    {
      "cell_type": "code",
      "execution_count": 23,
      "metadata": {
        "colab": {
          "base_uri": "https://localhost:8080/",
          "height": 347
        },
        "id": "Hcp43g99G8uQ",
        "outputId": "c6909ead-a4ce-4b14-9c95-a35121a3178f"
      },
      "outputs": [
        {
          "data": {
            "image/png": "[encoded data removed]",
            "text/plain": [
              "<Figure size 432x288 with 1 Axes>"
            ]
          },
          "metadata": {
            "needs_background": "light"
          },
          "output_type": "display_data"
        }
      ],
      "source": [
        "x = list(range(1,11))\n",
        "y = []\n",
        "for i in x:\n",
        "    model = KMeans(n_clusters=i, init='k-means++', max_iter=100, n_init=1)\n",
        "    model.fit(X.T)\n",
        "    y.append(model.inertia_)\n",
        "\n",
        "import matplotlib.pyplot as plt\n",
        "\n",
        "plt.plot(x,y,label='linear')\n",
        "plt.show();"
      ]
    },
    {
      "cell_type": "code",
      "execution_count": null,
      "metadata": {
        "id": "_489sUqS-4Ls"
      },
      "outputs": [],
      "source": []
    },
    {
      "cell_type": "code",
      "execution_count": null,
      "metadata": {},
      "outputs": [],
      "source": []
    },
    {
      "cell_type": "code",
      "execution_count": 16,
      "metadata": {},
      "outputs": [],
      "source": [
        "trl2=[[\n",
        "\"personally felt\",\"character enjoy\",\"plot make sense\",\"sense episode\",\"personality even\",\"enough screen time\",\"kind game\",\"series addictive\",\"leave lasting impression\",\"character mostly\",\"favorite scene\",\"average series\",\"game really think\",\"rave review\",\"suspense action\",\"play huge\",\"premise character\",\"easy kill\",\"good script\",\"far plot\",\"cast wonderful\",\"predictable sometimes\",\"good storytelling\",\"hearted people\",\"feeling series\",\"beautiful set\",\"character development well\",\"good excite\",\"cool story\",\"background score\"],\n",
        "\n",
        "[\n",
        "\"brother run\",\"tug war game\",\"cup tea\",\"korean hunger\",\"nature show\",\"blue danube\",\"japanese game\",\"chef's kiss\",\"alice borderland hunger\",\"korean drama always\",\"train busan zombie\",\"archer girl\",\"battle royale alice\",\"piggy bank\",\"classical music\",\"renew second season\",\"never read webtoon\",\"find food water\",\"school violence\",\"lord fly\",\"moon jo's\",\"hunger game maze\",\"move building\",\"sewol ferry\",\"western actor\",\"detective kang\",\"best kdramas\",\"taxi driver\",\"organ harvest\",\"political drama\"],\n",
        "\n",
        "[\n",
        "\"apocalyptic show\",\"brutality game\",\"monster roam\",\"pure evil\",\"show monster\",\"lot people die\",\"school violence\",\"mutate monster\",\"lady vengeance\",\"drama everyone\",\"attack titan\",\"big fan horror\",\"away horror\",\"lose entire family\",\"protein monster\",\"game parasite\",\"vip awful\",\"anti capitalist\",\"martial law\",\"asian horror\",\"fantasy horror\",\"spoil anything\",\"gratuitous violence\",\"gory scene\",\"never read webtoon\",\"human desperation\",\"devil judge\",\"crazy lady\",\"bad netflix\",\"murder torture\"],\n",
        "\n",
        "[\n",
        "\"faith humanity\",\"drama friendship\",\"chef's kiss\",\"sweet home south\",\"english dialogue\",\"love asian\",\"sang wook\",\"find food water\",\"copy cat\",\"read comic\",\"kind game\",\"comedic relief\",\"take breath\",\"love actor\",\"hard know trust\",\"sunshine goblin\",\"everyone love\",\"wrap completely\",\"blue danube\",\"predictable sometimes\",\"hearted people\",\"well write act\",\"hype train\",\"really understand people\",\"fit scene\",\"save brother\",\"great job character\",\"hand best\",\"best kdramas\",\"family friend\"],\n",
        "\n",
        "[\n",
        "\"hook story\",\"genre find\",\"special effect story\",\"get hooked\",\"drama squid\",\"actor story\",\"play mysterious\",\"character twist\",\"story humanity\",\"premise character\",\"engage show\",\"dimensional character\",\"scene light\",\"catch guard\",\"flesh character\",\"men mask\",\"try drama\",\"interest story\",\"flaw series\",\"character flashback\",\"bore enjoy\",\"study human\",\"act storyline\",\"scene drag\",\"steal show\",\"aspect series\",\"edge seat show\",\"needle say\",\"contain spoiler best\",\"plot character development\"],\n",
        "\n",
        "[\n",
        "\"really enjoy drama\",\"thrilling emotional\",\"cast wonderful\",\"drama perfect\",\"character enjoy\",\"drama deserve\",\"good storytelling\",\"story great acting\",\"good script\",\"cool story\",\"good graphic\",\"human scary\",\"power hungry\",\"series addictive\",\"favorite scene\",\"even funny\",\"drama however\",\"hearted people\",\"many annoy\",\"drama mixed\",\"nerve wrack\",\"good action drama\",\"leave lasting impression\",\"creepy smile\",\"overrate drama\",\"plot make sense\",\"dynamic character\",\"gratuitous violence\",\"suspense action\",\"love drama much\"]]"
      ]
    },
    {
      "cell_type": "code",
      "execution_count": null,
      "metadata": {},
      "outputs": [],
      "source": [
        "trl2"
      ]
    },
    {
      "cell_type": "code",
      "execution_count": null,
      "metadata": {},
      "outputs": [],
      "source": []
    }
  ],
  "metadata": {
    "accelerator": "GPU",
    "colab": {
      "collapsed_sections": [
        "FJI_C1zmcKkn"
      ],
      "name": "keyword&Kmeans.ipynb",
      "provenance": []
    },
    "interpreter": {
      "hash": "5d1185015da4ffa7ac966b843cf1b2aa0b72f05a29a69f5fe9173c667b919a88"
    },
    "kernelspec": {
      "display_name": "Python 3.7.11 ('jaeyeong')",
      "language": "python",
      "name": "python3"
    },
    "language_info": {
      "codemirror_mode": {
        "name": "ipython",
        "version": 3
      },
      "file_extension": ".py",
      "mimetype": "text/x-python",
      "name": "python",
      "nbconvert_exporter": "python",
      "pygments_lexer": "ipython3",
      "version": "3.7.11"
    },
    "orig_nbformat": 4
  },
  "nbformat": 4,
  "nbformat_minor": 0
}
